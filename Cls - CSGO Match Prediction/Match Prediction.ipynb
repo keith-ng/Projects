{
 "cells": [
  {
   "cell_type": "code",
   "execution_count": 1,
   "id": "7915190b",
   "metadata": {},
   "outputs": [],
   "source": [
    "import pandas as pd\n",
    "import numpy as np\n",
    "import datetime\n",
    "\n",
    "import math\n",
    "import seaborn as sns\n",
    "import matplotlib.pyplot as plt\n",
    "\n",
    "from sklearn.model_selection import train_test_split, cross_val_score, cross_val_predict\n",
    "from sklearn.linear_model import LogisticRegression\n",
    "from sklearn.neighbors import KNeighborsClassifier\n",
    "from sklearn.preprocessing import StandardScaler\n",
    "from sklearn.metrics import confusion_matrix, plot_confusion_matrix, accuracy_score, plot_roc_curve, roc_auc_score, recall_score, precision_score, f1_score\n",
    "from sklearn.pipeline import Pipeline\n",
    "from sklearn.model_selection import GridSearchCV\n",
    "from sklearn.ensemble import RandomForestClassifier,AdaBoostClassifier,GradientBoostingClassifier\n",
    "from sklearn.svm import SVC"
   ]
  },
  {
   "cell_type": "code",
   "execution_count": 2,
   "id": "fc940693",
   "metadata": {},
   "outputs": [],
   "source": [
    "team = 'Ninjas in Pyjamas'"
   ]
  },
  {
   "cell_type": "code",
   "execution_count": 3,
   "id": "b14e8800",
   "metadata": {},
   "outputs": [],
   "source": [
    "results = pd.read_csv('results_info.csv')\n",
    "events = pd.read_csv('events_info.csv')\n",
    "ranks = pd.read_csv('rank_info.csv')"
   ]
  },
  {
   "cell_type": "markdown",
   "id": "0e772756",
   "metadata": {},
   "source": [
    "### Create a copy & preprocess results data"
   ]
  },
  {
   "cell_type": "code",
   "execution_count": 4,
   "id": "f28a11ce",
   "metadata": {},
   "outputs": [
    {
     "data": {
      "text/html": [
       "<div>\n",
       "<style scoped>\n",
       "    .dataframe tbody tr th:only-of-type {\n",
       "        vertical-align: middle;\n",
       "    }\n",
       "\n",
       "    .dataframe tbody tr th {\n",
       "        vertical-align: top;\n",
       "    }\n",
       "\n",
       "    .dataframe thead th {\n",
       "        text-align: right;\n",
       "    }\n",
       "</style>\n",
       "<table border=\"1\" class=\"dataframe\">\n",
       "  <thead>\n",
       "    <tr style=\"text-align: right;\">\n",
       "      <th></th>\n",
       "      <th>Unnamed: 0</th>\n",
       "      <th>date</th>\n",
       "      <th>event</th>\n",
       "      <th>map</th>\n",
       "      <th>team_1</th>\n",
       "      <th>team_2</th>\n",
       "    </tr>\n",
       "  </thead>\n",
       "  <tbody>\n",
       "    <tr>\n",
       "      <th>0</th>\n",
       "      <td>0</td>\n",
       "      <td>2022-10-24</td>\n",
       "      <td>CCT North Europe Series 1</td>\n",
       "      <td>['Ancient']</td>\n",
       "      <td>Entropiq (14)</td>\n",
       "      <td>1WIN (16)</td>\n",
       "    </tr>\n",
       "    <tr>\n",
       "      <th>1</th>\n",
       "      <td>1</td>\n",
       "      <td>2022-10-24</td>\n",
       "      <td>CCT Central Europe Series 3</td>\n",
       "      <td>['Vertigo']</td>\n",
       "      <td>ECLOT (16)</td>\n",
       "      <td>FTW (12)</td>\n",
       "    </tr>\n",
       "    <tr>\n",
       "      <th>2</th>\n",
       "      <td>2</td>\n",
       "      <td>2022-10-24</td>\n",
       "      <td>CCT Central Europe Series 3</td>\n",
       "      <td>['Inferno']</td>\n",
       "      <td>FTW (16)</td>\n",
       "      <td>ECLOT (14)</td>\n",
       "    </tr>\n",
       "    <tr>\n",
       "      <th>3</th>\n",
       "      <td>3</td>\n",
       "      <td>2022-10-24</td>\n",
       "      <td>WePlay Academy League Season 6</td>\n",
       "      <td>['Mirage']</td>\n",
       "      <td>Flames Ascent (10)</td>\n",
       "      <td>MOUZ NXT (16)</td>\n",
       "    </tr>\n",
       "    <tr>\n",
       "      <th>4</th>\n",
       "      <td>4</td>\n",
       "      <td>2022-10-24</td>\n",
       "      <td>CCT Central Europe Series 3</td>\n",
       "      <td>['Nuke']</td>\n",
       "      <td>SC (6)</td>\n",
       "      <td>HAVU (16)</td>\n",
       "    </tr>\n",
       "  </tbody>\n",
       "</table>\n",
       "</div>"
      ],
      "text/plain": [
       "   Unnamed: 0        date                           event          map  \\\n",
       "0           0  2022-10-24       CCT North Europe Series 1  ['Ancient']   \n",
       "1           1  2022-10-24     CCT Central Europe Series 3  ['Vertigo']   \n",
       "2           2  2022-10-24     CCT Central Europe Series 3  ['Inferno']   \n",
       "3           3  2022-10-24  WePlay Academy League Season 6   ['Mirage']   \n",
       "4           4  2022-10-24     CCT Central Europe Series 3     ['Nuke']   \n",
       "\n",
       "               team_1         team_2  \n",
       "0       Entropiq (14)      1WIN (16)  \n",
       "1          ECLOT (16)       FTW (12)  \n",
       "2            FTW (16)     ECLOT (14)  \n",
       "3  Flames Ascent (10)  MOUZ NXT (16)  \n",
       "4              SC (6)      HAVU (16)  "
      ]
     },
     "execution_count": 4,
     "metadata": {},
     "output_type": "execute_result"
    }
   ],
   "source": [
    "df = results\n",
    "df.head()"
   ]
  },
  {
   "cell_type": "code",
   "execution_count": 5,
   "id": "38995343",
   "metadata": {},
   "outputs": [],
   "source": [
    "# drop index col\n",
    "df = df.drop(columns=['Unnamed: 0'])\n",
    "events = events.drop(columns=['Unnamed: 0'])\n",
    "ranks = ranks.drop(columns=['Unnamed: 0'])"
   ]
  },
  {
   "cell_type": "code",
   "execution_count": 6,
   "id": "24aec315",
   "metadata": {},
   "outputs": [
    {
     "name": "stderr",
     "output_type": "stream",
     "text": [
      "C:\\Users\\assau\\AppData\\Local\\Temp\\ipykernel_9120\\4058779900.py:5: FutureWarning: Series.dt.weekofyear and Series.dt.week have been deprecated.  Please use Series.dt.isocalendar().week instead.\n",
      "  df['week'] = df.date.dt.week\n"
     ]
    }
   ],
   "source": [
    "# split date column into relevant time features\n",
    "df.date=pd.to_datetime(df.date, format=\"%Y/%m/%d\")\n",
    "\n",
    "# df['day'] = df.date.dt.day\n",
    "df['week'] = df.date.dt.week\n",
    "df['month'] = df.date.dt.month\n",
    "df['year'] = df.date.dt.year\n",
    "\n",
    "# # drop date column\n",
    "# df = df.drop(columns=['date'])"
   ]
  },
  {
   "cell_type": "code",
   "execution_count": 7,
   "id": "9daf0a79",
   "metadata": {},
   "outputs": [],
   "source": [
    "# clean map column\n",
    "df['map'] = df['map'].str.strip(\"[]'\")"
   ]
  },
  {
   "cell_type": "code",
   "execution_count": 8,
   "id": "13dd598c",
   "metadata": {},
   "outputs": [],
   "source": [
    "# split team 1 and team 2 columns\n",
    "df[['team1_name', 'team1_score']] = df['team_1'].str.split('(', 1, expand=True)\n",
    "df['team1_name'] = df['team1_name'].str.strip(\" \")\n",
    "df['team1_score'] = df['team1_score'].str.strip(\")\")\n",
    "df[['team2_name', 'team2_score']] = df['team_2'].str.split('(', 1, expand=True)\n",
    "df['team2_name'] = df['team2_name'].str.strip(\" \")\n",
    "df['team2_score'] = df['team2_score'].str.strip(\")\")\n",
    "\n",
    "# drop raw columns\n",
    "df = df.drop(columns=['team_1', 'team_2'])"
   ]
  },
  {
   "cell_type": "code",
   "execution_count": 9,
   "id": "3a6f03f3",
   "metadata": {},
   "outputs": [],
   "source": [
    "# change datatype of column after splitting\n",
    "df['week'] = df['week'].astype(int)\n",
    "df['month'] = df['month'].astype(int)\n",
    "df['year'] = df['year'].astype(int)\n",
    "df['team1_score'] = df['team1_score'].astype(int)\n",
    "df['team2_score'] = df['team2_score'].astype(int)"
   ]
  },
  {
   "cell_type": "code",
   "execution_count": 10,
   "id": "f566095b",
   "metadata": {},
   "outputs": [],
   "source": [
    "# function to determine winner\n",
    "def winner(row):\n",
    "    if row['team1_score'] > row['team2_score']:\n",
    "        val = row['team1_name']\n",
    "    else:\n",
    "        val = row['team2_name']\n",
    "    return val"
   ]
  },
  {
   "cell_type": "code",
   "execution_count": 11,
   "id": "c72d62bf",
   "metadata": {},
   "outputs": [
    {
     "data": {
      "text/html": [
       "<div>\n",
       "<style scoped>\n",
       "    .dataframe tbody tr th:only-of-type {\n",
       "        vertical-align: middle;\n",
       "    }\n",
       "\n",
       "    .dataframe tbody tr th {\n",
       "        vertical-align: top;\n",
       "    }\n",
       "\n",
       "    .dataframe thead th {\n",
       "        text-align: right;\n",
       "    }\n",
       "</style>\n",
       "<table border=\"1\" class=\"dataframe\">\n",
       "  <thead>\n",
       "    <tr style=\"text-align: right;\">\n",
       "      <th></th>\n",
       "      <th>date</th>\n",
       "      <th>event</th>\n",
       "      <th>map</th>\n",
       "      <th>week</th>\n",
       "      <th>month</th>\n",
       "      <th>year</th>\n",
       "      <th>team1_name</th>\n",
       "      <th>team1_score</th>\n",
       "      <th>team2_name</th>\n",
       "      <th>team2_score</th>\n",
       "      <th>winner</th>\n",
       "    </tr>\n",
       "  </thead>\n",
       "  <tbody>\n",
       "    <tr>\n",
       "      <th>0</th>\n",
       "      <td>2022-10-24</td>\n",
       "      <td>CCT North Europe Series 1</td>\n",
       "      <td>Ancient</td>\n",
       "      <td>43</td>\n",
       "      <td>10</td>\n",
       "      <td>2022</td>\n",
       "      <td>Entropiq</td>\n",
       "      <td>14</td>\n",
       "      <td>1WIN</td>\n",
       "      <td>16</td>\n",
       "      <td>1WIN</td>\n",
       "    </tr>\n",
       "    <tr>\n",
       "      <th>1</th>\n",
       "      <td>2022-10-24</td>\n",
       "      <td>CCT Central Europe Series 3</td>\n",
       "      <td>Vertigo</td>\n",
       "      <td>43</td>\n",
       "      <td>10</td>\n",
       "      <td>2022</td>\n",
       "      <td>ECLOT</td>\n",
       "      <td>16</td>\n",
       "      <td>FTW</td>\n",
       "      <td>12</td>\n",
       "      <td>ECLOT</td>\n",
       "    </tr>\n",
       "    <tr>\n",
       "      <th>2</th>\n",
       "      <td>2022-10-24</td>\n",
       "      <td>CCT Central Europe Series 3</td>\n",
       "      <td>Inferno</td>\n",
       "      <td>43</td>\n",
       "      <td>10</td>\n",
       "      <td>2022</td>\n",
       "      <td>FTW</td>\n",
       "      <td>16</td>\n",
       "      <td>ECLOT</td>\n",
       "      <td>14</td>\n",
       "      <td>FTW</td>\n",
       "    </tr>\n",
       "  </tbody>\n",
       "</table>\n",
       "</div>"
      ],
      "text/plain": [
       "        date                        event      map  week  month  year  \\\n",
       "0 2022-10-24    CCT North Europe Series 1  Ancient    43     10  2022   \n",
       "1 2022-10-24  CCT Central Europe Series 3  Vertigo    43     10  2022   \n",
       "2 2022-10-24  CCT Central Europe Series 3  Inferno    43     10  2022   \n",
       "\n",
       "  team1_name  team1_score team2_name  team2_score winner  \n",
       "0   Entropiq           14       1WIN           16   1WIN  \n",
       "1      ECLOT           16        FTW           12  ECLOT  \n",
       "2        FTW           16      ECLOT           14    FTW  "
      ]
     },
     "execution_count": 11,
     "metadata": {},
     "output_type": "execute_result"
    }
   ],
   "source": [
    "# create feature 'winner'\n",
    "df['winner'] = df.apply(winner, axis=1)\n",
    "df.head(3)"
   ]
  },
  {
   "cell_type": "code",
   "execution_count": 12,
   "id": "1e2b3caa",
   "metadata": {},
   "outputs": [],
   "source": [
    "# ## Discontinued due to poor performance\n",
    "\n",
    "# # create feature days since\n",
    "# today = datetime.date.today()\n",
    "\n",
    "# def ds(row):\n",
    "#     val = today - row['date'].date()\n",
    "#     return val\n",
    "\n",
    "# df['days_since'] = df.apply(ds, axis=1)\n",
    "# df['days_since'] = df['days_since'].astype(str)\n",
    "# df['days_since'] = df['days_since'].map(lambda x: x.rstrip(' days'))"
   ]
  },
  {
   "cell_type": "code",
   "execution_count": 13,
   "id": "bbcab030",
   "metadata": {},
   "outputs": [],
   "source": [
    "# drop duplicates\n",
    "df.drop_duplicates(inplace=True)"
   ]
  },
  {
   "cell_type": "markdown",
   "id": "35c9a7cb",
   "metadata": {},
   "source": [
    "### Merge with event details"
   ]
  },
  {
   "cell_type": "code",
   "execution_count": 14,
   "id": "7cc52ab1",
   "metadata": {},
   "outputs": [],
   "source": [
    "# add event details\n",
    "df = df.merge(events, how='left', on='event')"
   ]
  },
  {
   "cell_type": "code",
   "execution_count": 15,
   "id": "77c5472f",
   "metadata": {},
   "outputs": [],
   "source": [
    "# drop unwanted columns - undo if want duration of tourney\n",
    "df = df.drop(columns=['start_end'])"
   ]
  },
  {
   "cell_type": "code",
   "execution_count": 16,
   "id": "bfaf7ac1",
   "metadata": {},
   "outputs": [
    {
     "data": {
      "text/html": [
       "<div>\n",
       "<style scoped>\n",
       "    .dataframe tbody tr th:only-of-type {\n",
       "        vertical-align: middle;\n",
       "    }\n",
       "\n",
       "    .dataframe tbody tr th {\n",
       "        vertical-align: top;\n",
       "    }\n",
       "\n",
       "    .dataframe thead th {\n",
       "        text-align: right;\n",
       "    }\n",
       "</style>\n",
       "<table border=\"1\" class=\"dataframe\">\n",
       "  <thead>\n",
       "    <tr style=\"text-align: right;\">\n",
       "      <th></th>\n",
       "      <th>date</th>\n",
       "      <th>event</th>\n",
       "      <th>map</th>\n",
       "      <th>week</th>\n",
       "      <th>month</th>\n",
       "      <th>year</th>\n",
       "      <th>team1_name</th>\n",
       "      <th>team1_score</th>\n",
       "      <th>team2_name</th>\n",
       "      <th>team2_score</th>\n",
       "      <th>winner</th>\n",
       "      <th>num_teams</th>\n",
       "      <th>prize</th>\n",
       "      <th>type</th>\n",
       "      <th>region</th>\n",
       "    </tr>\n",
       "  </thead>\n",
       "  <tbody>\n",
       "    <tr>\n",
       "      <th>0</th>\n",
       "      <td>2022-10-24</td>\n",
       "      <td>CCT North Europe Series 1</td>\n",
       "      <td>Ancient</td>\n",
       "      <td>43</td>\n",
       "      <td>10</td>\n",
       "      <td>2022</td>\n",
       "      <td>Entropiq</td>\n",
       "      <td>14</td>\n",
       "      <td>1WIN</td>\n",
       "      <td>16</td>\n",
       "      <td>1WIN</td>\n",
       "      <td>24</td>\n",
       "      <td>$50,000</td>\n",
       "      <td>Online</td>\n",
       "      <td>Europe (Online) |</td>\n",
       "    </tr>\n",
       "    <tr>\n",
       "      <th>1</th>\n",
       "      <td>2022-10-24</td>\n",
       "      <td>CCT North Europe Series 1</td>\n",
       "      <td>Ancient</td>\n",
       "      <td>43</td>\n",
       "      <td>10</td>\n",
       "      <td>2022</td>\n",
       "      <td>Entropiq</td>\n",
       "      <td>14</td>\n",
       "      <td>1WIN</td>\n",
       "      <td>16</td>\n",
       "      <td>1WIN</td>\n",
       "      <td>24</td>\n",
       "      <td>$50,000</td>\n",
       "      <td>Online</td>\n",
       "      <td>Europe (Online) |</td>\n",
       "    </tr>\n",
       "    <tr>\n",
       "      <th>2</th>\n",
       "      <td>2022-10-24</td>\n",
       "      <td>CCT Central Europe Series 3</td>\n",
       "      <td>Vertigo</td>\n",
       "      <td>43</td>\n",
       "      <td>10</td>\n",
       "      <td>2022</td>\n",
       "      <td>ECLOT</td>\n",
       "      <td>16</td>\n",
       "      <td>FTW</td>\n",
       "      <td>12</td>\n",
       "      <td>ECLOT</td>\n",
       "      <td>24</td>\n",
       "      <td>$50,000</td>\n",
       "      <td>Online</td>\n",
       "      <td>Europe (Online) |</td>\n",
       "    </tr>\n",
       "  </tbody>\n",
       "</table>\n",
       "</div>"
      ],
      "text/plain": [
       "        date                        event      map  week  month  year  \\\n",
       "0 2022-10-24    CCT North Europe Series 1  Ancient    43     10  2022   \n",
       "1 2022-10-24    CCT North Europe Series 1  Ancient    43     10  2022   \n",
       "2 2022-10-24  CCT Central Europe Series 3  Vertigo    43     10  2022   \n",
       "\n",
       "  team1_name  team1_score team2_name  team2_score winner num_teams    prize  \\\n",
       "0   Entropiq           14       1WIN           16   1WIN        24  $50,000   \n",
       "1   Entropiq           14       1WIN           16   1WIN        24  $50,000   \n",
       "2      ECLOT           16        FTW           12  ECLOT        24  $50,000   \n",
       "\n",
       "     type             region  \n",
       "0  Online  Europe (Online) |  \n",
       "1  Online  Europe (Online) |  \n",
       "2  Online  Europe (Online) |  "
      ]
     },
     "execution_count": 16,
     "metadata": {},
     "output_type": "execute_result"
    }
   ],
   "source": [
    "df.head(3)"
   ]
  },
  {
   "cell_type": "code",
   "execution_count": 17,
   "id": "dada0587",
   "metadata": {},
   "outputs": [],
   "source": [
    "### convert prize column appropriately\n",
    "# reflect qualification as prize\n",
    "df['prize_qual'] = df['prize']\n",
    "\n",
    "def qual(row):\n",
    "    if row['prize_qual'] == 'Other':\n",
    "        val = 1\n",
    "    else:\n",
    "        val = 0\n",
    "    return val\n",
    "\n",
    "df['prize_qual'] = df.apply(qual, axis=1)"
   ]
  },
  {
   "cell_type": "code",
   "execution_count": 18,
   "id": "1e3b35bd",
   "metadata": {},
   "outputs": [],
   "source": [
    "# reflect money as prize\n",
    "df['prize'] = df['prize'].str.strip('$')\n",
    "df['prize'] = df['prize'].str.replace(',', '')\n",
    "\n",
    "def prize(row):\n",
    "    if row['prize'] == 'Other':\n",
    "        val = 0\n",
    "    else:\n",
    "        val = row['prize']\n",
    "    return val\n",
    "\n",
    "df['prize'] = df.apply(prize, axis=1)\n",
    "\n",
    "df['prize'] = df['prize'].astype(float)"
   ]
  },
  {
   "cell_type": "code",
   "execution_count": 19,
   "id": "4eac28da",
   "metadata": {},
   "outputs": [],
   "source": [
    "# create feature premium to represent tournament\n",
    "keywords = ['IEM', 'ESL', 'BLAST']\n",
    "\n",
    "# function\n",
    "def prem(row):\n",
    "    if any(word in row['event'] for word in keywords):\n",
    "        val = 1\n",
    "    else:\n",
    "        val = 0\n",
    "    return val\n",
    "    \n",
    "df['premium'] = df.apply(prem, axis=1)    "
   ]
  },
  {
   "cell_type": "code",
   "execution_count": 20,
   "id": "abe67f90",
   "metadata": {},
   "outputs": [
    {
     "data": {
      "text/plain": [
       "array(['Online', 'Local LAN', 'Reg. LAN', nan, 'Intl. LAN', 'Major'],\n",
       "      dtype=object)"
      ]
     },
     "execution_count": 20,
     "metadata": {},
     "output_type": "execute_result"
    }
   ],
   "source": [
    "# understanding the different classification types\n",
    "temp = df['type'].unique()\n",
    "temp"
   ]
  },
  {
   "cell_type": "code",
   "execution_count": 21,
   "id": "4bc6e257",
   "metadata": {},
   "outputs": [],
   "source": [
    "# function to rename tournament types, use try because of ongoing events\n",
    "def tournament_type(row):\n",
    "    if row['type'] != 'Online':\n",
    "        val = 1\n",
    "    else:\n",
    "        val = 0\n",
    "    return val\n",
    "\n",
    "df['lan'] = df.apply(tournament_type, axis=1)\n",
    "\n",
    "# drop initial column\n",
    "df = df.drop(columns=['type'])"
   ]
  },
  {
   "cell_type": "code",
   "execution_count": 22,
   "id": "652e8d6d",
   "metadata": {},
   "outputs": [
    {
     "name": "stderr",
     "output_type": "stream",
     "text": [
      "C:\\Users\\assau\\AppData\\Local\\Temp\\ipykernel_9120\\2556089188.py:2: FutureWarning: The default value of regex will change from True to False in a future version. In addition, single character regular expressions will *not* be treated as literal strings when regex=True.\n",
      "  df['num_teams'] = df['num_teams'].str.replace('+', '')\n"
     ]
    }
   ],
   "source": [
    "# clean num_teams col\n",
    "df['num_teams'] = df['num_teams'].str.replace('+', '')"
   ]
  },
  {
   "cell_type": "code",
   "execution_count": 23,
   "id": "2d8ab2f6",
   "metadata": {},
   "outputs": [],
   "source": [
    "# drop final unwanted columns\n",
    "df = df.drop(columns=['region'])"
   ]
  },
  {
   "cell_type": "markdown",
   "id": "443d6672",
   "metadata": {},
   "source": [
    "### Cleaning ranks data"
   ]
  },
  {
   "cell_type": "code",
   "execution_count": 24,
   "id": "f78d85f9",
   "metadata": {},
   "outputs": [
    {
     "data": {
      "text/html": [
       "<div>\n",
       "<style scoped>\n",
       "    .dataframe tbody tr th:only-of-type {\n",
       "        vertical-align: middle;\n",
       "    }\n",
       "\n",
       "    .dataframe tbody tr th {\n",
       "        vertical-align: top;\n",
       "    }\n",
       "\n",
       "    .dataframe thead th {\n",
       "        text-align: right;\n",
       "    }\n",
       "</style>\n",
       "<table border=\"1\" class=\"dataframe\">\n",
       "  <thead>\n",
       "    <tr style=\"text-align: right;\">\n",
       "      <th></th>\n",
       "      <th>Unnamed: 0.1</th>\n",
       "      <th>Unnamed: 0.1.1</th>\n",
       "      <th>team</th>\n",
       "      <th>points</th>\n",
       "      <th>players</th>\n",
       "      <th>date_start</th>\n",
       "    </tr>\n",
       "  </thead>\n",
       "  <tbody>\n",
       "    <tr>\n",
       "      <th>0</th>\n",
       "      <td>0.0</td>\n",
       "      <td>0.0</td>\n",
       "      <td>['Liquid']</td>\n",
       "      <td>['(707 points)']</td>\n",
       "      <td>['nitr0', 'NAF', 'EliGE', 'oSee', 'YEKINDAR']</td>\n",
       "      <td>24/10/2022</td>\n",
       "    </tr>\n",
       "    <tr>\n",
       "      <th>1</th>\n",
       "      <td>1.0</td>\n",
       "      <td>1.0</td>\n",
       "      <td>['Nouns']</td>\n",
       "      <td>['(39 points)']</td>\n",
       "      <td>['cynic', 'Bwills', 'cxzi', 'nosraC', 'jeorges...</td>\n",
       "      <td>24/10/2022</td>\n",
       "    </tr>\n",
       "    <tr>\n",
       "      <th>2</th>\n",
       "      <td>2.0</td>\n",
       "      <td>2.0</td>\n",
       "      <td>['EG White']</td>\n",
       "      <td>['(30 points)']</td>\n",
       "      <td>['djay', 'Jonji', 'ben1337', 'PwnAlone', 'viz']</td>\n",
       "      <td>24/10/2022</td>\n",
       "    </tr>\n",
       "    <tr>\n",
       "      <th>3</th>\n",
       "      <td>3.0</td>\n",
       "      <td>3.0</td>\n",
       "      <td>['EG Black']</td>\n",
       "      <td>['(23 points)']</td>\n",
       "      <td>['RUSH', 'stanislaw', 'Walco', 'wiz', 'chop']</td>\n",
       "      <td>24/10/2022</td>\n",
       "    </tr>\n",
       "    <tr>\n",
       "      <th>4</th>\n",
       "      <td>4.0</td>\n",
       "      <td>4.0</td>\n",
       "      <td>['Iron Blood']</td>\n",
       "      <td>['(21 points)']</td>\n",
       "      <td>['droid', 'shane', 'dare', 'snav', 'intra']</td>\n",
       "      <td>24/10/2022</td>\n",
       "    </tr>\n",
       "  </tbody>\n",
       "</table>\n",
       "</div>"
      ],
      "text/plain": [
       "   Unnamed: 0.1  Unnamed: 0.1.1            team            points  \\\n",
       "0           0.0             0.0      ['Liquid']  ['(707 points)']   \n",
       "1           1.0             1.0       ['Nouns']   ['(39 points)']   \n",
       "2           2.0             2.0    ['EG White']   ['(30 points)']   \n",
       "3           3.0             3.0    ['EG Black']   ['(23 points)']   \n",
       "4           4.0             4.0  ['Iron Blood']   ['(21 points)']   \n",
       "\n",
       "                                             players  date_start  \n",
       "0      ['nitr0', 'NAF', 'EliGE', 'oSee', 'YEKINDAR']  24/10/2022  \n",
       "1  ['cynic', 'Bwills', 'cxzi', 'nosraC', 'jeorges...  24/10/2022  \n",
       "2    ['djay', 'Jonji', 'ben1337', 'PwnAlone', 'viz']  24/10/2022  \n",
       "3      ['RUSH', 'stanislaw', 'Walco', 'wiz', 'chop']  24/10/2022  \n",
       "4        ['droid', 'shane', 'dare', 'snav', 'intra']  24/10/2022  "
      ]
     },
     "execution_count": 24,
     "metadata": {},
     "output_type": "execute_result"
    }
   ],
   "source": [
    "ranks.head()"
   ]
  },
  {
   "cell_type": "code",
   "execution_count": 25,
   "id": "55191a14",
   "metadata": {},
   "outputs": [],
   "source": [
    "# strip clean valuable columns\n",
    "ranks['team'] = ranks['team'].str.strip(\"[]'\")\n",
    "ranks['points'] = ranks['points'].str.strip(\"[(points)]' \")\n",
    "# change dtype since its a str\n",
    "ranks['points'] = ranks['points'].astype(int)"
   ]
  },
  {
   "cell_type": "code",
   "execution_count": 26,
   "id": "399bf839",
   "metadata": {},
   "outputs": [
    {
     "name": "stderr",
     "output_type": "stream",
     "text": [
      "C:\\Users\\assau\\AppData\\Local\\Temp\\ipykernel_9120\\2371287148.py:3: FutureWarning: Series.dt.weekofyear and Series.dt.week have been deprecated.  Please use Series.dt.isocalendar().week instead.\n",
      "  ranks['week'] = ranks.date_start.dt.week\n"
     ]
    }
   ],
   "source": [
    "# create week column to match to main df\n",
    "ranks.date_start=pd.to_datetime(ranks.date_start, format=\"%d/%m/%Y\")\n",
    "ranks['week'] = ranks.date_start.dt.week\n",
    "ranks['year'] = ranks.date_start.dt.year"
   ]
  },
  {
   "cell_type": "code",
   "execution_count": 27,
   "id": "bfe0ea94",
   "metadata": {},
   "outputs": [
    {
     "data": {
      "text/plain": [
       "Unnamed: 0.1             float64\n",
       "Unnamed: 0.1.1           float64\n",
       "team                      object\n",
       "points                     int32\n",
       "players                   object\n",
       "date_start        datetime64[ns]\n",
       "week                       int64\n",
       "year                       int64\n",
       "dtype: object"
      ]
     },
     "execution_count": 27,
     "metadata": {},
     "output_type": "execute_result"
    }
   ],
   "source": [
    "ranks.dtypes"
   ]
  },
  {
   "cell_type": "code",
   "execution_count": 28,
   "id": "bed45f59",
   "metadata": {},
   "outputs": [],
   "source": [
    "# function to pull ranking points\n",
    "def opp_points(row):\n",
    "    opponent = row['opp']\n",
    "    year = row['year']\n",
    "    week = row['week']\n",
    "    try:\n",
    "        val = ranks.loc[(ranks['week'] == week) & (ranks['year'] == year) & (ranks['team'] == opponent)]['points'].values[0]\n",
    "        return val\n",
    "    except:\n",
    "        return None\n",
    "    \n",
    "# def points_diff(row):\n",
    "#     year = row['year']\n",
    "#     week = row['week']\n",
    "#     try:\n",
    "#         val = ranks.loc[(ranks['week'] == week) & (ranks['year'] == year) & (ranks['team'] == team)]['points'].values[0] - row['opp_points']\n",
    "#         return val\n",
    "#     except:\n",
    "#         return None\n",
    "\n",
    "def points_diff(row):\n",
    "    year = row['year']\n",
    "    week = row['week']\n",
    "    val = ranks.loc[(ranks['week'] == week) & (ranks['year'] == year) & (ranks['team'] == team)]['points'].values[0] - row['opp_points']\n",
    "    return val\n",
    " "
   ]
  },
  {
   "cell_type": "code",
   "execution_count": 29,
   "id": "32611266",
   "metadata": {},
   "outputs": [],
   "source": [
    "# change dtypes\n",
    "# df['days_since'] = df['days_since'].astype(int)\n",
    "df['num_teams'] = df['num_teams'].astype(float)"
   ]
  },
  {
   "cell_type": "markdown",
   "id": "10cef6cd",
   "metadata": {},
   "source": [
    "### Prediction Model"
   ]
  },
  {
   "cell_type": "code",
   "execution_count": 30,
   "id": "e8cdfdb7",
   "metadata": {},
   "outputs": [],
   "source": [
    "# create a function to find all relevant entries\n",
    "def pred(team):\n",
    "    df2 = df\n",
    "    df2 = df2.drop(columns=['date', 'event','month'])\n",
    "    df2['opp'] = None\n",
    "#     df2['diff'] = None\n",
    "#     df2['opp_points'] = None\n",
    "    for i in range(len(df)):\n",
    "        if df2.loc[i]['team1_name'] == team:\n",
    "            df2.at[df2.index[i], 'opp'] = df2.loc[i]['team2_name']\n",
    "            if df2.loc[i]['team1_score'] - df2.loc[i]['team2_score'] > 0:\n",
    "                df2.at[df2.index[i], 'won'] = 1\n",
    "            else:\n",
    "                df2.at[df2.index[i], 'won'] = 0\n",
    "            \n",
    "        elif df2.loc[i]['team2_name'] == team:\n",
    "            df2.at[df2.index[i], 'opp'] = df2.loc[i]['team1_name']\n",
    "            if df2.loc[i]['team2_score'] - df2.loc[i]['team1_score'] > 0:\n",
    "                df2.at[df2.index[i], 'won'] = 1\n",
    "            else:\n",
    "                df2.at[df2.index[i], 'won'] = 0\n",
    "            \n",
    "    # retain only relevant rows\n",
    "    df2 = df2.dropna()\n",
    "    df2 = df2.reset_index(drop=True)\n",
    "    \n",
    "    # drop null values for final df\n",
    "    df2['opp_points'] = df2.apply(opp_points, axis=1)\n",
    "    df2 = df2.dropna()\n",
    "    \n",
    "    # drop columns for final df\n",
    "    df2 = df2.drop(columns=['team1_name','team1_score','team2_name',\n",
    "                           'team2_score', 'winner', 'opp'])\n",
    "    \n",
    "    # dummies for map feature\n",
    "    df2 = pd.get_dummies(df2, columns=['map'],  drop_first=True)\n",
    "    \n",
    "    return df2    "
   ]
  },
  {
   "cell_type": "code",
   "execution_count": 31,
   "id": "2c564cea",
   "metadata": {},
   "outputs": [],
   "source": [
    "# # create a function to find all relevant entries\n",
    "# def pred(team):\n",
    "#     df2 = df\n",
    "#     df2 = df2.drop(columns=['date', 'event','month'])\n",
    "#     df2['opp'] = None\n",
    "# #     df2['diff'] = None\n",
    "# #     df2['opp_points'] = None\n",
    "#     for i in range(len(df)):\n",
    "#         if df2.loc[i]['team1_name'] == team:\n",
    "#             df2.at[df2.index[i], 'opp'] = df2.loc[i]['team2_name']\n",
    "#             df2.at[df2.index[i], 'diff'] = df2.loc[i]['team1_score'] - df2.loc[i]['team2_score']\n",
    "#         elif df2.loc[i]['team2_name'] == team:\n",
    "#             df2.at[df2.index[i], 'opp'] = df2.loc[i]['team1_name']\n",
    "#             df2.at[df2.index[i], 'diff'] = df2.loc[i]['team2_score'] - df2.loc[i]['team1_score']\n",
    "            \n",
    "#     # retain only relevant rows\n",
    "#     df2 = df2.dropna()\n",
    "#     df2 = df2.reset_index(drop=True)\n",
    "    \n",
    "#     # drop null values for final df\n",
    "#     df2['opp_points'] = df2.apply(opp_points, axis=1)\n",
    "#     df2 = df2.dropna()\n",
    "    \n",
    "#     # drop columns for final df\n",
    "#     df2 = df2.drop(columns=['team1_name','team1_score','team2_name',\n",
    "#                            'team2_score', 'winner', 'opp'])\n",
    "    \n",
    "#     # dummies for map feature\n",
    "#     df2 = pd.get_dummies(df2, columns=['map'],  drop_first=True)\n",
    "    \n",
    "#     return df2    "
   ]
  },
  {
   "cell_type": "markdown",
   "id": "21f3f0e7",
   "metadata": {},
   "source": [
    "## Predicting a specific team"
   ]
  },
  {
   "cell_type": "code",
   "execution_count": 32,
   "id": "4b32b62c",
   "metadata": {},
   "outputs": [],
   "source": [
    "## Uncomment and overwrite for convenient if necessary\n",
    "# team = 'Ninjas in Pyjamas'\n",
    "\n",
    "dfx = pred(team)\n",
    "dfx['points_diff'] = dfx.apply(points_diff, axis=1)\n",
    "dfx = dfx.drop(columns=['week', 'year'])\n",
    "\n",
    "# we try to predict the feature 'diff' to determine the winner/handicap\n",
    "target = 'won'\n",
    "features = [i for i in dfx.columns if i not in [target]]"
   ]
  },
  {
   "cell_type": "markdown",
   "id": "bb6c6040",
   "metadata": {},
   "source": [
    "**Visualise target distribution, diff**"
   ]
  },
  {
   "cell_type": "code",
   "execution_count": 33,
   "id": "09ad2204",
   "metadata": {},
   "outputs": [
    {
     "data": {
      "text/plain": [
       "array([1., 0.])"
      ]
     },
     "execution_count": 33,
     "metadata": {},
     "output_type": "execute_result"
    }
   ],
   "source": [
    "dfx['won'].unique()"
   ]
  },
  {
   "cell_type": "code",
   "execution_count": 34,
   "id": "17506bce",
   "metadata": {},
   "outputs": [
    {
     "data": {
      "text/html": [
       "<div>\n",
       "<style scoped>\n",
       "    .dataframe tbody tr th:only-of-type {\n",
       "        vertical-align: middle;\n",
       "    }\n",
       "\n",
       "    .dataframe tbody tr th {\n",
       "        vertical-align: top;\n",
       "    }\n",
       "\n",
       "    .dataframe thead th {\n",
       "        text-align: right;\n",
       "    }\n",
       "</style>\n",
       "<table border=\"1\" class=\"dataframe\">\n",
       "  <thead>\n",
       "    <tr style=\"text-align: right;\">\n",
       "      <th></th>\n",
       "      <th>num_teams</th>\n",
       "      <th>prize</th>\n",
       "      <th>prize_qual</th>\n",
       "      <th>premium</th>\n",
       "      <th>lan</th>\n",
       "      <th>won</th>\n",
       "      <th>opp_points</th>\n",
       "      <th>map_Cache</th>\n",
       "      <th>map_Cobblestone</th>\n",
       "      <th>map_Dust2</th>\n",
       "      <th>map_Inferno</th>\n",
       "      <th>map_Mirage</th>\n",
       "      <th>map_Nuke</th>\n",
       "      <th>map_Overpass</th>\n",
       "      <th>map_Train</th>\n",
       "      <th>map_Vertigo</th>\n",
       "      <th>points_diff</th>\n",
       "    </tr>\n",
       "  </thead>\n",
       "  <tbody>\n",
       "    <tr>\n",
       "      <th>0</th>\n",
       "      <td>6.0</td>\n",
       "      <td>46900.0</td>\n",
       "      <td>0</td>\n",
       "      <td>0</td>\n",
       "      <td>1</td>\n",
       "      <td>1.0</td>\n",
       "      <td>11.0</td>\n",
       "      <td>0</td>\n",
       "      <td>0</td>\n",
       "      <td>0</td>\n",
       "      <td>0</td>\n",
       "      <td>0</td>\n",
       "      <td>0</td>\n",
       "      <td>0</td>\n",
       "      <td>0</td>\n",
       "      <td>1</td>\n",
       "      <td>313.0</td>\n",
       "    </tr>\n",
       "    <tr>\n",
       "      <th>1</th>\n",
       "      <td>6.0</td>\n",
       "      <td>46900.0</td>\n",
       "      <td>0</td>\n",
       "      <td>0</td>\n",
       "      <td>1</td>\n",
       "      <td>1.0</td>\n",
       "      <td>11.0</td>\n",
       "      <td>0</td>\n",
       "      <td>0</td>\n",
       "      <td>0</td>\n",
       "      <td>0</td>\n",
       "      <td>0</td>\n",
       "      <td>0</td>\n",
       "      <td>0</td>\n",
       "      <td>0</td>\n",
       "      <td>1</td>\n",
       "      <td>313.0</td>\n",
       "    </tr>\n",
       "    <tr>\n",
       "      <th>2</th>\n",
       "      <td>6.0</td>\n",
       "      <td>46900.0</td>\n",
       "      <td>0</td>\n",
       "      <td>0</td>\n",
       "      <td>1</td>\n",
       "      <td>1.0</td>\n",
       "      <td>11.0</td>\n",
       "      <td>0</td>\n",
       "      <td>0</td>\n",
       "      <td>0</td>\n",
       "      <td>1</td>\n",
       "      <td>0</td>\n",
       "      <td>0</td>\n",
       "      <td>0</td>\n",
       "      <td>0</td>\n",
       "      <td>0</td>\n",
       "      <td>313.0</td>\n",
       "    </tr>\n",
       "    <tr>\n",
       "      <th>3</th>\n",
       "      <td>6.0</td>\n",
       "      <td>46900.0</td>\n",
       "      <td>0</td>\n",
       "      <td>0</td>\n",
       "      <td>1</td>\n",
       "      <td>1.0</td>\n",
       "      <td>11.0</td>\n",
       "      <td>0</td>\n",
       "      <td>0</td>\n",
       "      <td>0</td>\n",
       "      <td>1</td>\n",
       "      <td>0</td>\n",
       "      <td>0</td>\n",
       "      <td>0</td>\n",
       "      <td>0</td>\n",
       "      <td>0</td>\n",
       "      <td>313.0</td>\n",
       "    </tr>\n",
       "    <tr>\n",
       "      <th>4</th>\n",
       "      <td>6.0</td>\n",
       "      <td>46900.0</td>\n",
       "      <td>0</td>\n",
       "      <td>0</td>\n",
       "      <td>1</td>\n",
       "      <td>1.0</td>\n",
       "      <td>10.0</td>\n",
       "      <td>0</td>\n",
       "      <td>0</td>\n",
       "      <td>0</td>\n",
       "      <td>0</td>\n",
       "      <td>0</td>\n",
       "      <td>0</td>\n",
       "      <td>0</td>\n",
       "      <td>0</td>\n",
       "      <td>1</td>\n",
       "      <td>314.0</td>\n",
       "    </tr>\n",
       "    <tr>\n",
       "      <th>...</th>\n",
       "      <td>...</td>\n",
       "      <td>...</td>\n",
       "      <td>...</td>\n",
       "      <td>...</td>\n",
       "      <td>...</td>\n",
       "      <td>...</td>\n",
       "      <td>...</td>\n",
       "      <td>...</td>\n",
       "      <td>...</td>\n",
       "      <td>...</td>\n",
       "      <td>...</td>\n",
       "      <td>...</td>\n",
       "      <td>...</td>\n",
       "      <td>...</td>\n",
       "      <td>...</td>\n",
       "      <td>...</td>\n",
       "      <td>...</td>\n",
       "    </tr>\n",
       "    <tr>\n",
       "      <th>180</th>\n",
       "      <td>16.0</td>\n",
       "      <td>2000000.0</td>\n",
       "      <td>0</td>\n",
       "      <td>0</td>\n",
       "      <td>1</td>\n",
       "      <td>1.0</td>\n",
       "      <td>188.0</td>\n",
       "      <td>0</td>\n",
       "      <td>0</td>\n",
       "      <td>0</td>\n",
       "      <td>1</td>\n",
       "      <td>0</td>\n",
       "      <td>0</td>\n",
       "      <td>0</td>\n",
       "      <td>0</td>\n",
       "      <td>0</td>\n",
       "      <td>468.0</td>\n",
       "    </tr>\n",
       "    <tr>\n",
       "      <th>181</th>\n",
       "      <td>5.0</td>\n",
       "      <td>0.0</td>\n",
       "      <td>1</td>\n",
       "      <td>0</td>\n",
       "      <td>0</td>\n",
       "      <td>0.0</td>\n",
       "      <td>344.0</td>\n",
       "      <td>0</td>\n",
       "      <td>0</td>\n",
       "      <td>0</td>\n",
       "      <td>0</td>\n",
       "      <td>0</td>\n",
       "      <td>0</td>\n",
       "      <td>0</td>\n",
       "      <td>1</td>\n",
       "      <td>0</td>\n",
       "      <td>311.0</td>\n",
       "    </tr>\n",
       "    <tr>\n",
       "      <th>182</th>\n",
       "      <td>5.0</td>\n",
       "      <td>0.0</td>\n",
       "      <td>1</td>\n",
       "      <td>0</td>\n",
       "      <td>0</td>\n",
       "      <td>0.0</td>\n",
       "      <td>181.0</td>\n",
       "      <td>0</td>\n",
       "      <td>0</td>\n",
       "      <td>0</td>\n",
       "      <td>1</td>\n",
       "      <td>0</td>\n",
       "      <td>0</td>\n",
       "      <td>0</td>\n",
       "      <td>0</td>\n",
       "      <td>0</td>\n",
       "      <td>474.0</td>\n",
       "    </tr>\n",
       "    <tr>\n",
       "      <th>183</th>\n",
       "      <td>5.0</td>\n",
       "      <td>0.0</td>\n",
       "      <td>1</td>\n",
       "      <td>0</td>\n",
       "      <td>0</td>\n",
       "      <td>1.0</td>\n",
       "      <td>16.0</td>\n",
       "      <td>0</td>\n",
       "      <td>1</td>\n",
       "      <td>0</td>\n",
       "      <td>0</td>\n",
       "      <td>0</td>\n",
       "      <td>0</td>\n",
       "      <td>0</td>\n",
       "      <td>0</td>\n",
       "      <td>0</td>\n",
       "      <td>639.0</td>\n",
       "    </tr>\n",
       "    <tr>\n",
       "      <th>184</th>\n",
       "      <td>5.0</td>\n",
       "      <td>0.0</td>\n",
       "      <td>1</td>\n",
       "      <td>0</td>\n",
       "      <td>0</td>\n",
       "      <td>0.0</td>\n",
       "      <td>251.0</td>\n",
       "      <td>1</td>\n",
       "      <td>0</td>\n",
       "      <td>0</td>\n",
       "      <td>0</td>\n",
       "      <td>0</td>\n",
       "      <td>0</td>\n",
       "      <td>0</td>\n",
       "      <td>0</td>\n",
       "      <td>0</td>\n",
       "      <td>404.0</td>\n",
       "    </tr>\n",
       "  </tbody>\n",
       "</table>\n",
       "<p>170 rows × 17 columns</p>\n",
       "</div>"
      ],
      "text/plain": [
       "     num_teams      prize  prize_qual  premium  lan  won  opp_points  \\\n",
       "0          6.0    46900.0           0        0    1  1.0        11.0   \n",
       "1          6.0    46900.0           0        0    1  1.0        11.0   \n",
       "2          6.0    46900.0           0        0    1  1.0        11.0   \n",
       "3          6.0    46900.0           0        0    1  1.0        11.0   \n",
       "4          6.0    46900.0           0        0    1  1.0        10.0   \n",
       "..         ...        ...         ...      ...  ...  ...         ...   \n",
       "180       16.0  2000000.0           0        0    1  1.0       188.0   \n",
       "181        5.0        0.0           1        0    0  0.0       344.0   \n",
       "182        5.0        0.0           1        0    0  0.0       181.0   \n",
       "183        5.0        0.0           1        0    0  1.0        16.0   \n",
       "184        5.0        0.0           1        0    0  0.0       251.0   \n",
       "\n",
       "     map_Cache  map_Cobblestone  map_Dust2  map_Inferno  map_Mirage  map_Nuke  \\\n",
       "0            0                0          0            0           0         0   \n",
       "1            0                0          0            0           0         0   \n",
       "2            0                0          0            1           0         0   \n",
       "3            0                0          0            1           0         0   \n",
       "4            0                0          0            0           0         0   \n",
       "..         ...              ...        ...          ...         ...       ...   \n",
       "180          0                0          0            1           0         0   \n",
       "181          0                0          0            0           0         0   \n",
       "182          0                0          0            1           0         0   \n",
       "183          0                1          0            0           0         0   \n",
       "184          1                0          0            0           0         0   \n",
       "\n",
       "     map_Overpass  map_Train  map_Vertigo  points_diff  \n",
       "0               0          0            1        313.0  \n",
       "1               0          0            1        313.0  \n",
       "2               0          0            0        313.0  \n",
       "3               0          0            0        313.0  \n",
       "4               0          0            1        314.0  \n",
       "..            ...        ...          ...          ...  \n",
       "180             0          0            0        468.0  \n",
       "181             0          1            0        311.0  \n",
       "182             0          0            0        474.0  \n",
       "183             0          0            0        639.0  \n",
       "184             0          0            0        404.0  \n",
       "\n",
       "[170 rows x 17 columns]"
      ]
     },
     "execution_count": 34,
     "metadata": {},
     "output_type": "execute_result"
    }
   ],
   "source": [
    "dfx"
   ]
  },
  {
   "cell_type": "code",
   "execution_count": 35,
   "id": "bfd8ba6a",
   "metadata": {},
   "outputs": [
    {
     "data": {
      "text/plain": [
       "<AxesSubplot:>"
      ]
     },
     "execution_count": 35,
     "metadata": {},
     "output_type": "execute_result"
    },
    {
     "data": {
      "image/png": "[encoded data removed]",
      "text/plain": [
       "<Figure size 432x288 with 1 Axes>"
      ]
     },
     "metadata": {
      "needs_background": "light"
     },
     "output_type": "display_data"
    }
   ],
   "source": [
    "# Distribution of wins and losses\n",
    "pd.value_counts(dfx['won']).plot.bar()"
   ]
  },
  {
   "cell_type": "markdown",
   "id": "9bd66e18",
   "metadata": {},
   "source": [
    "If distribution skewed, we may need to use suitable techniques like SMOTE."
   ]
  },
  {
   "cell_type": "code",
   "execution_count": 36,
   "id": "9124cc24",
   "metadata": {},
   "outputs": [],
   "source": [
    "# # Visualise our target distribution - round difference\n",
    "# plt.figure(figsize=[14,14])\n",
    "# # custom_bins = [i*3000 for i in range(60)]\n",
    "# sns.displot(dfx['diff'], bins = 29)\n",
    "# # sns.displot(dfx['diff'])\n",
    "# plt.title('Round Difference Distribution')\n",
    "# plt.xlim(-15, 15)\n",
    "# plt.show()"
   ]
  },
  {
   "cell_type": "markdown",
   "id": "63190074",
   "metadata": {},
   "source": [
    "**EDA on numerical variations**"
   ]
  },
  {
   "cell_type": "code",
   "execution_count": 37,
   "id": "497efab6",
   "metadata": {},
   "outputs": [],
   "source": [
    "dfx_eda = dfx[['num_teams', 'prize', 'opp_points', 'points_diff']]"
   ]
  },
  {
   "cell_type": "code",
   "execution_count": 38,
   "id": "2b9073c1",
   "metadata": {},
   "outputs": [
    {
     "data": {
      "text/plain": [
       "<seaborn.axisgrid.PairGrid at 0x1c871d97df0>"
      ]
     },
     "execution_count": 38,
     "metadata": {},
     "output_type": "execute_result"
    },
    {
     "data": {
      "image/png": "[encoded data removed]",
      "text/plain": [
       "<Figure size 720x720 with 20 Axes>"
      ]
     },
     "metadata": {
      "needs_background": "light"
     },
     "output_type": "display_data"
    }
   ],
   "source": [
    "sns.pairplot(data=dfx_eda, diag_kind='kde')"
   ]
  },
  {
   "cell_type": "markdown",
   "id": "2fe0be06",
   "metadata": {},
   "source": [
    "Check to see distribution of numerical variables.\\\n",
    "In this case, 'prize' feature may be left skewed and can be normalised before modelling."
   ]
  },
  {
   "cell_type": "markdown",
   "id": "9ce17b8f",
   "metadata": {},
   "source": [
    "### Modelling"
   ]
  },
  {
   "cell_type": "code",
   "execution_count": 39,
   "id": "d5afd70a",
   "metadata": {},
   "outputs": [],
   "source": [
    "### function for model evaluation\n",
    "def model_evaluation(pipe, params, model):\n",
    "    \n",
    "    gs = GridSearchCV(pipe, # what object are we optimizing?\n",
    "                  param_grid=params, # what parameters values are we searching?\n",
    "                  cv=5) \n",
    "    \n",
    "    gs.fit(X_train, y_train)\n",
    "    \n",
    "    # Get predictions\n",
    "    preds = gs.predict(X_test)\n",
    "    \n",
    "    best_params = gs.best_params_\n",
    "    print('Best fitting parameters:', best_params)\n",
    "    best_model = gs.best_estimator_\n",
    "    \n",
    "    # Save confusion matrix values\n",
    "    tn, fp, fn, tp = confusion_matrix(y_test, preds).ravel()\n",
    "    \n",
    "    # View confusion matrix\n",
    "    plot_confusion_matrix(gs, X_test, y_test, cmap='Blues', values_format='d');\n",
    "    \n",
    "    \n",
    "    # Plot ROC graph\n",
    "    plot_roc_curve(best_model, X_test, y_test)\n",
    "    plt.plot([0, 1], [0, 1],\n",
    "             label='baseline', linestyle='--')\n",
    "    plt.legend();\n",
    "\n",
    "    \n",
    "    # Save results to Dataframe\n",
    "    df = pd.DataFrame()\n",
    "    df['model'] = [f'{model}']\n",
    "    df['train_accuracy'] = round(gs.score(X_train, y_train), 5)\n",
    "    df['test_accuracy'] = round(gs.score(X_test, y_test), 5)\n",
    "    df['sensitivity'] =  round((tp / (tp + fn)), 5)\n",
    "    df['specificity'] = round((tn / (tn + fp)), 5)\n",
    "    df['precision'] = round((tp / (tp + fp)), 5)\n",
    "    df['f1_score'] = round(f1_score(y_test, preds), 5)\n",
    "    df['roc_auc_score'] = round(roc_auc_score(y_test, preds), 5)\n",
    "    df['tn'] = tn\n",
    "    df['fp'] = fp\n",
    "    df['fn'] = fn\n",
    "    df['tp'] = tp\n",
    "    \n",
    "    return df"
   ]
  },
  {
   "cell_type": "code",
   "execution_count": 40,
   "id": "05d8908d",
   "metadata": {},
   "outputs": [],
   "source": [
    "# Empty list to store model outputs for later\n",
    "df_all = []"
   ]
  },
  {
   "cell_type": "markdown",
   "id": "f787b9e1",
   "metadata": {},
   "source": [
    "### Log Reg\n",
    "**Baseline Model**"
   ]
  },
  {
   "cell_type": "code",
   "execution_count": 41,
   "id": "b1b00e52",
   "metadata": {},
   "outputs": [],
   "source": [
    "# Feature Selection \n",
    "X = dfx[features]\n",
    "y = dfx[target]\n",
    "# Split data into test and train\n",
    "X_train, X_test, y_train, y_test=train_test_split(X,y, test_size=0.2, random_state=42)"
   ]
  },
  {
   "cell_type": "code",
   "execution_count": 42,
   "id": "31f348ae",
   "metadata": {},
   "outputs": [
    {
     "data": {
      "text/plain": [
       "0.5955882352941176"
      ]
     },
     "execution_count": 42,
     "metadata": {},
     "output_type": "execute_result"
    }
   ],
   "source": [
    "# Create a LogisticRegression object\n",
    "lr= LogisticRegression()\n",
    "# Fit X and y \n",
    "lr.fit(X_train, y_train)\n",
    "\n",
    "# Metrics to evaluate your model \n",
    "lr.score(X_train, y_train)"
   ]
  },
  {
   "cell_type": "code",
   "execution_count": 43,
   "id": "263be7e2",
   "metadata": {},
   "outputs": [
    {
     "data": {
      "text/plain": [
       "0.5294117647058824"
      ]
     },
     "execution_count": 43,
     "metadata": {},
     "output_type": "execute_result"
    }
   ],
   "source": [
    "lr.score(X_test, y_test)"
   ]
  },
  {
   "cell_type": "markdown",
   "id": "975c70e2",
   "metadata": {},
   "source": [
    "### Modelling with GridSearchCV"
   ]
  },
  {
   "cell_type": "code",
   "execution_count": 44,
   "id": "eff40d9c",
   "metadata": {},
   "outputs": [],
   "source": [
    "### Initialise a pipeline for log reg\n",
    "pipe_lr = Pipeline([\n",
    "    ('ss', StandardScaler()),\n",
    "    ('lr', LogisticRegression())\n",
    "])\n",
    "\n",
    "pipe_lr_params = {'lr__penalty': ['l2'],            \n",
    "                  'lr__C': [1.0]}  "
   ]
  },
  {
   "cell_type": "code",
   "execution_count": 45,
   "id": "fec20be7",
   "metadata": {},
   "outputs": [
    {
     "name": "stdout",
     "output_type": "stream",
     "text": [
      "Best fitting parameters: {'lr__C': 1.0, 'lr__penalty': 'l2'}\n"
     ]
    },
    {
     "data": {
      "text/html": [
       "<div>\n",
       "<style scoped>\n",
       "    .dataframe tbody tr th:only-of-type {\n",
       "        vertical-align: middle;\n",
       "    }\n",
       "\n",
       "    .dataframe tbody tr th {\n",
       "        vertical-align: top;\n",
       "    }\n",
       "\n",
       "    .dataframe thead th {\n",
       "        text-align: right;\n",
       "    }\n",
       "</style>\n",
       "<table border=\"1\" class=\"dataframe\">\n",
       "  <thead>\n",
       "    <tr style=\"text-align: right;\">\n",
       "      <th></th>\n",
       "      <th>model</th>\n",
       "      <th>train_accuracy</th>\n",
       "      <th>test_accuracy</th>\n",
       "      <th>sensitivity</th>\n",
       "      <th>specificity</th>\n",
       "      <th>precision</th>\n",
       "      <th>f1_score</th>\n",
       "      <th>roc_auc_score</th>\n",
       "      <th>tn</th>\n",
       "      <th>fp</th>\n",
       "      <th>fn</th>\n",
       "      <th>tp</th>\n",
       "    </tr>\n",
       "  </thead>\n",
       "  <tbody>\n",
       "    <tr>\n",
       "      <th>0</th>\n",
       "      <td>Logistic Regression</td>\n",
       "      <td>0.66176</td>\n",
       "      <td>0.58824</td>\n",
       "      <td>0.5</td>\n",
       "      <td>0.66667</td>\n",
       "      <td>0.57143</td>\n",
       "      <td>0.53333</td>\n",
       "      <td>0.58333</td>\n",
       "      <td>12</td>\n",
       "      <td>6</td>\n",
       "      <td>8</td>\n",
       "      <td>8</td>\n",
       "    </tr>\n",
       "  </tbody>\n",
       "</table>\n",
       "</div>"
      ],
      "text/plain": [
       "                 model  train_accuracy  test_accuracy  sensitivity  \\\n",
       "0  Logistic Regression         0.66176        0.58824          0.5   \n",
       "\n",
       "   specificity  precision  f1_score  roc_auc_score  tn  fp  fn  tp  \n",
       "0      0.66667    0.57143   0.53333        0.58333  12   6   8   8  "
      ]
     },
     "execution_count": 45,
     "metadata": {},
     "output_type": "execute_result"
    },
    {
     "data": {
      "image/png": "[encoded data removed]",
      "text/plain": [
       "<Figure size 432x288 with 2 Axes>"
      ]
     },
     "metadata": {
      "needs_background": "light"
     },
     "output_type": "display_data"
    },
    {
     "data": {
      "image/png": "[encoded data removed]",
      "text/plain": [
       "<Figure size 432x288 with 1 Axes>"
      ]
     },
     "metadata": {
      "needs_background": "light"
     },
     "output_type": "display_data"
    }
   ],
   "source": [
    "lr_eval = model_evaluation(pipe_lr, pipe_lr_params, 'Logistic Regression')\n",
    "lr_eval"
   ]
  },
  {
   "cell_type": "code",
   "execution_count": 46,
   "id": "c1799688",
   "metadata": {},
   "outputs": [],
   "source": [
    "df_all.append(lr_eval)"
   ]
  },
  {
   "cell_type": "markdown",
   "id": "2443bbf1",
   "metadata": {},
   "source": [
    "### KNN"
   ]
  },
  {
   "cell_type": "code",
   "execution_count": 47,
   "id": "18224232",
   "metadata": {},
   "outputs": [],
   "source": [
    "# Set up pipeline for knn\n",
    "pipe_knn = Pipeline([\n",
    "    ('ss', StandardScaler()),\n",
    "    ('knn', KNeighborsClassifier())\n",
    "])"
   ]
  },
  {
   "cell_type": "code",
   "execution_count": 48,
   "id": "18642e12",
   "metadata": {},
   "outputs": [],
   "source": [
    "pipe_knn_params = {\n",
    "    'knn__n_neighbors': [30],                      \n",
    "    'knn__algorithm': ['kd_tree'],                   \n",
    "    'knn__weights': ['distance'],\n",
    "    'knn__p': [1],                               \n",
    "    'knn__leaf_size': [10],                        \n",
    "}"
   ]
  },
  {
   "cell_type": "code",
   "execution_count": 49,
   "id": "66e65720",
   "metadata": {},
   "outputs": [
    {
     "name": "stdout",
     "output_type": "stream",
     "text": [
      "Best fitting parameters: {'knn__algorithm': 'kd_tree', 'knn__leaf_size': 10, 'knn__n_neighbors': 30, 'knn__p': 1, 'knn__weights': 'distance'}\n"
     ]
    },
    {
     "data": {
      "text/html": [
       "<div>\n",
       "<style scoped>\n",
       "    .dataframe tbody tr th:only-of-type {\n",
       "        vertical-align: middle;\n",
       "    }\n",
       "\n",
       "    .dataframe tbody tr th {\n",
       "        vertical-align: top;\n",
       "    }\n",
       "\n",
       "    .dataframe thead th {\n",
       "        text-align: right;\n",
       "    }\n",
       "</style>\n",
       "<table border=\"1\" class=\"dataframe\">\n",
       "  <thead>\n",
       "    <tr style=\"text-align: right;\">\n",
       "      <th></th>\n",
       "      <th>model</th>\n",
       "      <th>train_accuracy</th>\n",
       "      <th>test_accuracy</th>\n",
       "      <th>sensitivity</th>\n",
       "      <th>specificity</th>\n",
       "      <th>precision</th>\n",
       "      <th>f1_score</th>\n",
       "      <th>roc_auc_score</th>\n",
       "      <th>tn</th>\n",
       "      <th>fp</th>\n",
       "      <th>fn</th>\n",
       "      <th>tp</th>\n",
       "    </tr>\n",
       "  </thead>\n",
       "  <tbody>\n",
       "    <tr>\n",
       "      <th>0</th>\n",
       "      <td>K-Nearest Neighbors</td>\n",
       "      <td>0.99265</td>\n",
       "      <td>0.64706</td>\n",
       "      <td>0.625</td>\n",
       "      <td>0.66667</td>\n",
       "      <td>0.625</td>\n",
       "      <td>0.625</td>\n",
       "      <td>0.64583</td>\n",
       "      <td>12</td>\n",
       "      <td>6</td>\n",
       "      <td>6</td>\n",
       "      <td>10</td>\n",
       "    </tr>\n",
       "  </tbody>\n",
       "</table>\n",
       "</div>"
      ],
      "text/plain": [
       "                 model  train_accuracy  test_accuracy  sensitivity  \\\n",
       "0  K-Nearest Neighbors         0.99265        0.64706        0.625   \n",
       "\n",
       "   specificity  precision  f1_score  roc_auc_score  tn  fp  fn  tp  \n",
       "0      0.66667      0.625     0.625        0.64583  12   6   6  10  "
      ]
     },
     "execution_count": 49,
     "metadata": {},
     "output_type": "execute_result"
    },
    {
     "data": {
      "image/png": "[encoded data removed]",
      "text/plain": [
       "<Figure size 432x288 with 2 Axes>"
      ]
     },
     "metadata": {
      "needs_background": "light"
     },
     "output_type": "display_data"
    },
    {
     "data": {
      "image/png": "[encoded data removed]",
      "text/plain": [
       "<Figure size 432x288 with 1 Axes>"
      ]
     },
     "metadata": {
      "needs_background": "light"
     },
     "output_type": "display_data"
    }
   ],
   "source": [
    "knn_eval = model_evaluation(pipe_knn, pipe_knn_params, 'K-Nearest Neighbors')\n",
    "knn_eval"
   ]
  },
  {
   "cell_type": "code",
   "execution_count": 50,
   "id": "0de68ec7",
   "metadata": {},
   "outputs": [],
   "source": [
    "df_all.append(knn_eval)"
   ]
  },
  {
   "cell_type": "markdown",
   "id": "1eefe261",
   "metadata": {},
   "source": [
    "### Random Forest"
   ]
  },
  {
   "cell_type": "code",
   "execution_count": 51,
   "id": "29b63d52",
   "metadata": {},
   "outputs": [],
   "source": [
    "# Set up pipeline for rf\n",
    "pipe_rf = Pipeline([\n",
    "    ('rf', RandomForestClassifier())])"
   ]
  },
  {
   "cell_type": "code",
   "execution_count": 52,
   "id": "780dbe9b",
   "metadata": {},
   "outputs": [],
   "source": [
    "# Set up hyperparameters tuning                    \n",
    "pipe_rf_params = {\n",
    "    'rf__n_estimators':[300],                     \n",
    "    'rf__max_depth':[20],                         \n",
    "    'rf__min_samples_leaf': [1],                  \n",
    "}"
   ]
  },
  {
   "cell_type": "code",
   "execution_count": 53,
   "id": "d77d2478",
   "metadata": {},
   "outputs": [
    {
     "name": "stdout",
     "output_type": "stream",
     "text": [
      "Best fitting parameters: {'rf__max_depth': 20, 'rf__min_samples_leaf': 1, 'rf__n_estimators': 300}\n"
     ]
    },
    {
     "data": {
      "text/html": [
       "<div>\n",
       "<style scoped>\n",
       "    .dataframe tbody tr th:only-of-type {\n",
       "        vertical-align: middle;\n",
       "    }\n",
       "\n",
       "    .dataframe tbody tr th {\n",
       "        vertical-align: top;\n",
       "    }\n",
       "\n",
       "    .dataframe thead th {\n",
       "        text-align: right;\n",
       "    }\n",
       "</style>\n",
       "<table border=\"1\" class=\"dataframe\">\n",
       "  <thead>\n",
       "    <tr style=\"text-align: right;\">\n",
       "      <th></th>\n",
       "      <th>model</th>\n",
       "      <th>train_accuracy</th>\n",
       "      <th>test_accuracy</th>\n",
       "      <th>sensitivity</th>\n",
       "      <th>specificity</th>\n",
       "      <th>precision</th>\n",
       "      <th>f1_score</th>\n",
       "      <th>roc_auc_score</th>\n",
       "      <th>tn</th>\n",
       "      <th>fp</th>\n",
       "      <th>fn</th>\n",
       "      <th>tp</th>\n",
       "    </tr>\n",
       "  </thead>\n",
       "  <tbody>\n",
       "    <tr>\n",
       "      <th>0</th>\n",
       "      <td>Random Forest Classifier</td>\n",
       "      <td>0.99265</td>\n",
       "      <td>0.70588</td>\n",
       "      <td>0.8125</td>\n",
       "      <td>0.61111</td>\n",
       "      <td>0.65</td>\n",
       "      <td>0.72222</td>\n",
       "      <td>0.71181</td>\n",
       "      <td>11</td>\n",
       "      <td>7</td>\n",
       "      <td>3</td>\n",
       "      <td>13</td>\n",
       "    </tr>\n",
       "  </tbody>\n",
       "</table>\n",
       "</div>"
      ],
      "text/plain": [
       "                      model  train_accuracy  test_accuracy  sensitivity  \\\n",
       "0  Random Forest Classifier         0.99265        0.70588       0.8125   \n",
       "\n",
       "   specificity  precision  f1_score  roc_auc_score  tn  fp  fn  tp  \n",
       "0      0.61111       0.65   0.72222        0.71181  11   7   3  13  "
      ]
     },
     "execution_count": 53,
     "metadata": {},
     "output_type": "execute_result"
    },
    {
     "data": {
      "image/png": "[encoded data removed]",
      "text/plain": [
       "<Figure size 432x288 with 2 Axes>"
      ]
     },
     "metadata": {
      "needs_background": "light"
     },
     "output_type": "display_data"
    },
    {
     "data": {
      "image/png": "[encoded data removed]",
      "text/plain": [
       "<Figure size 432x288 with 1 Axes>"
      ]
     },
     "metadata": {
      "needs_background": "light"
     },
     "output_type": "display_data"
    }
   ],
   "source": [
    "rf_eval = model_evaluation(pipe_rf, pipe_rf_params, 'Random Forest Classifier')\n",
    "rf_eval"
   ]
  },
  {
   "cell_type": "code",
   "execution_count": 54,
   "id": "d2e93f32",
   "metadata": {},
   "outputs": [],
   "source": [
    "df_all.append(rf_eval)"
   ]
  },
  {
   "cell_type": "markdown",
   "id": "5766acc1",
   "metadata": {},
   "source": [
    "### Ada Boost Classifier"
   ]
  },
  {
   "cell_type": "code",
   "execution_count": 55,
   "id": "fde8bd66",
   "metadata": {},
   "outputs": [],
   "source": [
    "# Set up pipeline for adaboost\n",
    "pipe_ada = Pipeline([\n",
    "    ('ada', AdaBoostClassifier())])"
   ]
  },
  {
   "cell_type": "code",
   "execution_count": 56,
   "id": "23702d43",
   "metadata": {},
   "outputs": [],
   "source": [
    "# Set up hyperparameters tuning                    \n",
    "pipe_ada_params = {\n",
    "    'ada__n_estimators':[100],                     \n",
    "    'ada__learning_rate':[1],                                           \n",
    "}"
   ]
  },
  {
   "cell_type": "code",
   "execution_count": 57,
   "id": "c880014c",
   "metadata": {},
   "outputs": [
    {
     "name": "stdout",
     "output_type": "stream",
     "text": [
      "Best fitting parameters: {'ada__learning_rate': 1, 'ada__n_estimators': 100}\n"
     ]
    },
    {
     "data": {
      "text/html": [
       "<div>\n",
       "<style scoped>\n",
       "    .dataframe tbody tr th:only-of-type {\n",
       "        vertical-align: middle;\n",
       "    }\n",
       "\n",
       "    .dataframe tbody tr th {\n",
       "        vertical-align: top;\n",
       "    }\n",
       "\n",
       "    .dataframe thead th {\n",
       "        text-align: right;\n",
       "    }\n",
       "</style>\n",
       "<table border=\"1\" class=\"dataframe\">\n",
       "  <thead>\n",
       "    <tr style=\"text-align: right;\">\n",
       "      <th></th>\n",
       "      <th>model</th>\n",
       "      <th>train_accuracy</th>\n",
       "      <th>test_accuracy</th>\n",
       "      <th>sensitivity</th>\n",
       "      <th>specificity</th>\n",
       "      <th>precision</th>\n",
       "      <th>f1_score</th>\n",
       "      <th>roc_auc_score</th>\n",
       "      <th>tn</th>\n",
       "      <th>fp</th>\n",
       "      <th>fn</th>\n",
       "      <th>tp</th>\n",
       "    </tr>\n",
       "  </thead>\n",
       "  <tbody>\n",
       "    <tr>\n",
       "      <th>0</th>\n",
       "      <td>Ada Boost Classifier</td>\n",
       "      <td>0.83824</td>\n",
       "      <td>0.67647</td>\n",
       "      <td>0.625</td>\n",
       "      <td>0.72222</td>\n",
       "      <td>0.66667</td>\n",
       "      <td>0.64516</td>\n",
       "      <td>0.67361</td>\n",
       "      <td>13</td>\n",
       "      <td>5</td>\n",
       "      <td>6</td>\n",
       "      <td>10</td>\n",
       "    </tr>\n",
       "  </tbody>\n",
       "</table>\n",
       "</div>"
      ],
      "text/plain": [
       "                  model  train_accuracy  test_accuracy  sensitivity  \\\n",
       "0  Ada Boost Classifier         0.83824        0.67647        0.625   \n",
       "\n",
       "   specificity  precision  f1_score  roc_auc_score  tn  fp  fn  tp  \n",
       "0      0.72222    0.66667   0.64516        0.67361  13   5   6  10  "
      ]
     },
     "execution_count": 57,
     "metadata": {},
     "output_type": "execute_result"
    },
    {
     "data": {
      "image/png": "[encoded data removed]",
      "text/plain": [
       "<Figure size 432x288 with 2 Axes>"
      ]
     },
     "metadata": {
      "needs_background": "light"
     },
     "output_type": "display_data"
    },
    {
     "data": {
      "image/png": "[encoded data removed]",
      "text/plain": [
       "<Figure size 432x288 with 1 Axes>"
      ]
     },
     "metadata": {
      "needs_background": "light"
     },
     "output_type": "display_data"
    }
   ],
   "source": [
    "ada_eval = model_evaluation(pipe_ada, pipe_ada_params, 'Ada Boost Classifier')\n",
    "ada_eval"
   ]
  },
  {
   "cell_type": "code",
   "execution_count": 58,
   "id": "4ab05cfd",
   "metadata": {},
   "outputs": [],
   "source": [
    "df_all.append(ada_eval)"
   ]
  },
  {
   "cell_type": "markdown",
   "id": "75084d96",
   "metadata": {},
   "source": [
    "### Gradient Boost Classifier"
   ]
  },
  {
   "cell_type": "code",
   "execution_count": 59,
   "id": "6ec2bbcf",
   "metadata": {},
   "outputs": [],
   "source": [
    "# Set up pipeline for gradient boosting classifier\n",
    "pipe_gb = Pipeline([\n",
    "    ('ss', StandardScaler()),\n",
    "    ('gb', GradientBoostingClassifier())])"
   ]
  },
  {
   "cell_type": "code",
   "execution_count": 60,
   "id": "8966ad05",
   "metadata": {},
   "outputs": [],
   "source": [
    "# Set up hyperparameters tuning                    \n",
    "pipe_gb_params = {\n",
    "    'gb__loss':['deviance'],                     \n",
    "    'gb__learning_rate':[0.3],\n",
    "    'gb__n_estimators': [3],\n",
    "    'gb__subsample': [0.3]\n",
    "}"
   ]
  },
  {
   "cell_type": "code",
   "execution_count": 61,
   "id": "f95ebf56",
   "metadata": {},
   "outputs": [
    {
     "name": "stdout",
     "output_type": "stream",
     "text": [
      "Best fitting parameters: {'gb__learning_rate': 0.3, 'gb__loss': 'deviance', 'gb__n_estimators': 3, 'gb__subsample': 0.3}\n"
     ]
    },
    {
     "data": {
      "text/html": [
       "<div>\n",
       "<style scoped>\n",
       "    .dataframe tbody tr th:only-of-type {\n",
       "        vertical-align: middle;\n",
       "    }\n",
       "\n",
       "    .dataframe tbody tr th {\n",
       "        vertical-align: top;\n",
       "    }\n",
       "\n",
       "    .dataframe thead th {\n",
       "        text-align: right;\n",
       "    }\n",
       "</style>\n",
       "<table border=\"1\" class=\"dataframe\">\n",
       "  <thead>\n",
       "    <tr style=\"text-align: right;\">\n",
       "      <th></th>\n",
       "      <th>model</th>\n",
       "      <th>train_accuracy</th>\n",
       "      <th>test_accuracy</th>\n",
       "      <th>sensitivity</th>\n",
       "      <th>specificity</th>\n",
       "      <th>precision</th>\n",
       "      <th>f1_score</th>\n",
       "      <th>roc_auc_score</th>\n",
       "      <th>tn</th>\n",
       "      <th>fp</th>\n",
       "      <th>fn</th>\n",
       "      <th>tp</th>\n",
       "    </tr>\n",
       "  </thead>\n",
       "  <tbody>\n",
       "    <tr>\n",
       "      <th>0</th>\n",
       "      <td>Gradient Boosting Classifier</td>\n",
       "      <td>0.64706</td>\n",
       "      <td>0.64706</td>\n",
       "      <td>0.5</td>\n",
       "      <td>0.77778</td>\n",
       "      <td>0.66667</td>\n",
       "      <td>0.57143</td>\n",
       "      <td>0.63889</td>\n",
       "      <td>14</td>\n",
       "      <td>4</td>\n",
       "      <td>8</td>\n",
       "      <td>8</td>\n",
       "    </tr>\n",
       "  </tbody>\n",
       "</table>\n",
       "</div>"
      ],
      "text/plain": [
       "                          model  train_accuracy  test_accuracy  sensitivity  \\\n",
       "0  Gradient Boosting Classifier         0.64706        0.64706          0.5   \n",
       "\n",
       "   specificity  precision  f1_score  roc_auc_score  tn  fp  fn  tp  \n",
       "0      0.77778    0.66667   0.57143        0.63889  14   4   8   8  "
      ]
     },
     "execution_count": 61,
     "metadata": {},
     "output_type": "execute_result"
    },
    {
     "data": {
      "image/png": "[encoded data removed]",
      "text/plain": [
       "<Figure size 432x288 with 2 Axes>"
      ]
     },
     "metadata": {
      "needs_background": "light"
     },
     "output_type": "display_data"
    },
    {
     "data": {
      "image/png": "[encoded data removed]",
      "text/plain": [
       "<Figure size 432x288 with 1 Axes>"
      ]
     },
     "metadata": {
      "needs_background": "light"
     },
     "output_type": "display_data"
    }
   ],
   "source": [
    "gb_eval = model_evaluation(pipe_gb, pipe_gb_params, 'Gradient Boosting Classifier')\n",
    "gb_eval"
   ]
  },
  {
   "cell_type": "code",
   "execution_count": 62,
   "id": "50f48193",
   "metadata": {},
   "outputs": [],
   "source": [
    "df_all.append(gb_eval)"
   ]
  },
  {
   "cell_type": "code",
   "execution_count": 63,
   "id": "3f9588e6",
   "metadata": {},
   "outputs": [
    {
     "data": {
      "text/html": [
       "<div>\n",
       "<style scoped>\n",
       "    .dataframe tbody tr th:only-of-type {\n",
       "        vertical-align: middle;\n",
       "    }\n",
       "\n",
       "    .dataframe tbody tr th {\n",
       "        vertical-align: top;\n",
       "    }\n",
       "\n",
       "    .dataframe thead th {\n",
       "        text-align: right;\n",
       "    }\n",
       "</style>\n",
       "<table border=\"1\" class=\"dataframe\">\n",
       "  <thead>\n",
       "    <tr style=\"text-align: right;\">\n",
       "      <th></th>\n",
       "      <th>model</th>\n",
       "      <th>train_accuracy</th>\n",
       "      <th>test_accuracy</th>\n",
       "      <th>sensitivity</th>\n",
       "      <th>specificity</th>\n",
       "      <th>precision</th>\n",
       "      <th>f1_score</th>\n",
       "      <th>roc_auc_score</th>\n",
       "      <th>tn</th>\n",
       "      <th>fp</th>\n",
       "      <th>fn</th>\n",
       "      <th>tp</th>\n",
       "    </tr>\n",
       "  </thead>\n",
       "  <tbody>\n",
       "    <tr>\n",
       "      <th>0</th>\n",
       "      <td>Logistic Regression</td>\n",
       "      <td>0.66176</td>\n",
       "      <td>0.58824</td>\n",
       "      <td>0.5000</td>\n",
       "      <td>0.66667</td>\n",
       "      <td>0.57143</td>\n",
       "      <td>0.53333</td>\n",
       "      <td>0.58333</td>\n",
       "      <td>12</td>\n",
       "      <td>6</td>\n",
       "      <td>8</td>\n",
       "      <td>8</td>\n",
       "    </tr>\n",
       "    <tr>\n",
       "      <th>0</th>\n",
       "      <td>K-Nearest Neighbors</td>\n",
       "      <td>0.99265</td>\n",
       "      <td>0.64706</td>\n",
       "      <td>0.6250</td>\n",
       "      <td>0.66667</td>\n",
       "      <td>0.62500</td>\n",
       "      <td>0.62500</td>\n",
       "      <td>0.64583</td>\n",
       "      <td>12</td>\n",
       "      <td>6</td>\n",
       "      <td>6</td>\n",
       "      <td>10</td>\n",
       "    </tr>\n",
       "    <tr>\n",
       "      <th>0</th>\n",
       "      <td>Random Forest Classifier</td>\n",
       "      <td>0.99265</td>\n",
       "      <td>0.70588</td>\n",
       "      <td>0.8125</td>\n",
       "      <td>0.61111</td>\n",
       "      <td>0.65000</td>\n",
       "      <td>0.72222</td>\n",
       "      <td>0.71181</td>\n",
       "      <td>11</td>\n",
       "      <td>7</td>\n",
       "      <td>3</td>\n",
       "      <td>13</td>\n",
       "    </tr>\n",
       "    <tr>\n",
       "      <th>0</th>\n",
       "      <td>Ada Boost Classifier</td>\n",
       "      <td>0.83824</td>\n",
       "      <td>0.67647</td>\n",
       "      <td>0.6250</td>\n",
       "      <td>0.72222</td>\n",
       "      <td>0.66667</td>\n",
       "      <td>0.64516</td>\n",
       "      <td>0.67361</td>\n",
       "      <td>13</td>\n",
       "      <td>5</td>\n",
       "      <td>6</td>\n",
       "      <td>10</td>\n",
       "    </tr>\n",
       "    <tr>\n",
       "      <th>0</th>\n",
       "      <td>Gradient Boosting Classifier</td>\n",
       "      <td>0.64706</td>\n",
       "      <td>0.64706</td>\n",
       "      <td>0.5000</td>\n",
       "      <td>0.77778</td>\n",
       "      <td>0.66667</td>\n",
       "      <td>0.57143</td>\n",
       "      <td>0.63889</td>\n",
       "      <td>14</td>\n",
       "      <td>4</td>\n",
       "      <td>8</td>\n",
       "      <td>8</td>\n",
       "    </tr>\n",
       "  </tbody>\n",
       "</table>\n",
       "</div>"
      ],
      "text/plain": [
       "                          model  train_accuracy  test_accuracy  sensitivity  \\\n",
       "0           Logistic Regression         0.66176        0.58824       0.5000   \n",
       "0           K-Nearest Neighbors         0.99265        0.64706       0.6250   \n",
       "0      Random Forest Classifier         0.99265        0.70588       0.8125   \n",
       "0          Ada Boost Classifier         0.83824        0.67647       0.6250   \n",
       "0  Gradient Boosting Classifier         0.64706        0.64706       0.5000   \n",
       "\n",
       "   specificity  precision  f1_score  roc_auc_score  tn  fp  fn  tp  \n",
       "0      0.66667    0.57143   0.53333        0.58333  12   6   8   8  \n",
       "0      0.66667    0.62500   0.62500        0.64583  12   6   6  10  \n",
       "0      0.61111    0.65000   0.72222        0.71181  11   7   3  13  \n",
       "0      0.72222    0.66667   0.64516        0.67361  13   5   6  10  \n",
       "0      0.77778    0.66667   0.57143        0.63889  14   4   8   8  "
      ]
     },
     "execution_count": 63,
     "metadata": {},
     "output_type": "execute_result"
    }
   ],
   "source": [
    "full_df = pd.concat(df_all)\n",
    "full_df"
   ]
  },
  {
   "cell_type": "markdown",
   "id": "7941db74",
   "metadata": {},
   "source": [
    "## Summary\n",
    "\n",
    "- Different models performed better for different teams\n",
    "- Some models show promising results and might be worth investigating further.\n",
    "\n",
    "### Project's Potential Pitfalls\n",
    "\n",
    "Roster Changes\n",
    "- Unlike some traditional sports like football or soccer, a change in one player is much more significant as it consist of 20% of the lineup.\n",
    "- The impact may cause a substantial difference in a team's performance.\n",
    "- Thus, there may be value in introducing a new feature to quantify such a change.\n",
    "\n",
    "Team Dissolution\n",
    "- It is possible in CS:GO to drop teams in their entirety and pick up a new roster.\n",
    "- This compromises the integrity of the data as the team name would not adequately reflect the players that are playing under that banner.\n",
    "\n",
    "Available features\n",
    "- Due to the nature of the game, there isn't much useful features to proxy our estimates on.\n",
    "- For example, shots (on target) & corners for soccer, throw-ins & free throws in basketball, XPM & GPM & wards in Dota 2\n",
    "\n",
    "Data Availability\n",
    "- Unable to scrape rank points for teams with an international core NOT in the top 30.\n",
    "- Essentially making predictions for teams under this category impossible under the current model."
   ]
  },
  {
   "cell_type": "code",
   "execution_count": null,
   "id": "462c599c",
   "metadata": {},
   "outputs": [],
   "source": []
  },
  {
   "cell_type": "code",
   "execution_count": null,
   "id": "4b12e9c0",
   "metadata": {},
   "outputs": [],
   "source": []
  },
  {
   "cell_type": "code",
   "execution_count": null,
   "id": "0d690c92",
   "metadata": {},
   "outputs": [],
   "source": []
  }
 ],
 "metadata": {
  "kernelspec": {
   "display_name": "Python 3 (ipykernel)",
   "language": "python",
   "name": "python3"
  },
  "language_info": {
   "codemirror_mode": {
    "name": "ipython",
    "version": 3
   },
   "file_extension": ".py",
   "mimetype": "text/x-python",
   "name": "python",
   "nbconvert_exporter": "python",
   "pygments_lexer": "ipython3",
   "version": "3.9.12"
  }
 },
 "nbformat": 4,
 "nbformat_minor": 5
}
