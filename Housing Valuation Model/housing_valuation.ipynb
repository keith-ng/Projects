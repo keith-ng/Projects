{
 "cells": [
  {
   "cell_type": "markdown",
   "id": "de27333e",
   "metadata": {},
   "source": [
    "## Housing Valuation Model - Ames, Iowa\n",
    "---\n",
    "\n",
    "Goal: predict the value of the SalePrice variable."
   ]
  },
  {
   "cell_type": "markdown",
   "id": "c5635284",
   "metadata": {},
   "source": [
    "## Navigator\n",
    "1. [Data Cleaning](#p1) \n",
    "    - [Quantifying Ordinal & Categorising Nominal Features](#p2) \n",
    "    - [Filling missing data](#p3) \n",
    "    - [Removing Outliers](#p4) \n",
    "    \n",
    "2. [Feature Engineering](#p5) \n",
    "3. [Exploratory Data Analysis (EDA)](#p6) \n",
    "4. [Additional Data Cleaning](#p7) \n",
    "5. [Train/Test Split](#p8) \n",
    "6. [Model Evaluation](#p9) \n",
    "7. [Shapley Plots](#p10)"
   ]
  },
  {
   "cell_type": "code",
   "execution_count": 1,
   "id": "d7f72be4",
   "metadata": {},
   "outputs": [],
   "source": [
    "import pandas as pd\n",
    "import numpy as np\n",
    "import seaborn as sns\n",
    "import matplotlib.pyplot as plt\n",
    "import shap\n",
    "\n",
    "from sklearn.linear_model import Ridge, Lasso, ElasticNet, LinearRegression, RidgeCV, LassoCV, ElasticNetCV\n",
    "from sklearn.preprocessing import PolynomialFeatures, StandardScaler\n",
    "from sklearn.model_selection import train_test_split, cross_val_score, cross_val_predict\n",
    "from sklearn.metrics import r2_score, mean_squared_error\n",
    "from sklearn.impute import KNNImputer\n",
    "from sklearn.model_selection import GridSearchCV"
   ]
  },
  {
   "cell_type": "code",
   "execution_count": 2,
   "id": "363b79ac",
   "metadata": {},
   "outputs": [],
   "source": [
    "train = pd.read_csv('datasets/train.csv')"
   ]
  },
  {
   "cell_type": "markdown",
   "id": "b83cafc5",
   "metadata": {},
   "source": [
    "## Basic Formatting"
   ]
  },
  {
   "cell_type": "code",
   "execution_count": 3,
   "id": "bc6519d0",
   "metadata": {},
   "outputs": [],
   "source": [
    "# Adjust display options\n",
    "pd.options.display.max_rows = 555\n",
    "pd.set_option('display.max_columns', None)"
   ]
  },
  {
   "cell_type": "code",
   "execution_count": 4,
   "id": "85760eb8",
   "metadata": {},
   "outputs": [],
   "source": [
    "### Renaming columns to lower case\n",
    "train.columns = train.columns.str.lower()"
   ]
  },
  {
   "cell_type": "markdown",
   "id": "281f8791",
   "metadata": {},
   "source": [
    "## Data Cleaning\n",
    "<a id='p1'></a>"
   ]
  },
  {
   "cell_type": "code",
   "execution_count": 5,
   "id": "6dac5724",
   "metadata": {},
   "outputs": [
    {
     "data": {
      "text/plain": [
       "2051"
      ]
     },
     "execution_count": 5,
     "metadata": {},
     "output_type": "execute_result"
    }
   ],
   "source": [
    "### Dropping initial unwanted columns\n",
    "# No. of rows for reference - 2051\n",
    "train.shape[0]"
   ]
  },
  {
   "cell_type": "markdown",
   "id": "6317ceea",
   "metadata": {},
   "source": [
    "**Dropping Columns**"
   ]
  },
  {
   "cell_type": "code",
   "execution_count": 6,
   "id": "39654e5a",
   "metadata": {},
   "outputs": [
    {
     "data": {
      "text/html": [
       "<div>\n",
       "<style scoped>\n",
       "    .dataframe tbody tr th:only-of-type {\n",
       "        vertical-align: middle;\n",
       "    }\n",
       "\n",
       "    .dataframe tbody tr th {\n",
       "        vertical-align: top;\n",
       "    }\n",
       "\n",
       "    .dataframe thead th {\n",
       "        text-align: right;\n",
       "    }\n",
       "</style>\n",
       "<table border=\"1\" class=\"dataframe\">\n",
       "  <thead>\n",
       "    <tr style=\"text-align: right;\">\n",
       "      <th></th>\n",
       "      <th>id</th>\n",
       "      <th>pid</th>\n",
       "      <th>ms subclass</th>\n",
       "      <th>ms zoning</th>\n",
       "      <th>lot frontage</th>\n",
       "      <th>lot area</th>\n",
       "      <th>street</th>\n",
       "      <th>alley</th>\n",
       "      <th>lot shape</th>\n",
       "      <th>land contour</th>\n",
       "      <th>utilities</th>\n",
       "      <th>lot config</th>\n",
       "      <th>land slope</th>\n",
       "      <th>neighborhood</th>\n",
       "      <th>condition 1</th>\n",
       "      <th>condition 2</th>\n",
       "      <th>bldg type</th>\n",
       "      <th>house style</th>\n",
       "      <th>overall qual</th>\n",
       "      <th>overall cond</th>\n",
       "      <th>year built</th>\n",
       "      <th>year remod/add</th>\n",
       "      <th>roof style</th>\n",
       "      <th>roof matl</th>\n",
       "      <th>exterior 1st</th>\n",
       "      <th>exterior 2nd</th>\n",
       "      <th>mas vnr type</th>\n",
       "      <th>mas vnr area</th>\n",
       "      <th>exter qual</th>\n",
       "      <th>exter cond</th>\n",
       "      <th>foundation</th>\n",
       "      <th>bsmt qual</th>\n",
       "      <th>bsmt cond</th>\n",
       "      <th>bsmt exposure</th>\n",
       "      <th>bsmtfin type 1</th>\n",
       "      <th>bsmtfin sf 1</th>\n",
       "      <th>bsmtfin type 2</th>\n",
       "      <th>bsmtfin sf 2</th>\n",
       "      <th>bsmt unf sf</th>\n",
       "      <th>total bsmt sf</th>\n",
       "      <th>heating</th>\n",
       "      <th>heating qc</th>\n",
       "      <th>central air</th>\n",
       "      <th>electrical</th>\n",
       "      <th>1st flr sf</th>\n",
       "      <th>2nd flr sf</th>\n",
       "      <th>low qual fin sf</th>\n",
       "      <th>gr liv area</th>\n",
       "      <th>bsmt full bath</th>\n",
       "      <th>bsmt half bath</th>\n",
       "      <th>full bath</th>\n",
       "      <th>half bath</th>\n",
       "      <th>bedroom abvgr</th>\n",
       "      <th>kitchen abvgr</th>\n",
       "      <th>kitchen qual</th>\n",
       "      <th>totrms abvgrd</th>\n",
       "      <th>functional</th>\n",
       "      <th>fireplaces</th>\n",
       "      <th>fireplace qu</th>\n",
       "      <th>garage type</th>\n",
       "      <th>garage yr blt</th>\n",
       "      <th>garage finish</th>\n",
       "      <th>garage cars</th>\n",
       "      <th>garage area</th>\n",
       "      <th>garage qual</th>\n",
       "      <th>garage cond</th>\n",
       "      <th>paved drive</th>\n",
       "      <th>wood deck sf</th>\n",
       "      <th>open porch sf</th>\n",
       "      <th>enclosed porch</th>\n",
       "      <th>3ssn porch</th>\n",
       "      <th>screen porch</th>\n",
       "      <th>pool area</th>\n",
       "      <th>pool qc</th>\n",
       "      <th>fence</th>\n",
       "      <th>misc feature</th>\n",
       "      <th>misc val</th>\n",
       "      <th>mo sold</th>\n",
       "      <th>yr sold</th>\n",
       "      <th>sale type</th>\n",
       "      <th>saleprice</th>\n",
       "    </tr>\n",
       "  </thead>\n",
       "  <tbody>\n",
       "    <tr>\n",
       "      <th>0</th>\n",
       "      <td>109</td>\n",
       "      <td>533352170</td>\n",
       "      <td>60</td>\n",
       "      <td>RL</td>\n",
       "      <td>NaN</td>\n",
       "      <td>13517</td>\n",
       "      <td>Pave</td>\n",
       "      <td>NaN</td>\n",
       "      <td>IR1</td>\n",
       "      <td>Lvl</td>\n",
       "      <td>AllPub</td>\n",
       "      <td>CulDSac</td>\n",
       "      <td>Gtl</td>\n",
       "      <td>Sawyer</td>\n",
       "      <td>RRAe</td>\n",
       "      <td>Norm</td>\n",
       "      <td>1Fam</td>\n",
       "      <td>2Story</td>\n",
       "      <td>6</td>\n",
       "      <td>8</td>\n",
       "      <td>1976</td>\n",
       "      <td>2005</td>\n",
       "      <td>Gable</td>\n",
       "      <td>CompShg</td>\n",
       "      <td>HdBoard</td>\n",
       "      <td>Plywood</td>\n",
       "      <td>BrkFace</td>\n",
       "      <td>289.0</td>\n",
       "      <td>Gd</td>\n",
       "      <td>TA</td>\n",
       "      <td>CBlock</td>\n",
       "      <td>TA</td>\n",
       "      <td>TA</td>\n",
       "      <td>No</td>\n",
       "      <td>GLQ</td>\n",
       "      <td>533.0</td>\n",
       "      <td>Unf</td>\n",
       "      <td>0.0</td>\n",
       "      <td>192.0</td>\n",
       "      <td>725.0</td>\n",
       "      <td>GasA</td>\n",
       "      <td>Ex</td>\n",
       "      <td>Y</td>\n",
       "      <td>SBrkr</td>\n",
       "      <td>725</td>\n",
       "      <td>754</td>\n",
       "      <td>0</td>\n",
       "      <td>1479</td>\n",
       "      <td>0.0</td>\n",
       "      <td>0.0</td>\n",
       "      <td>2</td>\n",
       "      <td>1</td>\n",
       "      <td>3</td>\n",
       "      <td>1</td>\n",
       "      <td>Gd</td>\n",
       "      <td>6</td>\n",
       "      <td>Typ</td>\n",
       "      <td>0</td>\n",
       "      <td>NaN</td>\n",
       "      <td>Attchd</td>\n",
       "      <td>1976.0</td>\n",
       "      <td>RFn</td>\n",
       "      <td>2.0</td>\n",
       "      <td>475.0</td>\n",
       "      <td>TA</td>\n",
       "      <td>TA</td>\n",
       "      <td>Y</td>\n",
       "      <td>0</td>\n",
       "      <td>44</td>\n",
       "      <td>0</td>\n",
       "      <td>0</td>\n",
       "      <td>0</td>\n",
       "      <td>0</td>\n",
       "      <td>NaN</td>\n",
       "      <td>NaN</td>\n",
       "      <td>NaN</td>\n",
       "      <td>0</td>\n",
       "      <td>3</td>\n",
       "      <td>2010</td>\n",
       "      <td>WD</td>\n",
       "      <td>130500</td>\n",
       "    </tr>\n",
       "    <tr>\n",
       "      <th>1</th>\n",
       "      <td>544</td>\n",
       "      <td>531379050</td>\n",
       "      <td>60</td>\n",
       "      <td>RL</td>\n",
       "      <td>43.0</td>\n",
       "      <td>11492</td>\n",
       "      <td>Pave</td>\n",
       "      <td>NaN</td>\n",
       "      <td>IR1</td>\n",
       "      <td>Lvl</td>\n",
       "      <td>AllPub</td>\n",
       "      <td>CulDSac</td>\n",
       "      <td>Gtl</td>\n",
       "      <td>SawyerW</td>\n",
       "      <td>Norm</td>\n",
       "      <td>Norm</td>\n",
       "      <td>1Fam</td>\n",
       "      <td>2Story</td>\n",
       "      <td>7</td>\n",
       "      <td>5</td>\n",
       "      <td>1996</td>\n",
       "      <td>1997</td>\n",
       "      <td>Gable</td>\n",
       "      <td>CompShg</td>\n",
       "      <td>VinylSd</td>\n",
       "      <td>VinylSd</td>\n",
       "      <td>BrkFace</td>\n",
       "      <td>132.0</td>\n",
       "      <td>Gd</td>\n",
       "      <td>TA</td>\n",
       "      <td>PConc</td>\n",
       "      <td>Gd</td>\n",
       "      <td>TA</td>\n",
       "      <td>No</td>\n",
       "      <td>GLQ</td>\n",
       "      <td>637.0</td>\n",
       "      <td>Unf</td>\n",
       "      <td>0.0</td>\n",
       "      <td>276.0</td>\n",
       "      <td>913.0</td>\n",
       "      <td>GasA</td>\n",
       "      <td>Ex</td>\n",
       "      <td>Y</td>\n",
       "      <td>SBrkr</td>\n",
       "      <td>913</td>\n",
       "      <td>1209</td>\n",
       "      <td>0</td>\n",
       "      <td>2122</td>\n",
       "      <td>1.0</td>\n",
       "      <td>0.0</td>\n",
       "      <td>2</td>\n",
       "      <td>1</td>\n",
       "      <td>4</td>\n",
       "      <td>1</td>\n",
       "      <td>Gd</td>\n",
       "      <td>8</td>\n",
       "      <td>Typ</td>\n",
       "      <td>1</td>\n",
       "      <td>TA</td>\n",
       "      <td>Attchd</td>\n",
       "      <td>1997.0</td>\n",
       "      <td>RFn</td>\n",
       "      <td>2.0</td>\n",
       "      <td>559.0</td>\n",
       "      <td>TA</td>\n",
       "      <td>TA</td>\n",
       "      <td>Y</td>\n",
       "      <td>0</td>\n",
       "      <td>74</td>\n",
       "      <td>0</td>\n",
       "      <td>0</td>\n",
       "      <td>0</td>\n",
       "      <td>0</td>\n",
       "      <td>NaN</td>\n",
       "      <td>NaN</td>\n",
       "      <td>NaN</td>\n",
       "      <td>0</td>\n",
       "      <td>4</td>\n",
       "      <td>2009</td>\n",
       "      <td>WD</td>\n",
       "      <td>220000</td>\n",
       "    </tr>\n",
       "  </tbody>\n",
       "</table>\n",
       "</div>"
      ],
      "text/plain": [
       "    id        pid  ms subclass ms zoning  lot frontage  lot area street alley  \\\n",
       "0  109  533352170           60        RL           NaN     13517   Pave   NaN   \n",
       "1  544  531379050           60        RL          43.0     11492   Pave   NaN   \n",
       "\n",
       "  lot shape land contour utilities lot config land slope neighborhood  \\\n",
       "0       IR1          Lvl    AllPub    CulDSac        Gtl       Sawyer   \n",
       "1       IR1          Lvl    AllPub    CulDSac        Gtl      SawyerW   \n",
       "\n",
       "  condition 1 condition 2 bldg type house style  overall qual  overall cond  \\\n",
       "0        RRAe        Norm      1Fam      2Story             6             8   \n",
       "1        Norm        Norm      1Fam      2Story             7             5   \n",
       "\n",
       "   year built  year remod/add roof style roof matl exterior 1st exterior 2nd  \\\n",
       "0        1976            2005      Gable   CompShg      HdBoard      Plywood   \n",
       "1        1996            1997      Gable   CompShg      VinylSd      VinylSd   \n",
       "\n",
       "  mas vnr type  mas vnr area exter qual exter cond foundation bsmt qual  \\\n",
       "0      BrkFace         289.0         Gd         TA     CBlock        TA   \n",
       "1      BrkFace         132.0         Gd         TA      PConc        Gd   \n",
       "\n",
       "  bsmt cond bsmt exposure bsmtfin type 1  bsmtfin sf 1 bsmtfin type 2  \\\n",
       "0        TA            No            GLQ         533.0            Unf   \n",
       "1        TA            No            GLQ         637.0            Unf   \n",
       "\n",
       "   bsmtfin sf 2  bsmt unf sf  total bsmt sf heating heating qc central air  \\\n",
       "0           0.0        192.0          725.0    GasA         Ex           Y   \n",
       "1           0.0        276.0          913.0    GasA         Ex           Y   \n",
       "\n",
       "  electrical  1st flr sf  2nd flr sf  low qual fin sf  gr liv area  \\\n",
       "0      SBrkr         725         754                0         1479   \n",
       "1      SBrkr         913        1209                0         2122   \n",
       "\n",
       "   bsmt full bath  bsmt half bath  full bath  half bath  bedroom abvgr  \\\n",
       "0             0.0             0.0          2          1              3   \n",
       "1             1.0             0.0          2          1              4   \n",
       "\n",
       "   kitchen abvgr kitchen qual  totrms abvgrd functional  fireplaces  \\\n",
       "0              1           Gd              6        Typ           0   \n",
       "1              1           Gd              8        Typ           1   \n",
       "\n",
       "  fireplace qu garage type  garage yr blt garage finish  garage cars  \\\n",
       "0          NaN      Attchd         1976.0           RFn          2.0   \n",
       "1           TA      Attchd         1997.0           RFn          2.0   \n",
       "\n",
       "   garage area garage qual garage cond paved drive  wood deck sf  \\\n",
       "0        475.0          TA          TA           Y             0   \n",
       "1        559.0          TA          TA           Y             0   \n",
       "\n",
       "   open porch sf  enclosed porch  3ssn porch  screen porch  pool area pool qc  \\\n",
       "0             44               0           0             0          0     NaN   \n",
       "1             74               0           0             0          0     NaN   \n",
       "\n",
       "  fence misc feature  misc val  mo sold  yr sold sale type  saleprice  \n",
       "0   NaN          NaN         0        3     2010       WD      130500  \n",
       "1   NaN          NaN         0        4     2009       WD      220000  "
      ]
     },
     "execution_count": 6,
     "metadata": {},
     "output_type": "execute_result"
    }
   ],
   "source": [
    "# Preview dataset\n",
    "train.head(2)"
   ]
  },
  {
   "cell_type": "code",
   "execution_count": 7,
   "id": "a8d856e6",
   "metadata": {},
   "outputs": [],
   "source": [
    "# Drop IDs column\n",
    "train = train.drop(columns=['id', 'pid'])"
   ]
  },
  {
   "cell_type": "code",
   "execution_count": 8,
   "id": "0e66828d",
   "metadata": {},
   "outputs": [
    {
     "data": {
      "text/plain": [
       "ms subclass           0\n",
       "ms zoning             0\n",
       "lot frontage        330\n",
       "lot area              0\n",
       "street                0\n",
       "alley              1911\n",
       "lot shape             0\n",
       "land contour          0\n",
       "utilities             0\n",
       "lot config            0\n",
       "land slope            0\n",
       "neighborhood          0\n",
       "condition 1           0\n",
       "condition 2           0\n",
       "bldg type             0\n",
       "house style           0\n",
       "overall qual          0\n",
       "overall cond          0\n",
       "year built            0\n",
       "year remod/add        0\n",
       "roof style            0\n",
       "roof matl             0\n",
       "exterior 1st          0\n",
       "exterior 2nd          0\n",
       "mas vnr type         22\n",
       "mas vnr area         22\n",
       "exter qual            0\n",
       "exter cond            0\n",
       "foundation            0\n",
       "bsmt qual            55\n",
       "bsmt cond            55\n",
       "bsmt exposure        58\n",
       "bsmtfin type 1       55\n",
       "bsmtfin sf 1          1\n",
       "bsmtfin type 2       56\n",
       "bsmtfin sf 2          1\n",
       "bsmt unf sf           1\n",
       "total bsmt sf         1\n",
       "heating               0\n",
       "heating qc            0\n",
       "central air           0\n",
       "electrical            0\n",
       "1st flr sf            0\n",
       "2nd flr sf            0\n",
       "low qual fin sf       0\n",
       "gr liv area           0\n",
       "bsmt full bath        2\n",
       "bsmt half bath        2\n",
       "full bath             0\n",
       "half bath             0\n",
       "bedroom abvgr         0\n",
       "kitchen abvgr         0\n",
       "kitchen qual          0\n",
       "totrms abvgrd         0\n",
       "functional            0\n",
       "fireplaces            0\n",
       "fireplace qu       1000\n",
       "garage type         113\n",
       "garage yr blt       114\n",
       "garage finish       114\n",
       "garage cars           1\n",
       "garage area           1\n",
       "garage qual         114\n",
       "garage cond         114\n",
       "paved drive           0\n",
       "wood deck sf          0\n",
       "open porch sf         0\n",
       "enclosed porch        0\n",
       "3ssn porch            0\n",
       "screen porch          0\n",
       "pool area             0\n",
       "pool qc            2042\n",
       "fence              1651\n",
       "misc feature       1986\n",
       "misc val              0\n",
       "mo sold               0\n",
       "yr sold               0\n",
       "sale type             0\n",
       "saleprice             0\n",
       "dtype: int64"
      ]
     },
     "execution_count": 8,
     "metadata": {},
     "output_type": "execute_result"
    }
   ],
   "source": [
    "# Check for null values count\n",
    "train.isnull().sum()"
   ]
  },
  {
   "cell_type": "code",
   "execution_count": 9,
   "id": "bf50108c",
   "metadata": {},
   "outputs": [],
   "source": [
    "# Drop unvaluable columns with large amounts of missing data\n",
    "train = train.drop(columns=['alley', 'fireplace qu', 'pool qc', 'fence', 'misc feature', 'lot frontage'])"
   ]
  },
  {
   "cell_type": "code",
   "execution_count": 10,
   "id": "c504037b",
   "metadata": {},
   "outputs": [
    {
     "data": {
      "text/plain": [
       "Y    1910\n",
       "N     141\n",
       "Name: central air, dtype: int64"
      ]
     },
     "execution_count": 10,
     "metadata": {},
     "output_type": "execute_result"
    }
   ],
   "source": [
    "# With reference to dataset's data dictionary\n",
    "# Drop columns with poor distribution\n",
    "\n",
    "train['utilities'].value_counts()\n",
    "# DROP: distribution: 2049, 1,  >>> not useful\n",
    "train['condition 2'].value_counts()\n",
    "# DROP: distribution too skewed\n",
    "train['roof matl'].value_counts()\n",
    "# DROP: distribution too skewed\n",
    "train['heating'].value_counts()\n",
    "# DROP: distribution too skewed\n",
    "train['central air'].value_counts()\n",
    "# Binary Column"
   ]
  },
  {
   "cell_type": "code",
   "execution_count": 11,
   "id": "91214712",
   "metadata": {},
   "outputs": [],
   "source": [
    "# Drop unvaluable columns with poor categorical distribution\n",
    "train = train.drop(columns=[ 'utilities', 'condition 2', 'heating', 'roof matl'])"
   ]
  },
  {
   "cell_type": "markdown",
   "id": "d4d1d7dc",
   "metadata": {},
   "source": [
    "**Dropping Rows**"
   ]
  },
  {
   "cell_type": "code",
   "execution_count": 12,
   "id": "1e284b92",
   "metadata": {},
   "outputs": [],
   "source": [
    "# Remove rows with few null values (1 or 2)\n",
    "train.dropna(subset=['bsmtfin sf 1'], inplace=True)\n",
    "train.dropna(subset=['bsmt unf sf'], inplace=True)\n",
    "train.dropna(subset=['total bsmt sf'], inplace=True)\n",
    "train.dropna(subset=['bsmt full bath'], inplace=True)\n",
    "train.dropna(subset=['garage cars'], inplace=True)\n",
    "train.dropna(subset=['garage area'], inplace=True)"
   ]
  },
  {
   "cell_type": "code",
   "execution_count": 13,
   "id": "573e8ecd",
   "metadata": {},
   "outputs": [],
   "source": [
    "# reset index to prevent any future formatting errors\n",
    "train = train.reset_index(drop=True)"
   ]
  },
  {
   "cell_type": "markdown",
   "id": "27242107",
   "metadata": {},
   "source": [
    "**Changing non-numeric data to quantifiable amounts**"
   ]
  },
  {
   "cell_type": "code",
   "execution_count": 14,
   "id": "24d098e1",
   "metadata": {},
   "outputs": [
    {
     "data": {
      "text/plain": [
       "ms subclass          int64\n",
       "ms zoning           object\n",
       "lot area             int64\n",
       "street              object\n",
       "lot shape           object\n",
       "land contour        object\n",
       "lot config          object\n",
       "land slope          object\n",
       "neighborhood        object\n",
       "condition 1         object\n",
       "bldg type           object\n",
       "house style         object\n",
       "overall qual         int64\n",
       "overall cond         int64\n",
       "year built           int64\n",
       "year remod/add       int64\n",
       "roof style          object\n",
       "exterior 1st        object\n",
       "exterior 2nd        object\n",
       "mas vnr type        object\n",
       "mas vnr area       float64\n",
       "exter qual          object\n",
       "exter cond          object\n",
       "foundation          object\n",
       "bsmt qual           object\n",
       "bsmt cond           object\n",
       "bsmt exposure       object\n",
       "bsmtfin type 1      object\n",
       "bsmtfin sf 1       float64\n",
       "bsmtfin type 2      object\n",
       "bsmtfin sf 2       float64\n",
       "bsmt unf sf        float64\n",
       "total bsmt sf      float64\n",
       "heating qc          object\n",
       "central air         object\n",
       "electrical          object\n",
       "1st flr sf           int64\n",
       "2nd flr sf           int64\n",
       "low qual fin sf      int64\n",
       "gr liv area          int64\n",
       "bsmt full bath     float64\n",
       "bsmt half bath     float64\n",
       "full bath            int64\n",
       "half bath            int64\n",
       "bedroom abvgr        int64\n",
       "kitchen abvgr        int64\n",
       "kitchen qual        object\n",
       "totrms abvgrd        int64\n",
       "functional          object\n",
       "fireplaces           int64\n",
       "garage type         object\n",
       "garage yr blt      float64\n",
       "garage finish       object\n",
       "garage cars        float64\n",
       "garage area        float64\n",
       "garage qual         object\n",
       "garage cond         object\n",
       "paved drive         object\n",
       "wood deck sf         int64\n",
       "open porch sf        int64\n",
       "enclosed porch       int64\n",
       "3ssn porch           int64\n",
       "screen porch         int64\n",
       "pool area            int64\n",
       "misc val             int64\n",
       "mo sold              int64\n",
       "yr sold              int64\n",
       "sale type           object\n",
       "saleprice            int64\n",
       "dtype: object"
      ]
     },
     "execution_count": 14,
     "metadata": {},
     "output_type": "execute_result"
    }
   ],
   "source": [
    "### Checking datatypes\n",
    "train.dtypes"
   ]
  },
  {
   "cell_type": "markdown",
   "id": "d69392e5",
   "metadata": {},
   "source": [
    "**Perception of ratings cannot be evenly spaced, thus weights adjusted to saleprice if there is a presence of correlation**\n",
    "<a id='p2'></a>"
   ]
  },
  {
   "cell_type": "code",
   "execution_count": 15,
   "id": "93b1c80e",
   "metadata": {},
   "outputs": [],
   "source": [
    "### Ranking ordinal column values - weight adjusted by comparing to saleprice if there are signs of corr\n",
    "train['exter qual'] = train['exter qual'].map({'Ex':7.69, 'Gd':4.82, 'TA':3.07, 'Fa':2, 'Po':1, 'NA':0})\n",
    "train['bsmt qual'] = train['bsmt qual'].map({'Ex':9.392, 'Gd':5.16, 'TA':3.075, 'Fa':2, 'Po':1, 'NA':0})\n",
    "train['bsmt cond'] = train['bsmt cond'].map({'Ex':4.467, 'Gd':4.467, 'TA':3.167, 'Fa':1, 'Po':1, 'NA':0})\n",
    "train['bsmt exposure'] = train['bsmt exposure'].map({'Gd':6.354, 'Av':3.086, 'Mn':2.242, 'No':1, 'NA':0})\n",
    "train['garage finish'] = train['garage finish'].map({'Fin':4.303, 'RFn':3.136, 'Unf':1, 'NA':0})\n",
    "train['garage qual'] = train['garage qual'].map({'Ex':4.897, 'Gd':4.897, 'TA':3.466, 'Fa':2.024, 'Po':1, 'NA':0})\n",
    "train['paved drive'] = train['paved drive'].map({'Y':4.369, 'P':2.01, 'N':1})\n",
    "train['electrical'] = train['electrical'].map({'Mix':1, 'FuseP':2.099, 'FuseF':3.4453, 'FuseA':4.7043, 'SBrkr':9.0514})\n",
    "train['kitchen qual'] = train['kitchen qual'].map({'Po':1, 'Fa':2, 'TA':3.2722, 'Gd':5.6765, 'Ex':8.8363})"
   ]
  },
  {
   "cell_type": "code",
   "execution_count": 16,
   "id": "9628e343",
   "metadata": {},
   "outputs": [],
   "source": [
    "# low corr - weight unadjusted, ranked in even steps\n",
    "train['bsmtfin type 1'] = train['bsmtfin type 1'].map({'GLQ':6, 'ALQ':5, 'BLQ':4, 'Rec':3, 'LwQ':2, 'Unf':1, 'NA':0})\n",
    "train['garage cond'] = train['garage cond'].map({'Ex':5, 'Gd':4, 'TA':3, 'Fa':2, 'Po':1, 'NA':0})\n",
    "train['exter cond'] = train['exter cond'].map({'Ex':5, 'Gd':4, 'TA':3, 'Fa':2, 'Po':1, 'NA':0})"
   ]
  },
  {
   "cell_type": "markdown",
   "id": "a668ffdf",
   "metadata": {},
   "source": [
    "**Converting columns with 2 non-numeric options**"
   ]
  },
  {
   "cell_type": "code",
   "execution_count": 17,
   "id": "966bbacb",
   "metadata": {},
   "outputs": [],
   "source": [
    "### Converting binary column values\n",
    "train['street'] = train['street'].map({'Pave':1, 'Grvl':0})\n",
    "train['central air'] = train['central air'].map({'Y':1, 'N':0})"
   ]
  },
  {
   "cell_type": "markdown",
   "id": "423acb6c",
   "metadata": {},
   "source": [
    "**Converting numeric columns to non-numeric columns due to nature of variable**"
   ]
  },
  {
   "cell_type": "code",
   "execution_count": 18,
   "id": "4fc1a69c",
   "metadata": {},
   "outputs": [],
   "source": [
    "### Converting nominal columns to string\n",
    "train['ms subclass'] = train['ms subclass'].map({20:'1S_1946', 30:'1S_1945', 40:'1S_attic', 45:'1.5S_unf', 50:'1.5S_fin', 60:'2S_1946', 70:'2S_1945', 75:'2.5S', 80:'Split_multi_lvl', 85:'Split_foyer', 90:'Duplex', 120:'1S_PUD', 150:'1.5S_PUD', 160:'2S_PUD', 180:'ML_PUD', 190:'2Fam_Conv'})\n",
    "train['mo sold'] = train['ms subclass'].map({1:'Jan', 2:'Feb',3:'Mar',4:'Apr',5:'May',6:'Jun',7:'Jul',8:'Aug',9:'Sep',10:'Oct',11:'Nov',12:'Dec'})"
   ]
  },
  {
   "cell_type": "markdown",
   "id": "a8c68123",
   "metadata": {},
   "source": [
    "**Determining appropriate methods to fill missing data**\n",
    "<a id='p3'></a>"
   ]
  },
  {
   "cell_type": "markdown",
   "id": "d5c73856",
   "metadata": {},
   "source": [
    "Variable has some reasonably high correlation with other variables, thus KNN used to predict based on those variables"
   ]
  },
  {
   "cell_type": "code",
   "execution_count": 19,
   "id": "63fc1625",
   "metadata": {},
   "outputs": [],
   "source": [
    "### Filling in missing data\n",
    "# bsmt qual - KNN used with highest correlated variables\n",
    "knn_imp = KNNImputer()\n",
    "train_mis = train[['bsmt qual', 'overall qual', 'year built', 'exter qual', 'year remod/add']]\n",
    "knn_imp_income_missing = knn_imp.fit_transform(train_mis)\n",
    "knn_imp_income_missing = pd.DataFrame(knn_imp_income_missing, columns = train_mis.columns)\n",
    "train['bsmt qual'] = knn_imp_income_missing['bsmt qual']\n",
    "\n",
    "# mas vnr area - KNN used with highest correlated variables\n",
    "train_mis = train[['mas vnr area', '1st flr sf', 'bsmt qual', 'exter qual', 'total bsmt sf', 'overall qual']]\n",
    "knn_imp_income_missing = knn_imp.fit_transform(train_mis)\n",
    "knn_imp_income_missing = pd.DataFrame(knn_imp_income_missing, columns = train_mis.columns)\n",
    "train['mas vnr area'] = knn_imp_income_missing['mas vnr area']\n",
    "\n",
    "# bsmt cond - ordinal ranking reasonable thou heavy on 3\n",
    "train.corr()['bsmt cond'].sort_values()\n",
    "# highest corr 0.214, uneven distribution, mean values used to replace null values\n",
    "train['bsmt cond'] = train['bsmt cond'].fillna(np.mean(train['bsmt cond']))\n",
    "\n",
    "# bsmt exposure - KNN used with highest correlated variables\n",
    "train_mis = train[['bsmt exposure', 'bsmt qual', 'bsmtfin sf 1', '1st flr sf', 'total bsmt sf', 'overall qual']]\n",
    "knn_imp_income_missing = knn_imp.fit_transform(train_mis)\n",
    "knn_imp_income_missing = pd.DataFrame(knn_imp_income_missing, columns = train_mis.columns)\n",
    "train['bsmt exposure'] = knn_imp_income_missing['bsmt exposure']\n",
    "\n",
    "# bsmtfin type 1 - KNN used with highest correlated variables\n",
    "train_mis = train[['bsmtfin type 1', 'bsmtfin sf 1', 'bsmt full bath', 'bsmt unf sf']]\n",
    "knn_imp_income_missing = knn_imp.fit_transform(train_mis)\n",
    "knn_imp_income_missing = pd.DataFrame(knn_imp_income_missing, columns = train_mis.columns)\n",
    "train['bsmtfin type 1'] = knn_imp_income_missing['bsmtfin type 1']"
   ]
  },
  {
   "cell_type": "markdown",
   "id": "1dcdf03b",
   "metadata": {},
   "source": [
    "**Variable distribution is extremely unevenly distributed thus filled with mode**"
   ]
  },
  {
   "cell_type": "code",
   "execution_count": 20,
   "id": "47f2e9f4",
   "metadata": {},
   "outputs": [],
   "source": [
    "### Filling in missing data - simple imputation (since distribution skewed)\n",
    "# bsmtfin type 2 - filled with mode\n",
    "train['bsmtfin type 2'] = train['bsmtfin type 2'].fillna('Unf')\n",
    "\n",
    "# garage type - filled with mode\n",
    "train['garage type'] = train['garage type'].fillna('Attchd')\n",
    "\n",
    "# garage qual - filled with mode\n",
    "train['garage qual'] = train['garage qual'].fillna(3.466)\n",
    "\n",
    "# garage cond - filled with mode\n",
    "train['garage cond'] = train['garage cond'].fillna(3)\n",
    "\n",
    "# land slope - filled with mode\n",
    "train['land slope'] = train['land slope'].fillna('Gtl')"
   ]
  },
  {
   "cell_type": "markdown",
   "id": "4b75b545",
   "metadata": {},
   "source": [
    "**Very strong correlation with a specific variable so filled accordingly**"
   ]
  },
  {
   "cell_type": "code",
   "execution_count": 21,
   "id": "2e5afe43",
   "metadata": {},
   "outputs": [],
   "source": [
    "# garage yr built - filled with 'yr built'\n",
    "train['garage yr blt'] = train['garage yr blt'].fillna(train['year built'])"
   ]
  },
  {
   "cell_type": "markdown",
   "id": "60a2a823",
   "metadata": {},
   "source": [
    "**Value counts no clear distributions thus mean is used**"
   ]
  },
  {
   "cell_type": "code",
   "execution_count": 22,
   "id": "3aa746ee",
   "metadata": {},
   "outputs": [
    {
     "data": {
      "text/plain": [
       "1.000    847\n",
       "3.136    579\n",
       "4.303    509\n",
       "Name: garage finish, dtype: int64"
      ]
     },
     "execution_count": 22,
     "metadata": {},
     "output_type": "execute_result"
    }
   ],
   "source": [
    "train['garage finish'].value_counts()"
   ]
  },
  {
   "cell_type": "code",
   "execution_count": 23,
   "id": "86bae8d9",
   "metadata": {},
   "outputs": [],
   "source": [
    "# garage finish - filled with mean \n",
    "train['garage finish'] = train['garage finish'].fillna(np.mean(train['garage finish']))"
   ]
  },
  {
   "cell_type": "markdown",
   "id": "84060857",
   "metadata": {},
   "source": [
    "**Removing outliers** \\\n",
    "Features with a significant difference in max & 75% identified and explored for outliers. \\\n",
    "No. of outliers dropped dependent on position & impact on model score.\n",
    "<a id='p4'></a>"
   ]
  },
  {
   "cell_type": "markdown",
   "id": "f70c667c",
   "metadata": {},
   "source": [
    "train.describe()"
   ]
  },
  {
   "cell_type": "code",
   "execution_count": 24,
   "id": "bb591b4a",
   "metadata": {},
   "outputs": [
    {
     "data": {
      "text/html": [
       "<div>\n",
       "<style scoped>\n",
       "    .dataframe tbody tr th:only-of-type {\n",
       "        vertical-align: middle;\n",
       "    }\n",
       "\n",
       "    .dataframe tbody tr th {\n",
       "        vertical-align: top;\n",
       "    }\n",
       "\n",
       "    .dataframe thead th {\n",
       "        text-align: right;\n",
       "    }\n",
       "</style>\n",
       "<table border=\"1\" class=\"dataframe\">\n",
       "  <thead>\n",
       "    <tr style=\"text-align: right;\">\n",
       "      <th></th>\n",
       "      <th>lot area</th>\n",
       "      <th>street</th>\n",
       "      <th>overall qual</th>\n",
       "      <th>overall cond</th>\n",
       "      <th>year built</th>\n",
       "      <th>year remod/add</th>\n",
       "      <th>mas vnr area</th>\n",
       "      <th>exter qual</th>\n",
       "      <th>exter cond</th>\n",
       "      <th>bsmt qual</th>\n",
       "      <th>bsmt cond</th>\n",
       "      <th>bsmt exposure</th>\n",
       "      <th>bsmtfin type 1</th>\n",
       "      <th>bsmtfin sf 1</th>\n",
       "      <th>bsmtfin sf 2</th>\n",
       "      <th>bsmt unf sf</th>\n",
       "      <th>total bsmt sf</th>\n",
       "      <th>central air</th>\n",
       "      <th>electrical</th>\n",
       "      <th>1st flr sf</th>\n",
       "      <th>2nd flr sf</th>\n",
       "      <th>low qual fin sf</th>\n",
       "      <th>gr liv area</th>\n",
       "      <th>bsmt full bath</th>\n",
       "      <th>bsmt half bath</th>\n",
       "      <th>full bath</th>\n",
       "      <th>half bath</th>\n",
       "      <th>bedroom abvgr</th>\n",
       "      <th>kitchen abvgr</th>\n",
       "      <th>kitchen qual</th>\n",
       "      <th>totrms abvgrd</th>\n",
       "      <th>fireplaces</th>\n",
       "      <th>garage yr blt</th>\n",
       "      <th>garage finish</th>\n",
       "      <th>garage cars</th>\n",
       "      <th>garage area</th>\n",
       "      <th>garage qual</th>\n",
       "      <th>garage cond</th>\n",
       "      <th>paved drive</th>\n",
       "      <th>wood deck sf</th>\n",
       "      <th>open porch sf</th>\n",
       "      <th>enclosed porch</th>\n",
       "      <th>3ssn porch</th>\n",
       "      <th>screen porch</th>\n",
       "      <th>pool area</th>\n",
       "      <th>misc val</th>\n",
       "      <th>yr sold</th>\n",
       "      <th>saleprice</th>\n",
       "    </tr>\n",
       "  </thead>\n",
       "  <tbody>\n",
       "    <tr>\n",
       "      <th>count</th>\n",
       "      <td>2048.000000</td>\n",
       "      <td>2048.000000</td>\n",
       "      <td>2048.000000</td>\n",
       "      <td>2048.000000</td>\n",
       "      <td>2048.000000</td>\n",
       "      <td>2048.000000</td>\n",
       "      <td>2048.000000</td>\n",
       "      <td>2048.000000</td>\n",
       "      <td>2048.000000</td>\n",
       "      <td>2048.000000</td>\n",
       "      <td>2048.000000</td>\n",
       "      <td>2048.000000</td>\n",
       "      <td>2048.000000</td>\n",
       "      <td>2048.000000</td>\n",
       "      <td>2048.000000</td>\n",
       "      <td>2048.000000</td>\n",
       "      <td>2048.000000</td>\n",
       "      <td>2048.000000</td>\n",
       "      <td>2048.000000</td>\n",
       "      <td>2048.000000</td>\n",
       "      <td>2048.000000</td>\n",
       "      <td>2048.000000</td>\n",
       "      <td>2048.000000</td>\n",
       "      <td>2048.000000</td>\n",
       "      <td>2048.000000</td>\n",
       "      <td>2048.000000</td>\n",
       "      <td>2048.000000</td>\n",
       "      <td>2048.000000</td>\n",
       "      <td>2048.000000</td>\n",
       "      <td>2048.000000</td>\n",
       "      <td>2048.000000</td>\n",
       "      <td>2048.000000</td>\n",
       "      <td>2048.000000</td>\n",
       "      <td>2048.000000</td>\n",
       "      <td>2048.000000</td>\n",
       "      <td>2048.000000</td>\n",
       "      <td>2048.000000</td>\n",
       "      <td>2048.000000</td>\n",
       "      <td>2048.000000</td>\n",
       "      <td>2048.000000</td>\n",
       "      <td>2048.000000</td>\n",
       "      <td>2048.000000</td>\n",
       "      <td>2048.000000</td>\n",
       "      <td>2048.000000</td>\n",
       "      <td>2048.000000</td>\n",
       "      <td>2048.000000</td>\n",
       "      <td>2048.000000</td>\n",
       "      <td>2048.000000</td>\n",
       "    </tr>\n",
       "    <tr>\n",
       "      <th>mean</th>\n",
       "      <td>10049.675293</td>\n",
       "      <td>0.996582</td>\n",
       "      <td>6.114258</td>\n",
       "      <td>5.560547</td>\n",
       "      <td>1971.751465</td>\n",
       "      <td>1984.193848</td>\n",
       "      <td>100.057324</td>\n",
       "      <td>3.834722</td>\n",
       "      <td>3.085938</td>\n",
       "      <td>4.499755</td>\n",
       "      <td>3.150915</td>\n",
       "      <td>1.947053</td>\n",
       "      <td>3.629492</td>\n",
       "      <td>442.464844</td>\n",
       "      <td>48.005859</td>\n",
       "      <td>568.130859</td>\n",
       "      <td>1058.601562</td>\n",
       "      <td>0.931152</td>\n",
       "      <td>8.632856</td>\n",
       "      <td>1163.431152</td>\n",
       "      <td>329.378906</td>\n",
       "      <td>5.520996</td>\n",
       "      <td>1498.331055</td>\n",
       "      <td>0.427734</td>\n",
       "      <td>0.063477</td>\n",
       "      <td>1.576660</td>\n",
       "      <td>0.371094</td>\n",
       "      <td>2.842773</td>\n",
       "      <td>1.042969</td>\n",
       "      <td>4.595580</td>\n",
       "      <td>6.435059</td>\n",
       "      <td>0.590820</td>\n",
       "      <td>1976.757812</td>\n",
       "      <td>2.507995</td>\n",
       "      <td>1.776855</td>\n",
       "      <td>473.692871</td>\n",
       "      <td>3.420529</td>\n",
       "      <td>2.977051</td>\n",
       "      <td>4.075680</td>\n",
       "      <td>93.886230</td>\n",
       "      <td>47.444824</td>\n",
       "      <td>22.501465</td>\n",
       "      <td>2.595215</td>\n",
       "      <td>16.535645</td>\n",
       "      <td>2.401367</td>\n",
       "      <td>51.649902</td>\n",
       "      <td>2007.775879</td>\n",
       "      <td>181484.252441</td>\n",
       "    </tr>\n",
       "    <tr>\n",
       "      <th>std</th>\n",
       "      <td>6697.167566</td>\n",
       "      <td>0.058378</td>\n",
       "      <td>1.426126</td>\n",
       "      <td>1.104349</td>\n",
       "      <td>30.174112</td>\n",
       "      <td>21.033925</td>\n",
       "      <td>174.846666</td>\n",
       "      <td>1.147534</td>\n",
       "      <td>0.373051</td>\n",
       "      <td>1.856599</td>\n",
       "      <td>0.486092</td>\n",
       "      <td>1.645629</td>\n",
       "      <td>2.052622</td>\n",
       "      <td>461.319862</td>\n",
       "      <td>165.074675</td>\n",
       "      <td>444.958855</td>\n",
       "      <td>448.999749</td>\n",
       "      <td>0.253257</td>\n",
       "      <td>1.357302</td>\n",
       "      <td>392.294626</td>\n",
       "      <td>425.680677</td>\n",
       "      <td>51.105842</td>\n",
       "      <td>497.948344</td>\n",
       "      <td>0.522715</td>\n",
       "      <td>0.251763</td>\n",
       "      <td>0.548553</td>\n",
       "      <td>0.501083</td>\n",
       "      <td>0.825631</td>\n",
       "      <td>0.209937</td>\n",
       "      <td>1.681336</td>\n",
       "      <td>1.557145</td>\n",
       "      <td>0.637957</td>\n",
       "      <td>27.071436</td>\n",
       "      <td>1.361501</td>\n",
       "      <td>0.764702</td>\n",
       "      <td>215.972053</td>\n",
       "      <td>0.328903</td>\n",
       "      <td>0.218716</td>\n",
       "      <td>0.925854</td>\n",
       "      <td>128.597923</td>\n",
       "      <td>66.393358</td>\n",
       "      <td>59.738209</td>\n",
       "      <td>25.247901</td>\n",
       "      <td>57.412746</td>\n",
       "      <td>37.810135</td>\n",
       "      <td>573.810601</td>\n",
       "      <td>1.312844</td>\n",
       "      <td>79248.657891</td>\n",
       "    </tr>\n",
       "    <tr>\n",
       "      <th>min</th>\n",
       "      <td>1300.000000</td>\n",
       "      <td>0.000000</td>\n",
       "      <td>1.000000</td>\n",
       "      <td>1.000000</td>\n",
       "      <td>1872.000000</td>\n",
       "      <td>1950.000000</td>\n",
       "      <td>0.000000</td>\n",
       "      <td>2.000000</td>\n",
       "      <td>1.000000</td>\n",
       "      <td>1.000000</td>\n",
       "      <td>1.000000</td>\n",
       "      <td>1.000000</td>\n",
       "      <td>1.000000</td>\n",
       "      <td>0.000000</td>\n",
       "      <td>0.000000</td>\n",
       "      <td>0.000000</td>\n",
       "      <td>0.000000</td>\n",
       "      <td>0.000000</td>\n",
       "      <td>1.000000</td>\n",
       "      <td>334.000000</td>\n",
       "      <td>0.000000</td>\n",
       "      <td>0.000000</td>\n",
       "      <td>334.000000</td>\n",
       "      <td>0.000000</td>\n",
       "      <td>0.000000</td>\n",
       "      <td>0.000000</td>\n",
       "      <td>0.000000</td>\n",
       "      <td>0.000000</td>\n",
       "      <td>0.000000</td>\n",
       "      <td>2.000000</td>\n",
       "      <td>2.000000</td>\n",
       "      <td>0.000000</td>\n",
       "      <td>1872.000000</td>\n",
       "      <td>1.000000</td>\n",
       "      <td>0.000000</td>\n",
       "      <td>0.000000</td>\n",
       "      <td>1.000000</td>\n",
       "      <td>1.000000</td>\n",
       "      <td>1.000000</td>\n",
       "      <td>0.000000</td>\n",
       "      <td>0.000000</td>\n",
       "      <td>0.000000</td>\n",
       "      <td>0.000000</td>\n",
       "      <td>0.000000</td>\n",
       "      <td>0.000000</td>\n",
       "      <td>0.000000</td>\n",
       "      <td>2006.000000</td>\n",
       "      <td>12789.000000</td>\n",
       "    </tr>\n",
       "    <tr>\n",
       "      <th>25%</th>\n",
       "      <td>7500.000000</td>\n",
       "      <td>1.000000</td>\n",
       "      <td>5.000000</td>\n",
       "      <td>5.000000</td>\n",
       "      <td>1954.000000</td>\n",
       "      <td>1964.750000</td>\n",
       "      <td>0.000000</td>\n",
       "      <td>3.070000</td>\n",
       "      <td>3.000000</td>\n",
       "      <td>3.075000</td>\n",
       "      <td>3.167000</td>\n",
       "      <td>1.000000</td>\n",
       "      <td>1.000000</td>\n",
       "      <td>0.000000</td>\n",
       "      <td>0.000000</td>\n",
       "      <td>220.000000</td>\n",
       "      <td>793.000000</td>\n",
       "      <td>1.000000</td>\n",
       "      <td>9.051400</td>\n",
       "      <td>879.000000</td>\n",
       "      <td>0.000000</td>\n",
       "      <td>0.000000</td>\n",
       "      <td>1129.500000</td>\n",
       "      <td>0.000000</td>\n",
       "      <td>0.000000</td>\n",
       "      <td>1.000000</td>\n",
       "      <td>0.000000</td>\n",
       "      <td>2.000000</td>\n",
       "      <td>1.000000</td>\n",
       "      <td>3.272200</td>\n",
       "      <td>5.000000</td>\n",
       "      <td>0.000000</td>\n",
       "      <td>1959.000000</td>\n",
       "      <td>1.000000</td>\n",
       "      <td>1.000000</td>\n",
       "      <td>319.000000</td>\n",
       "      <td>3.466000</td>\n",
       "      <td>3.000000</td>\n",
       "      <td>4.369000</td>\n",
       "      <td>0.000000</td>\n",
       "      <td>0.000000</td>\n",
       "      <td>0.000000</td>\n",
       "      <td>0.000000</td>\n",
       "      <td>0.000000</td>\n",
       "      <td>0.000000</td>\n",
       "      <td>0.000000</td>\n",
       "      <td>2007.000000</td>\n",
       "      <td>129837.500000</td>\n",
       "    </tr>\n",
       "    <tr>\n",
       "      <th>50%</th>\n",
       "      <td>9432.000000</td>\n",
       "      <td>1.000000</td>\n",
       "      <td>6.000000</td>\n",
       "      <td>5.000000</td>\n",
       "      <td>1974.000000</td>\n",
       "      <td>1993.000000</td>\n",
       "      <td>0.000000</td>\n",
       "      <td>3.070000</td>\n",
       "      <td>3.000000</td>\n",
       "      <td>5.160000</td>\n",
       "      <td>3.167000</td>\n",
       "      <td>1.000000</td>\n",
       "      <td>4.000000</td>\n",
       "      <td>368.000000</td>\n",
       "      <td>0.000000</td>\n",
       "      <td>475.000000</td>\n",
       "      <td>995.500000</td>\n",
       "      <td>1.000000</td>\n",
       "      <td>9.051400</td>\n",
       "      <td>1093.000000</td>\n",
       "      <td>0.000000</td>\n",
       "      <td>0.000000</td>\n",
       "      <td>1444.000000</td>\n",
       "      <td>0.000000</td>\n",
       "      <td>0.000000</td>\n",
       "      <td>2.000000</td>\n",
       "      <td>0.000000</td>\n",
       "      <td>3.000000</td>\n",
       "      <td>1.000000</td>\n",
       "      <td>3.272200</td>\n",
       "      <td>6.000000</td>\n",
       "      <td>1.000000</td>\n",
       "      <td>1978.000000</td>\n",
       "      <td>3.136000</td>\n",
       "      <td>2.000000</td>\n",
       "      <td>480.000000</td>\n",
       "      <td>3.466000</td>\n",
       "      <td>3.000000</td>\n",
       "      <td>4.369000</td>\n",
       "      <td>0.000000</td>\n",
       "      <td>27.000000</td>\n",
       "      <td>0.000000</td>\n",
       "      <td>0.000000</td>\n",
       "      <td>0.000000</td>\n",
       "      <td>0.000000</td>\n",
       "      <td>0.000000</td>\n",
       "      <td>2008.000000</td>\n",
       "      <td>162500.000000</td>\n",
       "    </tr>\n",
       "    <tr>\n",
       "      <th>75%</th>\n",
       "      <td>11512.750000</td>\n",
       "      <td>1.000000</td>\n",
       "      <td>7.000000</td>\n",
       "      <td>6.000000</td>\n",
       "      <td>2001.000000</td>\n",
       "      <td>2004.000000</td>\n",
       "      <td>160.250000</td>\n",
       "      <td>4.820000</td>\n",
       "      <td>3.000000</td>\n",
       "      <td>5.160000</td>\n",
       "      <td>3.167000</td>\n",
       "      <td>2.242000</td>\n",
       "      <td>6.000000</td>\n",
       "      <td>734.000000</td>\n",
       "      <td>0.000000</td>\n",
       "      <td>811.000000</td>\n",
       "      <td>1319.000000</td>\n",
       "      <td>1.000000</td>\n",
       "      <td>9.051400</td>\n",
       "      <td>1405.000000</td>\n",
       "      <td>691.750000</td>\n",
       "      <td>0.000000</td>\n",
       "      <td>1728.000000</td>\n",
       "      <td>1.000000</td>\n",
       "      <td>0.000000</td>\n",
       "      <td>2.000000</td>\n",
       "      <td>1.000000</td>\n",
       "      <td>3.000000</td>\n",
       "      <td>1.000000</td>\n",
       "      <td>5.676500</td>\n",
       "      <td>7.000000</td>\n",
       "      <td>1.000000</td>\n",
       "      <td>2002.000000</td>\n",
       "      <td>3.136000</td>\n",
       "      <td>2.000000</td>\n",
       "      <td>576.000000</td>\n",
       "      <td>3.466000</td>\n",
       "      <td>3.000000</td>\n",
       "      <td>4.369000</td>\n",
       "      <td>168.000000</td>\n",
       "      <td>70.000000</td>\n",
       "      <td>0.000000</td>\n",
       "      <td>0.000000</td>\n",
       "      <td>0.000000</td>\n",
       "      <td>0.000000</td>\n",
       "      <td>0.000000</td>\n",
       "      <td>2009.000000</td>\n",
       "      <td>214000.000000</td>\n",
       "    </tr>\n",
       "    <tr>\n",
       "      <th>max</th>\n",
       "      <td>159000.000000</td>\n",
       "      <td>1.000000</td>\n",
       "      <td>10.000000</td>\n",
       "      <td>9.000000</td>\n",
       "      <td>2010.000000</td>\n",
       "      <td>2010.000000</td>\n",
       "      <td>1600.000000</td>\n",
       "      <td>7.690000</td>\n",
       "      <td>5.000000</td>\n",
       "      <td>9.392000</td>\n",
       "      <td>4.467000</td>\n",
       "      <td>6.354000</td>\n",
       "      <td>6.000000</td>\n",
       "      <td>5644.000000</td>\n",
       "      <td>1474.000000</td>\n",
       "      <td>2336.000000</td>\n",
       "      <td>6110.000000</td>\n",
       "      <td>1.000000</td>\n",
       "      <td>9.051400</td>\n",
       "      <td>5095.000000</td>\n",
       "      <td>1862.000000</td>\n",
       "      <td>1064.000000</td>\n",
       "      <td>5642.000000</td>\n",
       "      <td>3.000000</td>\n",
       "      <td>2.000000</td>\n",
       "      <td>4.000000</td>\n",
       "      <td>2.000000</td>\n",
       "      <td>8.000000</td>\n",
       "      <td>3.000000</td>\n",
       "      <td>8.836300</td>\n",
       "      <td>15.000000</td>\n",
       "      <td>4.000000</td>\n",
       "      <td>2207.000000</td>\n",
       "      <td>4.303000</td>\n",
       "      <td>5.000000</td>\n",
       "      <td>1418.000000</td>\n",
       "      <td>4.897000</td>\n",
       "      <td>5.000000</td>\n",
       "      <td>4.369000</td>\n",
       "      <td>1424.000000</td>\n",
       "      <td>547.000000</td>\n",
       "      <td>432.000000</td>\n",
       "      <td>508.000000</td>\n",
       "      <td>490.000000</td>\n",
       "      <td>800.000000</td>\n",
       "      <td>17000.000000</td>\n",
       "      <td>2010.000000</td>\n",
       "      <td>611657.000000</td>\n",
       "    </tr>\n",
       "  </tbody>\n",
       "</table>\n",
       "</div>"
      ],
      "text/plain": [
       "            lot area       street  overall qual  overall cond   year built  \\\n",
       "count    2048.000000  2048.000000   2048.000000   2048.000000  2048.000000   \n",
       "mean    10049.675293     0.996582      6.114258      5.560547  1971.751465   \n",
       "std      6697.167566     0.058378      1.426126      1.104349    30.174112   \n",
       "min      1300.000000     0.000000      1.000000      1.000000  1872.000000   \n",
       "25%      7500.000000     1.000000      5.000000      5.000000  1954.000000   \n",
       "50%      9432.000000     1.000000      6.000000      5.000000  1974.000000   \n",
       "75%     11512.750000     1.000000      7.000000      6.000000  2001.000000   \n",
       "max    159000.000000     1.000000     10.000000      9.000000  2010.000000   \n",
       "\n",
       "       year remod/add  mas vnr area   exter qual   exter cond    bsmt qual  \\\n",
       "count     2048.000000   2048.000000  2048.000000  2048.000000  2048.000000   \n",
       "mean      1984.193848    100.057324     3.834722     3.085938     4.499755   \n",
       "std         21.033925    174.846666     1.147534     0.373051     1.856599   \n",
       "min       1950.000000      0.000000     2.000000     1.000000     1.000000   \n",
       "25%       1964.750000      0.000000     3.070000     3.000000     3.075000   \n",
       "50%       1993.000000      0.000000     3.070000     3.000000     5.160000   \n",
       "75%       2004.000000    160.250000     4.820000     3.000000     5.160000   \n",
       "max       2010.000000   1600.000000     7.690000     5.000000     9.392000   \n",
       "\n",
       "         bsmt cond  bsmt exposure  bsmtfin type 1  bsmtfin sf 1  bsmtfin sf 2  \\\n",
       "count  2048.000000    2048.000000     2048.000000   2048.000000   2048.000000   \n",
       "mean      3.150915       1.947053        3.629492    442.464844     48.005859   \n",
       "std       0.486092       1.645629        2.052622    461.319862    165.074675   \n",
       "min       1.000000       1.000000        1.000000      0.000000      0.000000   \n",
       "25%       3.167000       1.000000        1.000000      0.000000      0.000000   \n",
       "50%       3.167000       1.000000        4.000000    368.000000      0.000000   \n",
       "75%       3.167000       2.242000        6.000000    734.000000      0.000000   \n",
       "max       4.467000       6.354000        6.000000   5644.000000   1474.000000   \n",
       "\n",
       "       bsmt unf sf  total bsmt sf  central air   electrical   1st flr sf  \\\n",
       "count  2048.000000    2048.000000  2048.000000  2048.000000  2048.000000   \n",
       "mean    568.130859    1058.601562     0.931152     8.632856  1163.431152   \n",
       "std     444.958855     448.999749     0.253257     1.357302   392.294626   \n",
       "min       0.000000       0.000000     0.000000     1.000000   334.000000   \n",
       "25%     220.000000     793.000000     1.000000     9.051400   879.000000   \n",
       "50%     475.000000     995.500000     1.000000     9.051400  1093.000000   \n",
       "75%     811.000000    1319.000000     1.000000     9.051400  1405.000000   \n",
       "max    2336.000000    6110.000000     1.000000     9.051400  5095.000000   \n",
       "\n",
       "        2nd flr sf  low qual fin sf  gr liv area  bsmt full bath  \\\n",
       "count  2048.000000      2048.000000  2048.000000     2048.000000   \n",
       "mean    329.378906         5.520996  1498.331055        0.427734   \n",
       "std     425.680677        51.105842   497.948344        0.522715   \n",
       "min       0.000000         0.000000   334.000000        0.000000   \n",
       "25%       0.000000         0.000000  1129.500000        0.000000   \n",
       "50%       0.000000         0.000000  1444.000000        0.000000   \n",
       "75%     691.750000         0.000000  1728.000000        1.000000   \n",
       "max    1862.000000      1064.000000  5642.000000        3.000000   \n",
       "\n",
       "       bsmt half bath    full bath    half bath  bedroom abvgr  kitchen abvgr  \\\n",
       "count     2048.000000  2048.000000  2048.000000    2048.000000    2048.000000   \n",
       "mean         0.063477     1.576660     0.371094       2.842773       1.042969   \n",
       "std          0.251763     0.548553     0.501083       0.825631       0.209937   \n",
       "min          0.000000     0.000000     0.000000       0.000000       0.000000   \n",
       "25%          0.000000     1.000000     0.000000       2.000000       1.000000   \n",
       "50%          0.000000     2.000000     0.000000       3.000000       1.000000   \n",
       "75%          0.000000     2.000000     1.000000       3.000000       1.000000   \n",
       "max          2.000000     4.000000     2.000000       8.000000       3.000000   \n",
       "\n",
       "       kitchen qual  totrms abvgrd   fireplaces  garage yr blt  garage finish  \\\n",
       "count   2048.000000    2048.000000  2048.000000    2048.000000    2048.000000   \n",
       "mean       4.595580       6.435059     0.590820    1976.757812       2.507995   \n",
       "std        1.681336       1.557145     0.637957      27.071436       1.361501   \n",
       "min        2.000000       2.000000     0.000000    1872.000000       1.000000   \n",
       "25%        3.272200       5.000000     0.000000    1959.000000       1.000000   \n",
       "50%        3.272200       6.000000     1.000000    1978.000000       3.136000   \n",
       "75%        5.676500       7.000000     1.000000    2002.000000       3.136000   \n",
       "max        8.836300      15.000000     4.000000    2207.000000       4.303000   \n",
       "\n",
       "       garage cars  garage area  garage qual  garage cond  paved drive  \\\n",
       "count  2048.000000  2048.000000  2048.000000  2048.000000  2048.000000   \n",
       "mean      1.776855   473.692871     3.420529     2.977051     4.075680   \n",
       "std       0.764702   215.972053     0.328903     0.218716     0.925854   \n",
       "min       0.000000     0.000000     1.000000     1.000000     1.000000   \n",
       "25%       1.000000   319.000000     3.466000     3.000000     4.369000   \n",
       "50%       2.000000   480.000000     3.466000     3.000000     4.369000   \n",
       "75%       2.000000   576.000000     3.466000     3.000000     4.369000   \n",
       "max       5.000000  1418.000000     4.897000     5.000000     4.369000   \n",
       "\n",
       "       wood deck sf  open porch sf  enclosed porch   3ssn porch  screen porch  \\\n",
       "count   2048.000000    2048.000000     2048.000000  2048.000000   2048.000000   \n",
       "mean      93.886230      47.444824       22.501465     2.595215     16.535645   \n",
       "std      128.597923      66.393358       59.738209    25.247901     57.412746   \n",
       "min        0.000000       0.000000        0.000000     0.000000      0.000000   \n",
       "25%        0.000000       0.000000        0.000000     0.000000      0.000000   \n",
       "50%        0.000000      27.000000        0.000000     0.000000      0.000000   \n",
       "75%      168.000000      70.000000        0.000000     0.000000      0.000000   \n",
       "max     1424.000000     547.000000      432.000000   508.000000    490.000000   \n",
       "\n",
       "         pool area      misc val      yr sold      saleprice  \n",
       "count  2048.000000   2048.000000  2048.000000    2048.000000  \n",
       "mean      2.401367     51.649902  2007.775879  181484.252441  \n",
       "std      37.810135    573.810601     1.312844   79248.657891  \n",
       "min       0.000000      0.000000  2006.000000   12789.000000  \n",
       "25%       0.000000      0.000000  2007.000000  129837.500000  \n",
       "50%       0.000000      0.000000  2008.000000  162500.000000  \n",
       "75%       0.000000      0.000000  2009.000000  214000.000000  \n",
       "max     800.000000  17000.000000  2010.000000  611657.000000  "
      ]
     },
     "execution_count": 24,
     "metadata": {},
     "output_type": "execute_result"
    }
   ],
   "source": [
    "train.describe()"
   ]
  },
  {
   "cell_type": "code",
   "execution_count": 25,
   "id": "6a2399de",
   "metadata": {},
   "outputs": [
    {
     "data": {
      "image/png": "[encoded data removed]",
      "text/plain": [
       "<Figure size 432x288 with 1 Axes>"
      ]
     },
     "metadata": {
      "needs_background": "light"
     },
     "output_type": "display_data"
    }
   ],
   "source": [
    "# variable 'lot area'\n",
    "train.sort_values(by=['lot area'], ascending = False)\n",
    "sns.boxplot(x=train['lot area'])\n",
    "train = train.drop(train.index[[471,693]])"
   ]
  },
  {
   "cell_type": "code",
   "execution_count": 26,
   "id": "b7710e13",
   "metadata": {},
   "outputs": [
    {
     "data": {
      "image/png": "[encoded data removed]",
      "text/plain": [
       "<Figure size 432x288 with 1 Axes>"
      ]
     },
     "metadata": {
      "needs_background": "light"
     },
     "output_type": "display_data"
    }
   ],
   "source": [
    "# variable 'mas vnr area'\n",
    "train.sort_values(by=['mas vnr area'], ascending = False)\n",
    "sns.boxplot(x=train['mas vnr area'])\n",
    "train = train.drop(1407)"
   ]
  },
  {
   "cell_type": "code",
   "execution_count": 27,
   "id": "279c8062",
   "metadata": {},
   "outputs": [
    {
     "data": {
      "image/png": "[encoded data removed]",
      "text/plain": [
       "<Figure size 432x288 with 1 Axes>"
      ]
     },
     "metadata": {
      "needs_background": "light"
     },
     "output_type": "display_data"
    }
   ],
   "source": [
    "# variable 'bsmtfin sf 1'\n",
    "train.sort_values(by=['bsmtfin sf 1'], ascending = False)\n",
    "sns.boxplot(x=train['bsmtfin sf 1'])\n",
    "train = train.drop([1669, 684, 622, 1157])"
   ]
  },
  {
   "cell_type": "code",
   "execution_count": 28,
   "id": "47c91305",
   "metadata": {},
   "outputs": [
    {
     "data": {
      "image/png": "[encoded data removed]",
      "text/plain": [
       "<Figure size 432x288 with 1 Axes>"
      ]
     },
     "metadata": {
      "needs_background": "light"
     },
     "output_type": "display_data"
    }
   ],
   "source": [
    "### Outliers removed after .describe(), sort_values() and boxplot if necessary\n",
    "# variable 'gr liv area'\n",
    "train.sort_values(by=['gr liv area'], ascending = False)\n",
    "sns.boxplot(x=train['gr liv area'])\n",
    "train = train.drop([959,1882])"
   ]
  },
  {
   "cell_type": "markdown",
   "id": "329c4c33",
   "metadata": {},
   "source": [
    "**"
   ]
  },
  {
   "cell_type": "code",
   "execution_count": 29,
   "id": "dc8adf89",
   "metadata": {},
   "outputs": [],
   "source": [
    "# reset index to prevent any future formatting errors\n",
    "train = train.reset_index(drop=True)"
   ]
  },
  {
   "cell_type": "markdown",
   "id": "b8d875fc",
   "metadata": {},
   "source": [
    "<a id='p5'></a>\n",
    "## Feature Engineering\n",
    "New interactions terms created based on logical deductions & tested against saleprice to test its relevance."
   ]
  },
  {
   "cell_type": "code",
   "execution_count": 30,
   "id": "39f38d11",
   "metadata": {},
   "outputs": [
    {
     "data": {
      "text/plain": [
       "0.7609872130388552"
      ]
     },
     "metadata": {},
     "output_type": "display_data"
    },
    {
     "data": {
      "text/plain": [
       "0.41258493653670997"
      ]
     },
     "metadata": {},
     "output_type": "display_data"
    },
    {
     "data": {
      "text/plain": [
       "0.6465552698247691"
      ]
     },
     "execution_count": 30,
     "metadata": {},
     "output_type": "execute_result"
    }
   ],
   "source": [
    "### Feature Engineering - new variables with high corr\n",
    "train['house size'] = train['1st flr sf'] + train['garage area'] + train['open porch sf'] + train['wood deck sf'] + train['enclosed porch'] + train['screen porch'] + train['3ssn porch']\n",
    "display(train['house size'].corr(train['saleprice']))\n",
    "\n",
    "train['porch sf'] = train['open porch sf'] + train['enclosed porch'] + train['3ssn porch'] + train['screen porch'] + train['wood deck sf']\n",
    "display(train['porch sf'].corr(train['saleprice']))\n",
    "\n",
    "train['total bath'] = train['full bath']*3 + train['half bath'] + train['bsmt full bath']*2 + train['bsmt half bath']\n",
    "train['total bath'].corr(train['saleprice'])\n"
   ]
  },
  {
   "cell_type": "markdown",
   "id": "db07c57f",
   "metadata": {},
   "source": [
    "**Creating dummies for categorical variables**"
   ]
  },
  {
   "cell_type": "code",
   "execution_count": 31,
   "id": "9c113db9",
   "metadata": {},
   "outputs": [],
   "source": [
    "### Creating dummies for nominal column values\n",
    "train_dum = pd.get_dummies(train, columns=['mo sold','mas vnr type','ms zoning', 'ms subclass',\n",
    "                                           'lot shape', 'land contour', 'lot config', 'neighborhood', \n",
    "                                           'condition 1', 'bldg type', 'house style', 'roof style', \n",
    "                                           'exterior 1st', 'exterior 2nd', 'foundation','heating qc', \n",
    "                                           'functional', 'garage type', 'sale type'],  drop_first=True)\n",
    "# Preserve dataframe for test\n",
    "train_clean = train_dum"
   ]
  },
  {
   "cell_type": "markdown",
   "id": "3175ad95",
   "metadata": {},
   "source": [
    "**Remove noise variables (corr close to 0) if necessary. Uncomment if so.**"
   ]
  },
  {
   "cell_type": "code",
   "execution_count": 32,
   "id": "1f8a58be",
   "metadata": {},
   "outputs": [],
   "source": [
    "# # Function to remove features with corr close to 0 if necessary\n",
    "# for i in train_dum:\n",
    "#     if train_dum[i].dtypes != 'object':\n",
    "#         if train_dum[i].corr(train_dum['saleprice']) <= 0.04 and train_dum[i].corr(train_dum['saleprice']) >= -0.04:\n",
    "#             train_clean = train_clean.drop(columns=[i])"
   ]
  },
  {
   "cell_type": "markdown",
   "id": "c02ca680",
   "metadata": {},
   "source": [
    "<a id='p6'></a>\n",
    "## Exploratory Data Analysis\n",
    "Rough overview to check for potential multicollinearity"
   ]
  },
  {
   "cell_type": "code",
   "execution_count": 33,
   "id": "8e361b9b",
   "metadata": {},
   "outputs": [
    {
     "data": {
      "text/plain": [
       "<AxesSubplot:>"
      ]
     },
     "execution_count": 33,
     "metadata": {},
     "output_type": "execute_result"
    },
    {
     "data": {
      "image/png": "[encoded data removed]",
      "text/plain": [
       "<Figure size 1080x1080 with 2 Axes>"
      ]
     },
     "metadata": {
      "needs_background": "light"
     },
     "output_type": "display_data"
    }
   ],
   "source": [
    "plt.figure(figsize=(15,15))\n",
    "sns.heatmap(train.corr(), cmap='coolwarm')"
   ]
  },
  {
   "cell_type": "markdown",
   "id": "2eeb224c",
   "metadata": {},
   "source": [
    "**Top 10 variables correlated to saleprice:**"
   ]
  },
  {
   "cell_type": "code",
   "execution_count": 34,
   "id": "eddcc438",
   "metadata": {},
   "outputs": [
    {
     "data": {
      "text/plain": [
       "saleprice        1.000000\n",
       "overall qual     0.805048\n",
       "house size       0.760987\n",
       "exter qual       0.725882\n",
       "gr liv area      0.720772\n",
       "bsmt qual        0.712720\n",
       "kitchen qual     0.705973\n",
       "total bsmt sf    0.659563\n",
       "garage area      0.652662\n",
       "garage cars      0.649265\n",
       "total bath       0.646555\n",
       "Name: saleprice, dtype: float64"
      ]
     },
     "execution_count": 34,
     "metadata": {},
     "output_type": "execute_result"
    }
   ],
   "source": [
    "train.corr()['saleprice'].sort_values(ascending=False).head(11)"
   ]
  },
  {
   "cell_type": "markdown",
   "id": "3d5abaa9",
   "metadata": {},
   "source": [
    "#### Visualisation of historical data size of top 2 variables\n",
    "Variable: Overall quality aka overall qual"
   ]
  },
  {
   "cell_type": "code",
   "execution_count": 35,
   "id": "f2012f12",
   "metadata": {},
   "outputs": [],
   "source": [
    "# Groupby 'overall qual' and get the mean 'saleprice' and save it into a new dataframe 'overall_quality'\n",
    "overall_quality = train_dum.groupby('overall qual')['saleprice'].agg(['mean'])"
   ]
  },
  {
   "cell_type": "code",
   "execution_count": 36,
   "id": "350be782",
   "metadata": {},
   "outputs": [],
   "source": [
    "# Rename 'mean' to 'saleprice_mean'\n",
    "overall_quality.rename(columns={'mean': 'saleprice_mean'}, inplace = True)"
   ]
  },
  {
   "cell_type": "code",
   "execution_count": 37,
   "id": "4c10d11c",
   "metadata": {},
   "outputs": [
    {
     "data": {
      "image/png": "[encoded data removed]",
      "text/plain": [
       "<Figure size 432x288 with 1 Axes>"
      ]
     },
     "metadata": {
      "needs_background": "light"
     },
     "output_type": "display_data"
    }
   ],
   "source": [
    "# Plot a line graph of Mean Saleprice vs Overall Quality\n",
    "overall_quality['saleprice_mean'].plot();\n",
    "plt.xlabel('Overall Quality (1 = Very Poor, 10 = Very Excellent)');\n",
    "plt.ylabel('Average SalePrice');                              \n",
    "plt.title('Average SalePrice vs Overall Quality');  "
   ]
  },
  {
   "cell_type": "code",
   "execution_count": 38,
   "id": "854b49fa",
   "metadata": {},
   "outputs": [
    {
     "data": {
      "image/png": "[encoded data removed]",
      "text/plain": [
       "<Figure size 720x432 with 1 Axes>"
      ]
     },
     "metadata": {
      "needs_background": "light"
     },
     "output_type": "display_data"
    }
   ],
   "source": [
    "# Histogram of No. of Houses Sold vs Overall Quality\n",
    "fig, histo_overall_qual = plt.subplots(figsize=(10,6))\n",
    "color = 'navy'\n",
    "histo_overall_qual.set_title('No. of Houses Sold vs Overall Quality', fontsize=16)\n",
    "histo_overall_qual.set_xlabel('Overall Quality', fontsize=16)\n",
    "histo_overall_qual.set_ylabel('No. of Houses Sold', fontsize=16)\n",
    "histo_overall_qual = sns.histplot(x='overall qual', data = train_dum, color=color)\n",
    "# plt.xlim(0,10)\n",
    "plt.show()"
   ]
  },
  {
   "cell_type": "markdown",
   "id": "a1f3a84e",
   "metadata": {},
   "source": [
    "Variable: House size"
   ]
  },
  {
   "cell_type": "code",
   "execution_count": 39,
   "id": "73963525",
   "metadata": {},
   "outputs": [],
   "source": [
    "# Groupby 'house size' and get the mean 'saleprice' and save it into a new dataframe 'housesize'\n",
    "housesize = train_dum.groupby('house size')['saleprice'].agg(['mean'])"
   ]
  },
  {
   "cell_type": "code",
   "execution_count": 40,
   "id": "3f5bfed8",
   "metadata": {},
   "outputs": [],
   "source": [
    "# Rename 'mean' to 'saleprice_mean'\n",
    "housesize.rename(columns={'mean': 'saleprice_mean'}, inplace = True)"
   ]
  },
  {
   "cell_type": "code",
   "execution_count": 41,
   "id": "dde952fd",
   "metadata": {},
   "outputs": [
    {
     "data": {
      "image/png": "[encoded data removed]",
      "text/plain": [
       "<Figure size 432x288 with 1 Axes>"
      ]
     },
     "metadata": {
      "needs_background": "light"
     },
     "output_type": "display_data"
    }
   ],
   "source": [
    "# Plot a line graph of Mean Saleprice vs Overall Quality\n",
    "housesize['saleprice_mean'].plot();\n",
    "plt.xlabel('House Size');\n",
    "plt.ylabel('Average SalePrice');                              \n",
    "plt.title('Average SalePrice vs House Size');  "
   ]
  },
  {
   "cell_type": "code",
   "execution_count": 42,
   "id": "9e1b6428",
   "metadata": {},
   "outputs": [
    {
     "data": {
      "image/png": "[encoded data removed]",
      "text/plain": [
       "<Figure size 720x432 with 1 Axes>"
      ]
     },
     "metadata": {
      "needs_background": "light"
     },
     "output_type": "display_data"
    }
   ],
   "source": [
    "# For 2nd highest variable house size\n",
    "fig, histo_overall_qual = plt.subplots(figsize=(10,6))\n",
    "color = 'navy'\n",
    "histo_overall_qual.set_title('No. of Houses Sold vs House Size', fontsize=16)\n",
    "histo_overall_qual.set_xlabel('House Size', fontsize=16)\n",
    "histo_overall_qual.set_ylabel('No. of Houses Sold', fontsize=16)\n",
    "histo_overall_qual = sns.histplot(x='house size', data = train_dum, color=color)\n",
    "plt.show()"
   ]
  },
  {
   "cell_type": "markdown",
   "id": "9372f7e1",
   "metadata": {},
   "source": [
    "<a id='p7'></a>\n",
    "**Dropping additional columns due to multicollinearity**"
   ]
  },
  {
   "cell_type": "code",
   "execution_count": 43,
   "id": "23f68400",
   "metadata": {},
   "outputs": [],
   "source": [
    "### More variables dropped thru comparison with model scores\n",
    "train = train.drop(columns=['land slope', 'bsmtfin type 2', 'totrms abvgrd', 'total bsmt sf'])"
   ]
  },
  {
   "cell_type": "markdown",
   "id": "f2f8b3eb",
   "metadata": {},
   "source": [
    "<a id='p8'></a>\n",
    "## Train/Test Split"
   ]
  },
  {
   "cell_type": "code",
   "execution_count": 44,
   "id": "bc7c277a",
   "metadata": {},
   "outputs": [],
   "source": [
    "# Train/Test Split\n",
    "features = [col for col in train_clean._get_numeric_data().columns if col != 'saleprice']\n",
    "X = train_clean[features]\n",
    "y = train_clean['saleprice']\n",
    "\n",
    "X_train, X_test, y_train, y_test = train_test_split(X, y, random_state=42)"
   ]
  },
  {
   "cell_type": "markdown",
   "id": "d8aa4c02",
   "metadata": {},
   "source": [
    "**Linear Regression**"
   ]
  },
  {
   "cell_type": "code",
   "execution_count": 45,
   "id": "30dfd6d4",
   "metadata": {},
   "outputs": [
    {
     "data": {
      "text/plain": [
       "0.8986372745140191"
      ]
     },
     "metadata": {},
     "output_type": "display_data"
    },
    {
     "data": {
      "text/plain": [
       "0.8848635105919074"
      ]
     },
     "metadata": {},
     "output_type": "display_data"
    }
   ],
   "source": [
    "# Instantiating LinReg & LinReg R2\n",
    "# Done before scaling did not have its intended impact on the near full list of variables since it resulted in the negative r2 score\n",
    "lr = LinearRegression()\n",
    "lr.fit(X_train, y_train)\n",
    "\n",
    "lr_scores = cross_val_score(lr, X_train, y_train, cv=10)\n",
    "display(lr_scores.mean())\n",
    "\n",
    "lr_scores = cross_val_score(lr, X_test, y_test, cv=10)\n",
    "display(lr_scores.mean())"
   ]
  },
  {
   "cell_type": "code",
   "execution_count": 46,
   "id": "857cdc79",
   "metadata": {},
   "outputs": [],
   "source": [
    "# Fitting to training data\n",
    "ss = StandardScaler()\n",
    "ss.fit(X_train)\n",
    "X_train = ss.transform(X_train)\n",
    "X_test = ss.transform(X_test)"
   ]
  },
  {
   "cell_type": "markdown",
   "id": "3e07137c",
   "metadata": {},
   "source": [
    "**Lasso Regression**"
   ]
  },
  {
   "cell_type": "code",
   "execution_count": 47,
   "id": "72e07357",
   "metadata": {
    "scrolled": true
   },
   "outputs": [
    {
     "data": {
      "text/plain": [
       "0.9267702402416365"
      ]
     },
     "metadata": {},
     "output_type": "display_data"
    },
    {
     "data": {
      "text/plain": [
       "0.9321744267064982"
      ]
     },
     "metadata": {},
     "output_type": "display_data"
    }
   ],
   "source": [
    "# Testing out 200 different alpha values on default 5-folds of data set and adopt the best performing alpha\n",
    "lasso = LassoCV(n_alphas=200)\n",
    "# Cross val score fitted to train data for Lasso CV\n",
    "lasso_scores = cross_val_score(lasso, X_train, y_train, cv=10)\n",
    "lasso_scores.mean()\n",
    "\n",
    "# Lasso R2 on train & test\n",
    "lasso.fit(X_train, y_train)\n",
    "display(lasso.score(X_train, y_train))\n",
    "display(lasso.score(X_test, y_test))"
   ]
  },
  {
   "cell_type": "markdown",
   "id": "2dd56444",
   "metadata": {},
   "source": [
    "**Ridge Regression**"
   ]
  },
  {
   "cell_type": "code",
   "execution_count": 48,
   "id": "8c2b28ec",
   "metadata": {},
   "outputs": [
    {
     "data": {
      "text/plain": [
       "0.9315434549701037"
      ]
     },
     "metadata": {},
     "output_type": "display_data"
    },
    {
     "data": {
      "text/plain": [
       "0.9288604283596371"
      ]
     },
     "metadata": {},
     "output_type": "display_data"
    }
   ],
   "source": [
    "# Test out 100 different evenly spaced alpha values between 0.1 and 10 on default 5-folds of data set and adopt the best performing alpha\n",
    "ridge = RidgeCV(alphas=np.linspace(.1, 10, 100))\n",
    "# Cross val score fitted to train data for Ridge CV\n",
    "ridge_scores = cross_val_score(ridge, X_train, y_train, cv=10)\n",
    "ridge_scores.mean()\n",
    "\n",
    "ridge.fit(X_train, y_train)\n",
    "display(ridge.score(X_train, y_train))\n",
    "display(ridge.score(X_test, y_test))"
   ]
  },
  {
   "cell_type": "markdown",
   "id": "e00c9fcc",
   "metadata": {},
   "source": [
    "**Models taken to be optimised as LassoCV and RidgeCV were used**"
   ]
  },
  {
   "cell_type": "markdown",
   "id": "5af35363",
   "metadata": {},
   "source": [
    "<a id='p9'></a>\n",
    "## Model Evaluation\n",
    "\n",
    "|Model|Train Results|Test Results\n",
    "|:--|:-:|:-:|\n",
    "|Linear Regression|0.89864|0.88486|\n",
    "|Lasso Regression|0.92677|**0.93217**|\n",
    "|Ridge Regression|**0.93154**|0.92886|\n",
    "\n",
    "\n",
    "Lasso highest test scores thus utilised"
   ]
  },
  {
   "cell_type": "markdown",
   "id": "54bd336c",
   "metadata": {},
   "source": [
    "**Lasso Model coefficients**"
   ]
  },
  {
   "cell_type": "code",
   "execution_count": 49,
   "id": "f06c21bf",
   "metadata": {},
   "outputs": [
    {
     "data": {
      "text/plain": [
       "<AxesSubplot:>"
      ]
     },
     "execution_count": 49,
     "metadata": {},
     "output_type": "execute_result"
    },
    {
     "data": {
      "image/png": "[encoded data removed]",
      "text/plain": [
       "<Figure size 1080x504 with 1 Axes>"
      ]
     },
     "metadata": {
      "needs_background": "light"
     },
     "output_type": "display_data"
    }
   ],
   "source": [
    "pd.Series(lasso.coef_, index=features).plot.bar(figsize=(15, 7))"
   ]
  },
  {
   "cell_type": "markdown",
   "id": "0a723e83",
   "metadata": {},
   "source": [
    "Displayed in a dataframe to see actual values"
   ]
  },
  {
   "cell_type": "code",
   "execution_count": 50,
   "id": "73a483a0",
   "metadata": {},
   "outputs": [
    {
     "name": "stdout",
     "output_type": "stream",
     "text": [
      "                     Column_Name  Coefficient_Value\n",
      "0                       lot area        4806.412968\n",
      "1                         street           0.000000\n",
      "2                   overall qual        9990.559230\n",
      "3                   overall cond        4568.684303\n",
      "4                     year built        5031.959851\n",
      "5                 year remod/add        1027.203366\n",
      "6                   mas vnr area        3233.248226\n",
      "7                     exter qual        7778.994240\n",
      "8                     exter cond         -35.332578\n",
      "9                      bsmt qual        6374.190017\n",
      "10                     bsmt cond           0.000000\n",
      "11                 bsmt exposure        3853.578160\n",
      "12                bsmtfin type 1         430.913861\n",
      "13                  bsmtfin sf 1        7440.699425\n",
      "14                  bsmtfin sf 2         990.998380\n",
      "15                   bsmt unf sf          -0.000000\n",
      "16                 total bsmt sf        4916.822162\n",
      "17                   central air        -586.363795\n",
      "18                    electrical          -0.000000\n",
      "19                    1st flr sf           0.000000\n",
      "20                    2nd flr sf           0.000000\n",
      "21               low qual fin sf        -436.103954\n",
      "22                   gr liv area       22258.925518\n",
      "23                bsmt full bath        1323.396959\n",
      "24                bsmt half bath          -0.000000\n",
      "25                     full bath           0.000000\n",
      "26                     half bath         154.849289\n",
      "27                 bedroom abvgr       -2012.569346\n",
      "28                 kitchen abvgr       -1323.537261\n",
      "29                  kitchen qual        4792.371053\n",
      "30                 totrms abvgrd        1502.524289\n",
      "31                    fireplaces        2290.391440\n",
      "32                 garage yr blt           0.000000\n",
      "33                 garage finish           0.000000\n",
      "34                   garage cars         471.677232\n",
      "35                   garage area        1258.983934\n",
      "36                   garage qual         888.508518\n",
      "37                   garage cond          -0.000000\n",
      "38                   paved drive         542.159655\n",
      "39                  wood deck sf         236.670720\n",
      "40                 open porch sf           0.000000\n",
      "41                enclosed porch        -464.595082\n",
      "42                    3ssn porch          -0.000000\n",
      "43                  screen porch        2806.177085\n",
      "44                     pool area         -42.215949\n",
      "45                      misc val           0.000000\n",
      "46                       yr sold           0.000000\n",
      "47                    house size        3463.178843\n",
      "48                      porch sf         298.687466\n",
      "49                    total bath        1263.601951\n",
      "50          mas vnr type_BrkFace       -1188.812783\n",
      "51             mas vnr type_None           0.000000\n",
      "52            mas vnr type_Stone         619.759358\n",
      "53             ms zoning_C (all)        -617.181626\n",
      "54                  ms zoning_FV         777.326624\n",
      "55             ms zoning_I (all)           0.000000\n",
      "56                  ms zoning_RH           0.000000\n",
      "57                  ms zoning_RL           0.000000\n",
      "58                  ms zoning_RM        -783.340031\n",
      "59          ms subclass_1.5S_fin           0.000000\n",
      "60          ms subclass_1.5S_unf          98.382120\n",
      "61           ms subclass_1S_1945         301.941870\n",
      "62           ms subclass_1S_1946         833.455107\n",
      "63            ms subclass_1S_PUD       -4748.631437\n",
      "64          ms subclass_1S_attic           0.000000\n",
      "65              ms subclass_2.5S         481.491010\n",
      "66         ms subclass_2Fam_Conv       -1092.301837\n",
      "67           ms subclass_2S_1945        -336.391193\n",
      "68           ms subclass_2S_1946           0.000000\n",
      "69            ms subclass_2S_PUD       -2431.173436\n",
      "70            ms subclass_Duplex        -670.010952\n",
      "71            ms subclass_ML_PUD        -158.488903\n",
      "72       ms subclass_Split_foyer          -0.000000\n",
      "73   ms subclass_Split_multi_lvl          -0.000000\n",
      "74                 lot shape_IR2         350.502355\n",
      "75                 lot shape_IR3        -448.651051\n",
      "76                 lot shape_Reg         323.073324\n",
      "77              land contour_HLS        1773.389098\n",
      "78              land contour_Low        -101.171365\n",
      "79              land contour_Lvl           0.000000\n",
      "80            lot config_CulDSac         725.023147\n",
      "81                lot config_FR2        -209.582037\n",
      "82                lot config_FR3         -79.336225\n",
      "83             lot config_Inside           0.000000\n",
      "84          neighborhood_Blueste           0.000000\n",
      "85           neighborhood_BrDale         388.162214\n",
      "86          neighborhood_BrkSide        1098.745604\n",
      "87          neighborhood_ClearCr           0.000000\n",
      "88          neighborhood_CollgCr        -724.909085\n",
      "89          neighborhood_Crawfor        1456.790373\n",
      "90          neighborhood_Edwards       -1166.944136\n",
      "91          neighborhood_Gilbert        -153.665258\n",
      "92           neighborhood_Greens          -0.000000\n",
      "93          neighborhood_GrnHill        3536.793020\n",
      "94           neighborhood_IDOTRR          -0.000000\n",
      "95          neighborhood_Landmrk           0.000000\n",
      "96          neighborhood_MeadowV           0.000000\n",
      "97          neighborhood_Mitchel           0.000000\n",
      "98            neighborhood_NAmes        -661.254105\n",
      "99          neighborhood_NPkVill         675.739549\n",
      "100          neighborhood_NWAmes        -847.645385\n",
      "101         neighborhood_NoRidge        3684.405222\n",
      "102         neighborhood_NridgHt        6316.648031\n",
      "103         neighborhood_OldTown         -64.405787\n",
      "104           neighborhood_SWISU          -0.000000\n",
      "105          neighborhood_Sawyer           0.000000\n",
      "106         neighborhood_SawyerW       -1259.713421\n",
      "107         neighborhood_Somerst        1294.088438\n",
      "108         neighborhood_StoneBr        5806.952343\n",
      "109          neighborhood_Timber           0.000000\n",
      "110         neighborhood_Veenker        -126.165866\n",
      "111            condition 1_Feedr           0.000000\n",
      "112             condition 1_Norm        1721.099565\n",
      "113             condition 1_PosA         951.894753\n",
      "114             condition 1_PosN         995.828035\n",
      "115             condition 1_RRAe        -545.114587\n",
      "116             condition 1_RRAn          -0.000000\n",
      "117             condition 1_RRNe        -299.885788\n",
      "118             condition 1_RRNn        -535.671929\n",
      "119             bldg type_2fmCon          -0.000000\n",
      "120             bldg type_Duplex        -124.307463\n",
      "121              bldg type_Twnhs        -141.606871\n",
      "122             bldg type_TwnhsE        -690.900869\n",
      "123           house style_1.5Unf           0.000000\n",
      "124           house style_1Story           0.000000\n",
      "125           house style_2.5Fin         596.531542\n",
      "126           house style_2.5Unf          -0.000000\n",
      "127           house style_2Story          -0.000000\n",
      "128           house style_SFoyer        -745.105572\n",
      "129             house style_SLvl         -14.167302\n",
      "130             roof style_Gable          -0.000000\n",
      "131           roof style_Gambrel           0.000000\n",
      "132               roof style_Hip        1674.518482\n",
      "133           roof style_Mansard       -1538.204810\n",
      "134              roof style_Shed          -0.000000\n",
      "135         exterior 1st_AsphShn           0.000000\n",
      "136         exterior 1st_BrkComm        -464.937825\n",
      "137         exterior 1st_BrkFace        2220.302162\n",
      "138          exterior 1st_CBlock          -0.000000\n",
      "139         exterior 1st_CemntBd           0.000000\n",
      "140         exterior 1st_HdBoard        -810.067897\n",
      "141         exterior 1st_ImStucc          -0.000000\n",
      "142         exterior 1st_MetalSd         579.118998\n",
      "143         exterior 1st_Plywood         -11.434952\n",
      "144           exterior 1st_Stone        -674.194411\n",
      "145          exterior 1st_Stucco          -0.000000\n",
      "146         exterior 1st_VinylSd         247.268653\n",
      "147         exterior 1st_Wd Sdng         -99.400627\n",
      "148         exterior 1st_WdShing           0.000000\n",
      "149         exterior 2nd_AsphShn         240.457338\n",
      "150         exterior 2nd_Brk Cmn           0.000000\n",
      "151         exterior 2nd_BrkFace          -0.000000\n",
      "152          exterior 2nd_CBlock           0.000000\n",
      "153         exterior 2nd_CmentBd         597.948135\n",
      "154         exterior 2nd_HdBoard          -0.000000\n",
      "155         exterior 2nd_ImStucc          -0.000000\n",
      "156         exterior 2nd_MetalSd           0.000000\n",
      "157         exterior 2nd_Plywood        -803.757080\n",
      "158           exterior 2nd_Stone        -450.176266\n",
      "159          exterior 2nd_Stucco          -0.000000\n",
      "160         exterior 2nd_VinylSd         258.132455\n",
      "161         exterior 2nd_Wd Sdng          -0.000000\n",
      "162         exterior 2nd_Wd Shng          -0.000000\n",
      "163            foundation_CBlock          -0.000000\n",
      "164             foundation_PConc        1055.749825\n",
      "165              foundation_Slab         625.152927\n",
      "166             foundation_Stone          70.558221\n",
      "167              foundation_Wood           0.000000\n",
      "168                heating qc_Fa        -137.440876\n",
      "169                heating qc_Gd          -0.000000\n",
      "170                heating qc_Po          -0.000000\n",
      "171                heating qc_TA        -808.948301\n",
      "172              functional_Maj2          -0.000000\n",
      "173              functional_Min1         140.252215\n",
      "174              functional_Min2         466.179905\n",
      "175               functional_Mod        -466.880915\n",
      "176               functional_Sal        -414.560270\n",
      "177               functional_Sev       -1405.022446\n",
      "178               functional_Typ        3020.233008\n",
      "179           garage type_Attchd          -0.000000\n",
      "180          garage type_Basment        -102.970373\n",
      "181          garage type_BuiltIn         695.944290\n",
      "182          garage type_CarPort        -304.415661\n",
      "183           garage type_Detchd         165.387833\n",
      "184                sale type_CWD         262.729274\n",
      "185                sale type_Con        1112.076779\n",
      "186              sale type_ConLD         300.608661\n",
      "187              sale type_ConLI           0.000000\n",
      "188              sale type_ConLw        -240.527849\n",
      "189                sale type_New        4145.094614\n",
      "190                sale type_Oth         774.317973\n",
      "191                sale type_WD            0.000000\n"
     ]
    }
   ],
   "source": [
    "# Create df for storing coefficients and their corresponding variable names\n",
    "coefficient_df = pd.DataFrame()\n",
    "\n",
    "# Storing all the column names of predictors\n",
    "coefficient_df['Column_Name'] = features\n",
    "\n",
    "# Store coefficients of predictors\n",
    "coefficient_df['Coefficient_Value'] = pd.Series(lasso.fit(X_train, y_train).coef_)\n",
    "\n",
    "# Preview variables' coefficient values\n",
    "# The higher the values, the stronger the variables\n",
    "print(coefficient_df)"
   ]
  },
  {
   "cell_type": "code",
   "execution_count": 51,
   "id": "d4918d02",
   "metadata": {},
   "outputs": [
    {
     "data": {
      "text/plain": [
       "<matplotlib.collections.PathCollection at 0x190af82be80>"
      ]
     },
     "execution_count": 51,
     "metadata": {},
     "output_type": "execute_result"
    },
    {
     "data": {
      "image/png": "[encoded data removed]",
      "text/plain": [
       "<Figure size 432x288 with 1 Axes>"
      ]
     },
     "metadata": {
      "needs_background": "light"
     },
     "output_type": "display_data"
    }
   ],
   "source": [
    "pred = lasso.predict(X_test)\n",
    "residuals = y_test - pred\n",
    "plt.scatter(pred, residuals)"
   ]
  },
  {
   "cell_type": "markdown",
   "id": "f2080a23",
   "metadata": {},
   "source": [
    "<a id='p10'></a>\n",
    "**SHAPLEY plots to understand which features impact our model the most**"
   ]
  },
  {
   "cell_type": "code",
   "execution_count": 52,
   "id": "4752e6ab",
   "metadata": {},
   "outputs": [
    {
     "data": {
      "image/png": "[encoded data removed]",
      "text/plain": [
       "<Figure size 576x504 with 1 Axes>"
      ]
     },
     "metadata": {},
     "output_type": "display_data"
    }
   ],
   "source": [
    "# Shapley Values\n",
    "explainer = shap.explainers.Linear(lasso, X_train)\n",
    "shap_values = explainer(X_train)\n",
    "\n",
    "# Add back the feature names removed by the StandardScaler\n",
    "for i,c in enumerate(X.columns):\n",
    "    shap_values.feature_names[i] = c\n",
    "\n",
    "# Visualise variable importance for top 10 features\n",
    "# Set max_display to 11 so that \n",
    "shap.plots.bar(shap_values, max_display=11)"
   ]
  },
  {
   "cell_type": "code",
   "execution_count": 53,
   "id": "a2c8258e",
   "metadata": {},
   "outputs": [
    {
     "data": {
      "image/png": "[encoded data removed]",
      "text/plain": [
       "<Figure size 576x684 with 2 Axes>"
      ]
     },
     "metadata": {
      "needs_background": "light"
     },
     "output_type": "display_data"
    }
   ],
   "source": [
    "# Visualise values that limit our model's performance\n",
    "explainer = shap.explainers.Linear(lasso, X_train)\n",
    "lasso_shap_values = explainer(X_train)\n",
    "\n",
    "# Add back the feature names removed by the StandardScaler\n",
    "for i,c in enumerate(X.columns):\n",
    "    lasso_shap_values.feature_names[i] = c\n",
    "\n",
    "shap.summary_plot(lasso_shap_values, X_train)"
   ]
  },
  {
   "cell_type": "markdown",
   "id": "9ef16a6a",
   "metadata": {},
   "source": [
    "# Below Portion are repeated steps used to export a csv for a Kaggle Challenge (Discontinued temporarily)"
   ]
  },
  {
   "cell_type": "code",
   "execution_count": 54,
   "id": "b8b3b418",
   "metadata": {},
   "outputs": [],
   "source": [
    "test_set = pd.read_csv('datasets/test.csv')"
   ]
  },
  {
   "cell_type": "code",
   "execution_count": 55,
   "id": "0982ea68",
   "metadata": {},
   "outputs": [],
   "source": [
    "# Same data cleaning steps applied\n",
    "test_set.columns = test_set.columns.str.lower()\n",
    "\n",
    "# Saving unedited set\n",
    "test_raw = test_set\n",
    "\n",
    "test_set = test_set.drop(columns=['id', 'pid'])\n",
    "test_set = test_set.drop(columns=['alley', 'fireplace qu', 'pool qc', 'fence', 'misc feature', 'lot frontage'])\n",
    "test_set = test_set.drop(columns=[ 'utilities', 'condition 2', 'heating', 'roof matl'])\n",
    "\n",
    "# test_set.dropna(subset=['bsmtfin sf 1'], inplace=True)\n",
    "# test_set.dropna(subset=['bsmt unf sf'], inplace=True)\n",
    "# test_set.dropna(subset=['total bsmt sf'], inplace=True)\n",
    "# test_set.dropna(subset=['bsmt full bath'], inplace=True)\n",
    "# test_set.dropna(subset=['garage cars'], inplace=True)\n",
    "# test_set.dropna(subset=['garage area'], inplace=True)"
   ]
  },
  {
   "cell_type": "code",
   "execution_count": 56,
   "id": "88dd03e7",
   "metadata": {},
   "outputs": [],
   "source": [
    "test_set['exter qual'] = test_set['exter qual'].map({'Ex':7.69, 'Gd':4.82, 'TA':3.07, 'Fa':2, 'Po':1, 'NA':0})\n",
    "test_set['bsmt qual'] = test_set['bsmt qual'].map({'Ex':9.392, 'Gd':5.16, 'TA':3.075, 'Fa':2, 'Po':1, 'NA':0})\n",
    "test_set['bsmt cond'] = test_set['bsmt cond'].map({'Ex':4.467, 'Gd':4.467, 'TA':3.167, 'Fa':1, 'Po':1, 'NA':0})\n",
    "test_set['bsmt exposure'] = test_set['bsmt exposure'].map({'Gd':6.354, 'Av':3.086, 'Mn':2.242, 'No':1, 'NA':0})\n",
    "test_set['garage finish'] = test_set['garage finish'].map({'Fin':4.303, 'RFn':3.136, 'Unf':1, 'NA':0})\n",
    "test_set['garage qual'] = test_set['garage qual'].map({'Ex':4.897, 'Gd':4.897, 'TA':3.466, 'Fa':2.024, 'Po':1, 'NA':0})\n",
    "test_set['paved drive'] = test_set['paved drive'].map({'Y':4.369, 'P':2.01, 'N':1})\n",
    "test_set['electrical'] = test_set['electrical'].map({'Mix':1, 'FuseP':2.099, 'FuseF':3.4453, 'FuseA':4.7043, 'SBrkr':9.0514})\n",
    "test_set['kitchen qual'] = test_set['kitchen qual'].map({'Po':1, 'Fa':2, 'TA':3.2722, 'Gd':5.6765, 'Ex':8.8363})\n",
    "test_set['bsmtfin type 1'] = test_set['bsmtfin type 1'].map({'GLQ':6, 'ALQ':5, 'BLQ':4, 'Rec':3, 'LwQ':2, 'Unf':1, 'NA':0})\n",
    "test_set['garage cond'] = test_set['garage cond'].map({'Ex':5, 'Gd':4, 'TA':3, 'Fa':2, 'Po':1, 'NA':0})\n",
    "test_set['exter cond'] = test_set['exter cond'].map({'Ex':5, 'Gd':4, 'TA':3, 'Fa':2, 'Po':1, 'NA':0})\n",
    "test_set['street'] = test_set['street'].map({'Pave':1, 'Grvl':0})\n",
    "test_set['central air'] = test_set['central air'].map({'Y':1, 'N':0})\n",
    "test_set['ms subclass'] = test_set['ms subclass'].map({20:'1S_1946', 30:'1S_1945', 40:'1S_attic', 45:'1.5S_unf', 50:'1.5S_fin', 60:'2S_1946', 70:'2S_1945', 75:'2.5S', 80:'Split_multi_lvl', 85:'Split_foyer', 90:'Duplex', 120:'1S_PUD', 150:'1.5S_PUD', 160:'2S_PUD', 180:'ML_PUD', 190:'2Fam_Conv'})\n",
    "test_set['mo sold'] = test_set['ms subclass'].map({1:'Jan', 2:'Feb',3:'Mar',4:'Apr',5:'May',6:'Jun',7:'Jul',8:'Aug',9:'Sep',10:'Oct',11:'Nov',12:'Dec'})\n"
   ]
  },
  {
   "cell_type": "code",
   "execution_count": 57,
   "id": "f85006ee",
   "metadata": {},
   "outputs": [],
   "source": [
    "# bsmt qual - KNN used with highest correlated variables\n",
    "knn_imp = KNNImputer()\n",
    "test_set_mis = test_set[['bsmt qual', 'overall qual', 'year built', 'exter qual', 'year remod/add']]\n",
    "knn_imp_income_missing = knn_imp.fit_transform(test_set_mis)\n",
    "knn_imp_income_missing = pd.DataFrame(knn_imp_income_missing, columns = test_set_mis.columns)\n",
    "test_set['bsmt qual'] = knn_imp_income_missing['bsmt qual']\n",
    "\n",
    "# mas vnr area - KNN used with highest correlated variables\n",
    "test_set_mis = test_set[['mas vnr area', '1st flr sf', 'bsmt qual', 'exter qual', 'total bsmt sf', 'overall qual']]\n",
    "knn_imp_income_missing = knn_imp.fit_transform(test_set_mis)\n",
    "knn_imp_income_missing = pd.DataFrame(knn_imp_income_missing, columns = test_set_mis.columns)\n",
    "test_set['mas vnr area'] = knn_imp_income_missing['mas vnr area']\n",
    "\n",
    "# bsmt cond - ordinal ranking reasonable thou heavy on 3\n",
    "test_set.corr()['bsmt cond'].sort_values()\n",
    "# highest corr 0.214, uneven distribution, mean values used to replace null values\n",
    "test_set['bsmt cond'] = test_set['bsmt cond'].fillna(np.mean(test_set['bsmt cond']))\n",
    "\n",
    "# bsmt exposure - KNN used with highest correlated variables\n",
    "test_set_mis = test_set[['bsmt exposure', 'bsmt qual', 'bsmtfin sf 1', '1st flr sf', 'total bsmt sf', 'overall qual']]\n",
    "knn_imp_income_missing = knn_imp.fit_transform(test_set_mis)\n",
    "knn_imp_income_missing = pd.DataFrame(knn_imp_income_missing, columns = test_set_mis.columns)\n",
    "test_set['bsmt exposure'] = knn_imp_income_missing['bsmt exposure']\n",
    "\n",
    "# bsmtfin type 1 - KNN used with highest correlated variables\n",
    "test_set_mis = test_set[['bsmtfin type 1', 'bsmtfin sf 1', 'bsmt full bath', 'bsmt unf sf']]\n",
    "knn_imp_income_missing = knn_imp.fit_transform(test_set_mis)\n",
    "knn_imp_income_missing = pd.DataFrame(knn_imp_income_missing, columns = test_set_mis.columns)\n",
    "test_set['bsmtfin type 1'] = knn_imp_income_missing['bsmtfin type 1']"
   ]
  },
  {
   "cell_type": "code",
   "execution_count": 58,
   "id": "fff3aea3",
   "metadata": {},
   "outputs": [],
   "source": [
    "# bsmtfin type 2 - filled with mode\n",
    "test_set['bsmtfin type 2'] = test_set['bsmtfin type 2'].fillna('Unf')\n",
    "# garage type - filled with mode\n",
    "test_set['garage type'] = test_set['garage type'].fillna('Attchd')\n",
    "# garage yr built - filled with 'yr built'\n",
    "test_set['garage yr blt'] = test_set['garage yr blt'].fillna(test_set['year built'])\n",
    "# garage finish - filled with mean \n",
    "test_set['garage finish'] = test_set['garage finish'].fillna(np.mean(test_set['garage finish']))\n",
    "# garage qual - filled with mode\n",
    "test_set['garage qual'] = test_set['garage qual'].fillna(3.466)\n",
    "# garage cond - filled with mode\n",
    "test_set['garage cond'] = test_set['garage cond'].fillna(3)\n",
    "# land slope - filled with mode\n",
    "test_set['land slope'] = test_set['land slope'].fillna('Gtl')"
   ]
  },
  {
   "cell_type": "code",
   "execution_count": 59,
   "id": "050cf508",
   "metadata": {},
   "outputs": [],
   "source": [
    "test_set['house size'] = test_set['1st flr sf'] + test_set['garage area'] + test_set['open porch sf'] + test_set['wood deck sf'] + test_set['enclosed porch'] + test_set['screen porch'] + test_set['3ssn porch']\n",
    "test_set['porch sf'] = test_set['open porch sf'] + test_set['enclosed porch'] + test_set['3ssn porch'] + test_set['screen porch'] + test_set['wood deck sf']\n",
    "test_set['total bath'] = test_set['full bath']*3 + test_set['half bath'] + test_set['bsmt full bath']*2 + test_set['bsmt half bath']\n",
    "\n",
    "test_set = test_set.drop(columns=['land slope', 'bsmtfin type 2', 'totrms abvgrd', 'total bsmt sf'])\n",
    "test_set = test_set.drop(columns=['mo sold'])"
   ]
  },
  {
   "cell_type": "code",
   "execution_count": 60,
   "id": "02477d47",
   "metadata": {},
   "outputs": [],
   "source": [
    "# Display null value & filled accordingly\n",
    "test_set[test_set['mas vnr type'].isnull()].head()\n",
    "train.groupby(['mas vnr type'])[['saleprice']].describe()\n",
    "test_set['mas vnr type'] = test_set['mas vnr type'].fillna('None')\n",
    "\n",
    "test_set[test_set['electrical'].isnull()].head()\n",
    "test_set['electrical'].value_counts()\n",
    "test_set['electrical'] = test_set['electrical'].fillna(9.0514)\n",
    "\n",
    "# # Filling mo sold with KNN\n",
    "# test_set['mo sold'] = test_set['mo sold'].fillna()"
   ]
  },
  {
   "cell_type": "code",
   "execution_count": 61,
   "id": "c7610ef0",
   "metadata": {},
   "outputs": [],
   "source": [
    "test_set_dum = pd.get_dummies(test_set, columns=['mas vnr type','ms zoning', 'ms subclass','lot shape', 'land contour', 'lot config', 'neighborhood', 'condition 1', 'bldg type', 'house style', 'roof style', 'exterior 1st', 'exterior 2nd', 'foundation','heating qc', 'functional', 'garage type', 'sale type'],  drop_first=True)\n"
   ]
  },
  {
   "cell_type": "code",
   "execution_count": 62,
   "id": "55793a7b",
   "metadata": {},
   "outputs": [],
   "source": [
    "# Matching columns to regression model\n",
    "temp = train_dum\n",
    "temp = temp.drop(columns=['saleprice'])\n",
    "test_set_dum = test_set_dum.reindex(temp.columns, fill_value=0, axis=1)   "
   ]
  },
  {
   "cell_type": "code",
   "execution_count": 63,
   "id": "71c24e49",
   "metadata": {},
   "outputs": [
    {
     "name": "stderr",
     "output_type": "stream",
     "text": [
      "The feature names should match those that were passed during fit. Starting version 1.2, an error will be raised.\n",
      "Feature names unseen at fit time:\n",
      "- bsmtfin type 2\n",
      "- land slope\n",
      "Feature names must be in the same order as they were in fit.\n",
      "\n"
     ]
    },
    {
     "ename": "ValueError",
     "evalue": "X has 194 features, but StandardScaler is expecting 192 features as input.",
     "output_type": "error",
     "traceback": [
      "\u001b[1;31m---------------------------------------------------------------------------\u001b[0m",
      "\u001b[1;31mValueError\u001b[0m                                Traceback (most recent call last)",
      "Input \u001b[1;32mIn [63]\u001b[0m, in \u001b[0;36m<cell line: 2>\u001b[1;34m()\u001b[0m\n\u001b[0;32m      1\u001b[0m \u001b[38;5;66;03m# Setting the transforming the test_data variables\u001b[39;00m\n\u001b[1;32m----> 2\u001b[0m test_clean \u001b[38;5;241m=\u001b[39m \u001b[43mss\u001b[49m\u001b[38;5;241;43m.\u001b[39;49m\u001b[43mtransform\u001b[49m\u001b[43m(\u001b[49m\u001b[43mtest_set_dum\u001b[49m\u001b[43m)\u001b[49m\n\u001b[0;32m      4\u001b[0m \u001b[38;5;66;03m# Predict sale prices using Regression\u001b[39;00m\n\u001b[0;32m      5\u001b[0m lasso_pred \u001b[38;5;241m=\u001b[39m lasso\u001b[38;5;241m.\u001b[39mpredict(test_clean)\n",
      "File \u001b[1;32m~\\anaconda3\\lib\\site-packages\\sklearn\\preprocessing\\_data.py:973\u001b[0m, in \u001b[0;36mStandardScaler.transform\u001b[1;34m(self, X, copy)\u001b[0m\n\u001b[0;32m    970\u001b[0m check_is_fitted(\u001b[38;5;28mself\u001b[39m)\n\u001b[0;32m    972\u001b[0m copy \u001b[38;5;241m=\u001b[39m copy \u001b[38;5;28;01mif\u001b[39;00m copy \u001b[38;5;129;01mis\u001b[39;00m \u001b[38;5;129;01mnot\u001b[39;00m \u001b[38;5;28;01mNone\u001b[39;00m \u001b[38;5;28;01melse\u001b[39;00m \u001b[38;5;28mself\u001b[39m\u001b[38;5;241m.\u001b[39mcopy\n\u001b[1;32m--> 973\u001b[0m X \u001b[38;5;241m=\u001b[39m \u001b[38;5;28;43mself\u001b[39;49m\u001b[38;5;241;43m.\u001b[39;49m\u001b[43m_validate_data\u001b[49m\u001b[43m(\u001b[49m\n\u001b[0;32m    974\u001b[0m \u001b[43m    \u001b[49m\u001b[43mX\u001b[49m\u001b[43m,\u001b[49m\n\u001b[0;32m    975\u001b[0m \u001b[43m    \u001b[49m\u001b[43mreset\u001b[49m\u001b[38;5;241;43m=\u001b[39;49m\u001b[38;5;28;43;01mFalse\u001b[39;49;00m\u001b[43m,\u001b[49m\n\u001b[0;32m    976\u001b[0m \u001b[43m    \u001b[49m\u001b[43maccept_sparse\u001b[49m\u001b[38;5;241;43m=\u001b[39;49m\u001b[38;5;124;43m\"\u001b[39;49m\u001b[38;5;124;43mcsr\u001b[39;49m\u001b[38;5;124;43m\"\u001b[39;49m\u001b[43m,\u001b[49m\n\u001b[0;32m    977\u001b[0m \u001b[43m    \u001b[49m\u001b[43mcopy\u001b[49m\u001b[38;5;241;43m=\u001b[39;49m\u001b[43mcopy\u001b[49m\u001b[43m,\u001b[49m\n\u001b[0;32m    978\u001b[0m \u001b[43m    \u001b[49m\u001b[43mestimator\u001b[49m\u001b[38;5;241;43m=\u001b[39;49m\u001b[38;5;28;43mself\u001b[39;49m\u001b[43m,\u001b[49m\n\u001b[0;32m    979\u001b[0m \u001b[43m    \u001b[49m\u001b[43mdtype\u001b[49m\u001b[38;5;241;43m=\u001b[39;49m\u001b[43mFLOAT_DTYPES\u001b[49m\u001b[43m,\u001b[49m\n\u001b[0;32m    980\u001b[0m \u001b[43m    \u001b[49m\u001b[43mforce_all_finite\u001b[49m\u001b[38;5;241;43m=\u001b[39;49m\u001b[38;5;124;43m\"\u001b[39;49m\u001b[38;5;124;43mallow-nan\u001b[39;49m\u001b[38;5;124;43m\"\u001b[39;49m\u001b[43m,\u001b[49m\n\u001b[0;32m    981\u001b[0m \u001b[43m\u001b[49m\u001b[43m)\u001b[49m\n\u001b[0;32m    983\u001b[0m \u001b[38;5;28;01mif\u001b[39;00m sparse\u001b[38;5;241m.\u001b[39missparse(X):\n\u001b[0;32m    984\u001b[0m     \u001b[38;5;28;01mif\u001b[39;00m \u001b[38;5;28mself\u001b[39m\u001b[38;5;241m.\u001b[39mwith_mean:\n",
      "File \u001b[1;32m~\\anaconda3\\lib\\site-packages\\sklearn\\base.py:585\u001b[0m, in \u001b[0;36mBaseEstimator._validate_data\u001b[1;34m(self, X, y, reset, validate_separately, **check_params)\u001b[0m\n\u001b[0;32m    582\u001b[0m     out \u001b[38;5;241m=\u001b[39m X, y\n\u001b[0;32m    584\u001b[0m \u001b[38;5;28;01mif\u001b[39;00m \u001b[38;5;129;01mnot\u001b[39;00m no_val_X \u001b[38;5;129;01mand\u001b[39;00m check_params\u001b[38;5;241m.\u001b[39mget(\u001b[38;5;124m\"\u001b[39m\u001b[38;5;124mensure_2d\u001b[39m\u001b[38;5;124m\"\u001b[39m, \u001b[38;5;28;01mTrue\u001b[39;00m):\n\u001b[1;32m--> 585\u001b[0m     \u001b[38;5;28;43mself\u001b[39;49m\u001b[38;5;241;43m.\u001b[39;49m\u001b[43m_check_n_features\u001b[49m\u001b[43m(\u001b[49m\u001b[43mX\u001b[49m\u001b[43m,\u001b[49m\u001b[43m \u001b[49m\u001b[43mreset\u001b[49m\u001b[38;5;241;43m=\u001b[39;49m\u001b[43mreset\u001b[49m\u001b[43m)\u001b[49m\n\u001b[0;32m    587\u001b[0m \u001b[38;5;28;01mreturn\u001b[39;00m out\n",
      "File \u001b[1;32m~\\anaconda3\\lib\\site-packages\\sklearn\\base.py:400\u001b[0m, in \u001b[0;36mBaseEstimator._check_n_features\u001b[1;34m(self, X, reset)\u001b[0m\n\u001b[0;32m    397\u001b[0m     \u001b[38;5;28;01mreturn\u001b[39;00m\n\u001b[0;32m    399\u001b[0m \u001b[38;5;28;01mif\u001b[39;00m n_features \u001b[38;5;241m!=\u001b[39m \u001b[38;5;28mself\u001b[39m\u001b[38;5;241m.\u001b[39mn_features_in_:\n\u001b[1;32m--> 400\u001b[0m     \u001b[38;5;28;01mraise\u001b[39;00m \u001b[38;5;167;01mValueError\u001b[39;00m(\n\u001b[0;32m    401\u001b[0m         \u001b[38;5;124mf\u001b[39m\u001b[38;5;124m\"\u001b[39m\u001b[38;5;124mX has \u001b[39m\u001b[38;5;132;01m{\u001b[39;00mn_features\u001b[38;5;132;01m}\u001b[39;00m\u001b[38;5;124m features, but \u001b[39m\u001b[38;5;132;01m{\u001b[39;00m\u001b[38;5;28mself\u001b[39m\u001b[38;5;241m.\u001b[39m\u001b[38;5;18m__class__\u001b[39m\u001b[38;5;241m.\u001b[39m\u001b[38;5;18m__name__\u001b[39m\u001b[38;5;132;01m}\u001b[39;00m\u001b[38;5;124m \u001b[39m\u001b[38;5;124m\"\u001b[39m\n\u001b[0;32m    402\u001b[0m         \u001b[38;5;124mf\u001b[39m\u001b[38;5;124m\"\u001b[39m\u001b[38;5;124mis expecting \u001b[39m\u001b[38;5;132;01m{\u001b[39;00m\u001b[38;5;28mself\u001b[39m\u001b[38;5;241m.\u001b[39mn_features_in_\u001b[38;5;132;01m}\u001b[39;00m\u001b[38;5;124m features as input.\u001b[39m\u001b[38;5;124m\"\u001b[39m\n\u001b[0;32m    403\u001b[0m     )\n",
      "\u001b[1;31mValueError\u001b[0m: X has 194 features, but StandardScaler is expecting 192 features as input."
     ]
    }
   ],
   "source": [
    "# Setting the transforming the test_data variables\n",
    "test_clean = ss.transform(test_set_dum)\n",
    "\n",
    "# Predict sale prices using Regression\n",
    "lasso_pred = lasso.predict(test_clean)\n",
    "test_set['saleprice'] = lasso_pred"
   ]
  },
  {
   "cell_type": "code",
   "execution_count": null,
   "id": "213d4993",
   "metadata": {},
   "outputs": [],
   "source": [
    "# Sanity check - pred comparison to train data\n",
    "display(train['saleprice'].describe())\n",
    "test_set['saleprice'].describe()"
   ]
  },
  {
   "cell_type": "code",
   "execution_count": null,
   "id": "caefd153",
   "metadata": {},
   "outputs": [],
   "source": [
    "# Prep for export\n",
    "test_export = test_raw[['id']]\n",
    "test_export['saleprice'] = test_set['saleprice']\n",
    "test_export.to_csv(\"datasets/test_results.csv\")"
   ]
  }
 ],
 "metadata": {
  "kernelspec": {
   "display_name": "Python 3 (ipykernel)",
   "language": "python",
   "name": "python3"
  },
  "language_info": {
   "codemirror_mode": {
    "name": "ipython",
    "version": 3
   },
   "file_extension": ".py",
   "mimetype": "text/x-python",
   "name": "python",
   "nbconvert_exporter": "python",
   "pygments_lexer": "ipython3",
   "version": "3.9.12"
  }
 },
 "nbformat": 4,
 "nbformat_minor": 5
}
